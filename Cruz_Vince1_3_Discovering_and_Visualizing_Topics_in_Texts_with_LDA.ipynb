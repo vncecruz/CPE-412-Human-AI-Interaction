{
  "cells": [
    {
      "cell_type": "markdown",
      "metadata": {
        "id": "view-in-github",
        "colab_type": "text"
      },
      "source": [
        "<a href=\"https://colab.research.google.com/github/vncecruz/CPE-412-Human-AI-Interaction/blob/main/Cruz_Vince1_3_Discovering_and_Visualizing_Topics_in_Texts_with_LDA.ipynb\" target=\"_parent\"><img src=\"https://colab.research.google.com/assets/colab-badge.svg\" alt=\"Open In Colab\"/></a>"
      ]
    },
    {
      "cell_type": "markdown",
      "metadata": {
        "id": "k4ta5CmOeo7d"
      },
      "source": [
        "#Submission Details\n",
        "\n",
        "Name: Vince Joseph B. Cruz<br>\n",
        "Course and Section:  CPE 412-CPE31S4 - Human-AI Interaction  <br>\n",
        "Date of Submission: September 14, 2024 <br>\n",
        "Instructor: Engr. Roman Richard<br>\n",
        "\n",
        "---"
      ]
    },
    {
      "cell_type": "markdown",
      "metadata": {
        "id": "4Ize84sl0vt1"
      },
      "source": [
        "# Discovering and Visualizing Topics in Texts"
      ]
    },
    {
      "cell_type": "markdown",
      "metadata": {
        "id": "LNQn4Jnj0vt4"
      },
      "source": [
        "The most classic applications of Natural Language Processing involve supervised Machine Learning. In the most typical cases of text classification, named entity recognition, question answering, etc., NLPers have access to a collection of texts with their labels. However, in real-life scenario's, we're often less lucky. Many text collections do not come with metadata labels that tell you what the texts are about. When people answer open-ended survey questions, for example, they don't tag their answer with the topics they discuss. In such cases, we can make use of unsupervised techniques we call topic models."
      ]
    },
    {
      "cell_type": "markdown",
      "metadata": {
        "id": "CmnFVZTt0vt4"
      },
      "source": [
        "Topic models are a family of models that are able to discover the topics in a collection of texts. In this context, \"topics\" refers to groups of related words that often occur together in the same text. For example, in a collection of newspaper articles a topic model may identify one topic that is made up of words such as \"politician\", \"law\", and \"parliament\", and another characterized by words such as \"player\", \"match\" and \"penalty\". Topic models can only find such clusters of related words; it is our task as humans to interpret these topics and give them labels such as \"politics\" and \"football\".\n",
        "\n",
        "One of the most popular such models is Latent Dirichlet Allocation (LDA). LDA is a generative model that sees every text as a mixture of topics. Each of these topics are responsible for some of the words in the text. For example, the \"football\" topic will generate the word \"penalty\" with a high probability, while the \"politics\" topic will have a much higher probability for \"politician\" than for \"penalty\". Other words, such as \"the\" and \"an\", will have similar probabilities in all topics. LDA takes its name from the Dirichlet probability distribution. This is the prior distribution it assumes the topics in a text will have."
      ]
    },
    {
      "cell_type": "markdown",
      "metadata": {
        "id": "lu8yXez-0vt4"
      },
      "source": [
        "## Data"
      ]
    },
    {
      "cell_type": "markdown",
      "metadata": {
        "id": "pRz5Srsg0vt5"
      },
      "source": [
        "One of the contexts where topic modelling is extremely useful is that of open-ended survey questions. It allows us to explore the variation in topics that people's answers contain. As our example data set, let's therefore take a look at an extensive set of answers from the Grand Débat National in France, the public debate organized by president Macron. The goal of the debate was to better understand the French people's needs and opinions after the mass demonstrations of the Yellow vests movement. The results of this debate are now [available as open data](https://granddebat.fr/pages/donnees-ouvertes). For our experiments, we'll download one of the csv files about the ecological transition and load the contents into a [pandas](https://pandas.pydata.org/) dataframe."
      ]
    },
    {
      "cell_type": "code",
      "execution_count": null,
      "metadata": {
        "colab": {
          "base_uri": "https://localhost:8080/"
        },
        "id": "irFo0c4y0vt5",
        "outputId": "d61da340-8605-4595-9fdb-253dc1e48b89"
      },
      "outputs": [
        {
          "output_type": "stream",
          "name": "stdout",
          "text": [
            "Populating the interactive namespace from numpy and matplotlib\n"
          ]
        },
        {
          "output_type": "stream",
          "name": "stderr",
          "text": [
            "/usr/local/lib/python3.10/dist-packages/IPython/core/magics/pylab.py:159: UserWarning: pylab import has clobbered these variables: ['f']\n",
            "`%matplotlib` prevents importing * from pylab and numpy\n",
            "  warn(\"pylab import has clobbered these variables: %s\"  % clobbered +\n",
            "<ipython-input-10-44b05e89e536>:5: DtypeWarning: Columns (7) have mixed types. Specify dtype option on import or set low_memory=False.\n",
            "  df = pd.read_csv(f, on_bad_lines='skip')\n"
          ]
        }
      ],
      "source": [
        "%pylab inline\n",
        "import pandas as pd\n",
        "\n",
        "f = \"/content/LA_TRANSITION_ECOLOGIQUE.csv\"\n",
        "df = pd.read_csv(f, on_bad_lines='skip')"
      ]
    },
    {
      "cell_type": "markdown",
      "metadata": {
        "id": "xCcCPdiN0vt6"
      },
      "source": [
        "Each of the rows in this data frame contains some metadata and a respondent's answers to a list of questions about the ecological transition. Some of these questions are multiple choice, while other ones are open-ended."
      ]
    },
    {
      "cell_type": "code",
      "execution_count": null,
      "metadata": {
        "colab": {
          "base_uri": "https://localhost:8080/"
        },
        "id": "krYmvyhR0vt6",
        "outputId": "02a446fe-2338-488e-e6f5-f476f961d2a0"
      },
      "outputs": [
        {
          "output_type": "execute_result",
          "data": {
            "text/plain": [
              "Index(['id', 'reference', 'title', 'createdAt', 'publishedAt', 'updatedAt',\n",
              "       'trashed', 'trashedStatus', 'authorId', 'authorType', 'authorZipCode',\n",
              "       'QUXVlc3Rpb246MTYw - Quel est aujourd'hui pour vous le problème concret le plus important dans le domaine de l'environnement ?',\n",
              "       'QUXVlc3Rpb246MTYx - Que faudrait-il faire selon vous pour apporter des réponses à ce problème ?',\n",
              "       'QUXVlc3Rpb246MTQ2 - Diriez-vous que votre vie quotidienne est aujourd'hui touchée par le changement climatique ?',\n",
              "       'QUXVlc3Rpb246MTQ3 - Si oui, de quelle manière votre vie quotidienne est-elle touchée par le changement climatique ?',\n",
              "       'QUXVlc3Rpb246MTQ4 - À titre personnel, pensez-vous pouvoir contribuer à protéger l'environnement ?',\n",
              "       'QUXVlc3Rpb246MTQ5 - Si oui, que faites-vous aujourd'hui pour protéger l'environnement et/ou que pourriez-vous faire ?',\n",
              "       'QUXVlc3Rpb246MTUw - Qu'est-ce qui pourrait vous inciter à changer vos comportements comme par exemple mieux entretenir et régler votre chauffage, modifier votre manière de conduire ou renoncer à prendre votre véhicule pour de très petites distances ?',\n",
              "       'QUXVlc3Rpb246MTUx - Quelles seraient pour vous les solutions les plus simples et les plus supportables sur un plan financier pour vous inciter à changer vos comportements ?',\n",
              "       'QUXVlc3Rpb246MTUy - Par rapport à votre mode de chauffage actuel, pensez-vous qu'il existe des solutions alternatives plus écologiques ?',\n",
              "       'QUXVlc3Rpb246MTUz - Si oui, que faudrait-il faire pour vous convaincre ou vous aider à changer de mode de chauffage ?',\n",
              "       'QUXVlc3Rpb246MTU0 - Avez-vous pour vos déplacements quotidiens la possibilité de recourir à des solutions de mobilité alternatives à la voiture individuelle comme les transports en commun, le covoiturage, l'auto-partage, le transport à la demande, le vélo, etc. ?',\n",
              "       'QUXVlc3Rpb246MTU1 - Si oui, que faudrait-il faire pour vous convaincre ou vous aider à utiliser ces solutions alternatives ?',\n",
              "       'QUXVlc3Rpb246MjA3 - Si non, quelles sont les solutions de mobilité alternatives que vous souhaiteriez pouvoir utiliser ?',\n",
              "       'QUXVlc3Rpb246MTU3 - Et qui doit selon vous se charger de vous proposer ce type de solutions alternatives ?',\n",
              "       'QUXVlc3Rpb246MTU4 - Que pourrait faire la France pour faire partager ses choix en matière d'environnement au niveau européen et international ?',\n",
              "       'QUXVlc3Rpb246MTU5 - Y a-t-il d'autres points sur la transition écologique sur lesquels vous souhaiteriez vous exprimer ?'],\n",
              "      dtype='object')"
            ]
          },
          "metadata": {},
          "execution_count": 11
        }
      ],
      "source": [
        "df.columns"
      ]
    },
    {
      "cell_type": "markdown",
      "metadata": {
        "id": "GNO90zLF0vt6"
      },
      "source": [
        "We'll focus on the last of the questions, which gives the most freedom to the respondents: it asks them whether they have any additional comments about the ecological transition. We hope LDA will help us analyze what topics their answers focus on. The first few answers to this question already give us an idea of the variety of topics people bring up: alternative energy sources (\"les centrales géothermiques\"), politics (\"une vrai politique écologique\") and education (\"pédagogie\")."
      ]
    },
    {
      "cell_type": "code",
      "execution_count": null,
      "metadata": {
        "colab": {
          "base_uri": "https://localhost:8080/",
          "height": 398
        },
        "id": "iPflnIOT0vt7",
        "outputId": "d30820cf-abd9-4fd6-e634-29a9dd1be2fa"
      },
      "outputs": [
        {
          "output_type": "execute_result",
          "data": {
            "text/plain": [
              "0                                                  NaN\n",
              "1    Les problèmes auxquels se trouve confronté l’e...\n",
              "2      Les dérèglements climatiques (crue, sécheresse)\n",
              "3                                La pollution de l'air\n",
              "4    La biodiversité et la disparition de certaines...\n",
              "5                                La pollution de l'air\n",
              "6    La biodiversité et la disparition de certaines...\n",
              "7                                La pollution de l'air\n",
              "8                                La pollution de l'air\n",
              "9                                                  NaN\n",
              "Name: QUXVlc3Rpb246MTYw - Quel est aujourd'hui pour vous le problème concret le plus important dans le domaine de l'environnement ?, dtype: object"
            ],
            "text/html": [
              "<div>\n",
              "<style scoped>\n",
              "    .dataframe tbody tr th:only-of-type {\n",
              "        vertical-align: middle;\n",
              "    }\n",
              "\n",
              "    .dataframe tbody tr th {\n",
              "        vertical-align: top;\n",
              "    }\n",
              "\n",
              "    .dataframe thead th {\n",
              "        text-align: right;\n",
              "    }\n",
              "</style>\n",
              "<table border=\"1\" class=\"dataframe\">\n",
              "  <thead>\n",
              "    <tr style=\"text-align: right;\">\n",
              "      <th></th>\n",
              "      <th>QUXVlc3Rpb246MTYw - Quel est aujourd'hui pour vous le problème concret le plus important dans le domaine de l'environnement ?</th>\n",
              "    </tr>\n",
              "  </thead>\n",
              "  <tbody>\n",
              "    <tr>\n",
              "      <th>0</th>\n",
              "      <td>NaN</td>\n",
              "    </tr>\n",
              "    <tr>\n",
              "      <th>1</th>\n",
              "      <td>Les problèmes auxquels se trouve confronté l’e...</td>\n",
              "    </tr>\n",
              "    <tr>\n",
              "      <th>2</th>\n",
              "      <td>Les dérèglements climatiques (crue, sécheresse)</td>\n",
              "    </tr>\n",
              "    <tr>\n",
              "      <th>3</th>\n",
              "      <td>La pollution de l'air</td>\n",
              "    </tr>\n",
              "    <tr>\n",
              "      <th>4</th>\n",
              "      <td>La biodiversité et la disparition de certaines...</td>\n",
              "    </tr>\n",
              "    <tr>\n",
              "      <th>5</th>\n",
              "      <td>La pollution de l'air</td>\n",
              "    </tr>\n",
              "    <tr>\n",
              "      <th>6</th>\n",
              "      <td>La biodiversité et la disparition de certaines...</td>\n",
              "    </tr>\n",
              "    <tr>\n",
              "      <th>7</th>\n",
              "      <td>La pollution de l'air</td>\n",
              "    </tr>\n",
              "    <tr>\n",
              "      <th>8</th>\n",
              "      <td>La pollution de l'air</td>\n",
              "    </tr>\n",
              "    <tr>\n",
              "      <th>9</th>\n",
              "      <td>NaN</td>\n",
              "    </tr>\n",
              "  </tbody>\n",
              "</table>\n",
              "</div><br><label><b>dtype:</b> object</label>"
            ]
          },
          "metadata": {},
          "execution_count": 13
        }
      ],
      "source": [
        "question = \"QUXVlc3Rpb246MTYw - Quel est aujourd'hui pour vous le problème concret le plus important dans le domaine de l'environnement ?\"\n",
        "df[question].head(10)"
      ]
    },
    {
      "cell_type": "markdown",
      "metadata": {
        "id": "eQuN6R-I0vt7"
      },
      "source": [
        "## Preprocessing\n",
        "\n",
        "Before we train a topic model, we need to tokenize our texts. Let's do this with the [spaCy](https://spacy.io/) NLP library. Because we're only going to do some basic preprocessing, we don't need to download any of its statistical models. We'll just initialize a blank model for French instead."
      ]
    },
    {
      "cell_type": "code",
      "execution_count": null,
      "metadata": {
        "id": "uPxGTZWa0vt7"
      },
      "outputs": [],
      "source": [
        "import spacy\n",
        "\n",
        "nlp = spacy.blank(\"fr\")"
      ]
    },
    {
      "cell_type": "markdown",
      "metadata": {
        "id": "RkmTG8mh0vt7"
      },
      "source": [
        "First we remove all the rows from the data frame that don't have a response for our target question (the `NaN`s above), then we take all the texts in the target column. Next, we use spaCy to perform our first preprocessing pass."
      ]
    },
    {
      "cell_type": "code",
      "execution_count": null,
      "metadata": {
        "colab": {
          "base_uri": "https://localhost:8080/"
        },
        "id": "C66tZ3n-0vt7",
        "outputId": "1ba14e23-51af-4cd0-9b92-5101eb2c1568"
      },
      "outputs": [
        {
          "output_type": "stream",
          "name": "stdout",
          "text": [
            "CPU times: user 9.89 s, sys: 916 ms, total: 10.8 s\n",
            "Wall time: 11 s\n"
          ]
        }
      ],
      "source": [
        "texts = df[df[question].notnull()][question]\n",
        "%time spacy_docs = list(nlp.pipe(texts))"
      ]
    },
    {
      "cell_type": "markdown",
      "metadata": {
        "id": "khureprd0vt7"
      },
      "source": [
        "Now that we have a list of spaCy documents, we transform them to lists of tokens. Instead of the original tokens, we're going to work with the lemmas instead. This will allow our model to generalize better, as it will be able to see that \"géothermiques\" and \"géothermique\" are actually just two forms of the same words. This is the full list of our initial preprocessing steps:\n",
        "\n",
        "- we remove all words shorter than 3 characters (these are often fairly uninteresting from a topical point of view),\n",
        "- we drop all stopwords, and\n",
        "- we take them lemmas of the remaining words and lowercase them."
      ]
    },
    {
      "cell_type": "code",
      "execution_count": null,
      "metadata": {
        "id": "mbXz5eWi0vt7",
        "outputId": "9acb470d-8c9a-40ad-e075-ab331ea228fd"
      },
      "outputs": [
        {
          "name": "stdout",
          "output_type": "stream",
          "text": [
            "[['multiplier', 'centrale', 'géothermique'], ['problème', 'trouver', 'confronter', 'ensemble', 'planète', 'dénoncer', 'parfaire', 'désordre', 'gilet', 'jaune', 'france', 'surpopulation', 'mondial', 'cette', 'population', 'passer', 'd’1,5', 'milliard', 'habitant', '1900', 'milliard', '2020', 'monter', 'bientôt', 'milliard', '2040', 'avec', 'progrès', 'communication', 'village', 'mondial', 'individu', 'fondre', 'asie', 'fondre', 'afrique', 'passer', 'quartier', 'campagne', 'pays', 'aspirer', 'vivre', 'blâmer', 'lotir', 'concitoyen', 'logement', 'nourriture', 'bien', 'consommation', 'déplacement', 'voilà', 'mère', 'problème', 'solution', 'problème', 'stabilisation', 'croissance', 'démographique', 'partager', 'richesse', 'partager', 'terrer', 'partager', 'protection', 'biodiversité', 'règlement', 'conflit', 'lutter', 'déforestation', 'lutter', 'dérèglement', 'climatique', 'règlement', 'conflit', 'stabilisation', 'migration', 'concurrencer', 'commercial', 'mondial', 'etc.', 'français', 'européen', 'mondial', 'france', 'jouer', 'rôle', 'moteur', 'autour', 'dérouler', 'grand', 'débattre', 'paraître', 'anecdotique'], ['vrai', 'politique', 'écologique', 'économique']]\n"
          ]
        }
      ],
      "source": [
        "docs = [[t.lemma_.lower() for t in doc if len(t.orth_) > 3 and not t.is_stop] for doc in spacy_docs]\n",
        "print(docs[:3])"
      ]
    },
    {
      "cell_type": "markdown",
      "metadata": {
        "id": "NRaKgo550vt8"
      },
      "source": [
        "Next, we also want to take frequent bigrams into account. After all, French has many multiword units, such as \"poids lourds\" (trucks) that actually form one word rather than two. This is the first step where we use the [Gensim](https://radimrehurek.com/gensim/) library, a great NLP library for topic modelling. First we identify the frequent bigrams in the corpus, then we append them to the list of tokens for the documents in which they appear. This means the bigrams will not be in their correct position in the text, but that's fine: topic models are bag-of-word models that ignore word position anyway."
      ]
    },
    {
      "cell_type": "code",
      "execution_count": null,
      "metadata": {
        "id": "U7gKVCTD0vt8"
      },
      "outputs": [],
      "source": [
        "import re\n",
        "from gensim.models import Phrases\n",
        "\n",
        "bigram = Phrases(docs, min_count=10)\n",
        "\n",
        "for idx in range(len(docs)):\n",
        "    for token in bigram[docs[idx]]:\n",
        "        if '_' in token:  # bigrams can be recognized by the \"_\" that joins the invidual words\n",
        "            docs[idx].append(token)"
      ]
    },
    {
      "cell_type": "code",
      "execution_count": null,
      "metadata": {
        "id": "rAQPgBvw0vt8",
        "outputId": "083ca84a-9c00-4b15-f7aa-5505b851a892"
      },
      "outputs": [
        {
          "data": {
            "text/plain": [
              "['vrai', 'politique', 'écologique', 'économique', 'vrai_politique']"
            ]
          },
          "execution_count": 8,
          "metadata": {},
          "output_type": "execute_result"
        }
      ],
      "source": [
        "docs[2]"
      ]
    },
    {
      "cell_type": "markdown",
      "metadata": {
        "id": "Oz8WzCqR0vt8"
      },
      "source": [
        "Next, we move on to the final Gensim-specific preprocessing steps. First, we create a dictionary representation of the documents. This dictionary will map each word to a unique ID and help us create bag-of-word representations of each document. These bag-of-word representations contain the ids of the words in the document, together with their frequency. Additionally, we can remove the least and most frequent words from the vocabulary. This improves the quality of our topic model and speeds up its training. The minimum frequency of a word is expressed as an absolute number, the maximum frequency is the proportion of documents a word is allowed to occur in."
      ]
    },
    {
      "cell_type": "code",
      "execution_count": null,
      "metadata": {
        "id": "1HRD-Nd30vt8",
        "outputId": "8df653d7-6f0e-4477-d14e-774835d3a974"
      },
      "outputs": [
        {
          "name": "stdout",
          "output_type": "stream",
          "text": [
            "Number of unique words in original documents: 30517\n",
            "Number of unique words after removing rare and common words: 11708\n",
            "Example representation of document 3: [(87, 1), (88, 1), (89, 1), (90, 1), (91, 1)]\n"
          ]
        }
      ],
      "source": [
        "from gensim.corpora import Dictionary\n",
        "\n",
        "dictionary = Dictionary(docs)\n",
        "print('Number of unique words in original documents:', len(dictionary))\n",
        "\n",
        "dictionary.filter_extremes(no_below=3, no_above=0.25)\n",
        "print('Number of unique words after removing rare and common words:', len(dictionary))\n",
        "\n",
        "print(\"Example representation of document 3:\", dictionary.doc2bow(docs[2]))"
      ]
    },
    {
      "cell_type": "markdown",
      "metadata": {
        "id": "Rn1TEB4N0vt8"
      },
      "source": [
        "Then we create bag-of-word representations for each document in the corpus:"
      ]
    },
    {
      "cell_type": "code",
      "execution_count": null,
      "metadata": {
        "id": "DCM5rgaa0vt8"
      },
      "outputs": [],
      "source": [
        "corpus = [dictionary.doc2bow(doc) for doc in docs]"
      ]
    },
    {
      "cell_type": "markdown",
      "metadata": {
        "id": "n3jpEwkO0vt8"
      },
      "source": [
        "## Training\n",
        "\n",
        "Now it's time to train our topic model. We do this with the following parameters:\n",
        "\n",
        "- corpus: the bag-of-word representations of our documents\n",
        "- id2token: the mapping from indices to words\n",
        "- num_topics: the number of topics we want the model to identify\n",
        "- chunksize: the number of documents the model sees for every update\n",
        "- passes: the number of times we show the total corpus to the model during training\n",
        "- random_state: we use a seed to ensure reproducibility.\n",
        "\n",
        "On a corpus of this size, the training will typically take one or two minutes."
      ]
    },
    {
      "cell_type": "code",
      "execution_count": null,
      "metadata": {
        "id": "yphD-rkb0vt8",
        "outputId": "8607ddc1-bf61-4566-f32a-499c6652198d"
      },
      "outputs": [
        {
          "name": "stdout",
          "output_type": "stream",
          "text": [
            "CPU times: user 1min 36s, sys: 1.42 s, total: 1min 37s\n",
            "Wall time: 55.3 s\n"
          ]
        }
      ],
      "source": [
        "from gensim.models import LdaModel\n",
        "\n",
        "%time model = LdaModel(corpus=corpus, id2word=dictionary, num_topics=10, chunksize=1000, passes=5, random_state=1)"
      ]
    },
    {
      "cell_type": "markdown",
      "metadata": {
        "id": "QiKeyOwl0vt9"
      },
      "source": [
        "## Results"
      ]
    },
    {
      "cell_type": "markdown",
      "metadata": {
        "id": "l0F-6Ryk0vt9"
      },
      "source": [
        "Let's take a look at what the model has learnt. We do this by printing out the ten words that are most characteristic for each of the topics. This shows some interesting patterns already: while some topics are more general (such as 3), others point to some very relevant recurring themes: electric vehicles (topic 1), (alternative) energy (topic 2), agriculture (topic 6), waste and recycling (topic 7) and taxes (topic 9)."
      ]
    },
    {
      "cell_type": "code",
      "execution_count": null,
      "metadata": {
        "id": "SCp3yIrJ0vt9",
        "outputId": "41ce6db6-a797-4077-ad5f-4756af01c42f"
      },
      "outputs": [
        {
          "name": "stdout",
          "output_type": "stream",
          "text": [
            "1 : 0.046*\"voiturer\" + 0.039*\"électrique\" + 0.035*\"véhiculer\" + 0.016*\"voiturer_électrique\" + 0.016*\"diesel\" + 0.013*\"batterie\" + 0.013*\"polluer\" + 0.012*\"solution\" + 0.011*\"faire\" + 0.010*\"exemple\"\n",
            "2 : 0.062*\"énergie\" + 0.038*\"nucléaire\" + 0.016*\"production\" + 0.016*\"renouvelable\" + 0.015*\"solaire\" + 0.015*\"développer\" + 0.014*\"éolien\" + 0.014*\"centrale\" + 0.014*\"électricité\" + 0.012*\"éolienne\"\n",
            "3 : 0.046*\"écologique\" + 0.041*\"transition\" + 0.025*\"transition_écologique\" + 0.022*\"falloir\" + 0.021*\"faire\" + 0.012*\"citoyen\" + 0.011*\"prendre\" + 0.010*\"taxer\" + 0.009*\"politique\" + 0.009*\"écologie\"\n",
            "4 : 0.027*\"ville\" + 0.016*\"zone\" + 0.014*\"france\" + 0.013*\"centrer\" + 0.013*\"grand\" + 0.010*\"pays\" + 0.010*\"commercial\" + 0.010*\"urbain\" + 0.010*\"pollution\" + 0.009*\"voir\"\n",
            "5 : 0.019*\"animal\" + 0.014*\"environnement\" + 0.012*\"public\" + 0.010*\"placer\" + 0.009*\"santé\" + 0.009*\"biodiversité\" + 0.007*\"protection\" + 0.007*\"mettre\" + 0.007*\"chasser\" + 0.007*\"environnemental\"\n",
            "6 : 0.063*\"produit\" + 0.027*\"agriculture\" + 0.025*\"taxer\" + 0.021*\"interdire\" + 0.017*\"pesticide\" + 0.017*\"france\" + 0.015*\"agriculteur\" + 0.014*\"aider\" + 0.013*\"étranger\" + 0.012*\"poids\"\n",
            "7 : 0.024*\"déchet\" + 0.022*\"emballage\" + 0.020*\"plastiquer\" + 0.015*\"consommation\" + 0.015*\"falloir\" + 0.013*\"produit\" + 0.013*\"faire\" + 0.011*\"consommer\" + 0.009*\"produire\" + 0.008*\"recyclage\"\n",
            "8 : 0.017*\"faire\" + 0.017*\"falloir\" + 0.016*\"nous\" + 0.015*\"planète\" + 0.013*\"monder\" + 0.013*\"sommer\" + 0.012*\"pays\" + 0.011*\"problème\" + 0.010*\"arrêter\" + 0.010*\"croissance\"\n",
            "9 : 0.043*\"transport\" + 0.039*\"taxer\" + 0.013*\"favoriser\" + 0.012*\"développer\" + 0.011*\"carbone\" + 0.010*\"placer\" + 0.010*\"entreprise\" + 0.010*\"grand\" + 0.010*\"bâtiment\" + 0.009*\"gros\"\n",
            "10 : 0.012*\"aider\" + 0.010*\"pouvoir\" + 0.010*\"travail\" + 0.008*\"permettre\" + 0.008*\"prix\" + 0.008*\"impôt\" + 0.007*\"faire\" + 0.007*\"coût\" + 0.007*\"vitesse\" + 0.007*\"router\"\n"
          ]
        }
      ],
      "source": [
        "for (topic, words) in model.print_topics():\n",
        "    print(topic+1, \":\", words)"
      ]
    },
    {
      "cell_type": "markdown",
      "metadata": {
        "id": "v21ezw860vt9"
      },
      "source": [
        "Another way of inspecting the topics is by visualizing them. This can be done with the [pyLDAvis](https://github.com/bmabey/pyLDAvis) library. PyLDAvis will show us how popular the topics are in our corpus, how similar the topics are, and which are the most salient words for this topic. Note it's important to set sort_topics=False on the call to pyLDAvis. If you don't, it will order the topics differently than Gensim."
      ]
    },
    {
      "cell_type": "code",
      "execution_count": null,
      "metadata": {
        "id": "Qr45FPlv0vt9",
        "outputId": "af3fb444-4179-4d65-f91b-982490147468"
      },
      "outputs": [
        {
          "name": "stderr",
          "output_type": "stream",
          "text": [
            "/Users/yvespeirsman/anaconda3/lib/python3.6/site-packages/pyLDAvis/_prepare.py:257: FutureWarning: Sorting because non-concatenation axis is not aligned. A future version\n",
            "of pandas will change to not sort by default.\n",
            "\n",
            "To accept the future behavior, pass 'sort=False'.\n",
            "\n",
            "To retain the current behavior and silence the warning, pass 'sort=True'.\n",
            "\n",
            "  return pd.concat([default_term_info] + list(topic_dfs))\n"
          ]
        },
        {
          "data": {
            "text/html": [
              "\n",
              "<link rel=\"stylesheet\" type=\"text/css\" href=\"https://cdn.rawgit.com/bmabey/pyLDAvis/files/ldavis.v1.0.0.css\">\n",
              "\n",
              "\n",
              "<div id=\"ldavis_el16911129722652966510436823\"></div>\n",
              "<script type=\"text/javascript\">\n",
              "\n",
              "var ldavis_el16911129722652966510436823_data = {\"mdsDat\": {\"x\": [0.12724767503663106, -0.0024887364628425417, 0.1754012391578016, -0.009994413884702628, -0.03139644638720304, -0.2518302767610275, -0.04785152612101769, 0.2360688499212826, -0.24300842613161713, 0.047852061632695016], \"y\": [0.10933336095826568, 0.15652173071478753, -0.0985882978113815, 0.21161481111165706, -0.12452364999031838, -0.12442673669345788, -0.1539338843340683, -0.05434120550033438, 0.09504914215347621, -0.016705270608625804], \"topics\": [1, 2, 3, 4, 5, 6, 7, 8, 9, 10], \"cluster\": [1, 1, 1, 1, 1, 1, 1, 1, 1, 1], \"Freq\": [9.509105682373047, 10.495716094970703, 15.727886199951172, 6.35699462890625, 12.545723915100098, 6.5800018310546875, 7.2386393547058105, 9.333691596984863, 9.819953918457031, 12.392287254333496]}, \"tinfo\": {\"Category\": [\"Default\", \"Default\", \"Default\", \"Default\", \"Default\", \"Default\", \"Default\", \"Default\", \"Default\", \"Default\", \"Default\", \"Default\", \"Default\", \"Default\", \"Default\", \"Default\", \"Default\", \"Default\", \"Default\", \"Default\", \"Default\", \"Default\", \"Default\", \"Default\", \"Default\", \"Default\", \"Default\", \"Default\", \"Default\", \"Default\", \"Topic1\", \"Topic1\", \"Topic1\", \"Topic1\", \"Topic1\", \"Topic1\", \"Topic1\", \"Topic1\", \"Topic1\", \"Topic1\", \"Topic1\", \"Topic1\", \"Topic1\", \"Topic1\", \"Topic1\", \"Topic1\", \"Topic1\", \"Topic1\", \"Topic1\", \"Topic1\", \"Topic1\", \"Topic1\", \"Topic1\", \"Topic1\", \"Topic1\", \"Topic1\", \"Topic1\", \"Topic1\", \"Topic1\", \"Topic1\", \"Topic1\", \"Topic1\", \"Topic1\", \"Topic1\", \"Topic1\", \"Topic1\", \"Topic1\", \"Topic1\", \"Topic1\", \"Topic1\", \"Topic1\", \"Topic1\", \"Topic1\", \"Topic1\", \"Topic1\", \"Topic1\", \"Topic1\", \"Topic1\", \"Topic1\", \"Topic1\", \"Topic1\", \"Topic1\", \"Topic1\", \"Topic1\", \"Topic1\", \"Topic1\", \"Topic1\", \"Topic1\", \"Topic1\", \"Topic1\", \"Topic2\", \"Topic2\", \"Topic2\", \"Topic2\", \"Topic2\", \"Topic2\", \"Topic2\", \"Topic2\", \"Topic2\", \"Topic2\", \"Topic2\", \"Topic2\", \"Topic2\", \"Topic2\", \"Topic2\", \"Topic2\", \"Topic2\", \"Topic2\", \"Topic2\", \"Topic2\", \"Topic2\", \"Topic2\", \"Topic2\", \"Topic2\", \"Topic2\", \"Topic2\", \"Topic2\", \"Topic2\", \"Topic2\", \"Topic2\", \"Topic2\", \"Topic2\", \"Topic2\", \"Topic2\", \"Topic2\", \"Topic2\", \"Topic2\", \"Topic2\", \"Topic2\", \"Topic2\", \"Topic2\", \"Topic2\", \"Topic2\", \"Topic2\", \"Topic2\", \"Topic2\", \"Topic2\", \"Topic2\", \"Topic2\", \"Topic2\", \"Topic2\", \"Topic2\", \"Topic2\", \"Topic2\", \"Topic2\", \"Topic2\", \"Topic3\", \"Topic3\", \"Topic3\", \"Topic3\", \"Topic3\", \"Topic3\", \"Topic3\", \"Topic3\", \"Topic3\", \"Topic3\", \"Topic3\", \"Topic3\", \"Topic3\", \"Topic3\", \"Topic3\", \"Topic3\", \"Topic3\", \"Topic3\", \"Topic3\", \"Topic3\", \"Topic3\", \"Topic3\", \"Topic3\", \"Topic3\", \"Topic3\", \"Topic3\", \"Topic3\", \"Topic3\", \"Topic3\", \"Topic3\", \"Topic3\", \"Topic3\", \"Topic3\", \"Topic3\", \"Topic3\", \"Topic3\", \"Topic3\", \"Topic3\", \"Topic3\", \"Topic3\", \"Topic3\", \"Topic3\", \"Topic3\", \"Topic3\", \"Topic3\", \"Topic3\", \"Topic3\", \"Topic3\", \"Topic3\", \"Topic3\", \"Topic3\", \"Topic3\", \"Topic3\", \"Topic3\", \"Topic3\", \"Topic3\", \"Topic3\", \"Topic3\", \"Topic3\", \"Topic3\", \"Topic3\", \"Topic3\", \"Topic3\", \"Topic3\", \"Topic3\", \"Topic3\", \"Topic3\", \"Topic3\", \"Topic3\", \"Topic3\", \"Topic4\", \"Topic4\", \"Topic4\", \"Topic4\", \"Topic4\", \"Topic4\", \"Topic4\", \"Topic4\", \"Topic4\", \"Topic4\", \"Topic4\", \"Topic4\", \"Topic4\", \"Topic4\", \"Topic4\", \"Topic4\", \"Topic4\", \"Topic4\", \"Topic4\", \"Topic4\", \"Topic4\", \"Topic4\", \"Topic4\", \"Topic4\", \"Topic4\", \"Topic4\", \"Topic4\", \"Topic4\", \"Topic4\", \"Topic4\", \"Topic4\", \"Topic4\", \"Topic4\", \"Topic4\", \"Topic4\", \"Topic4\", \"Topic4\", \"Topic4\", \"Topic4\", \"Topic4\", \"Topic4\", \"Topic4\", \"Topic4\", \"Topic4\", \"Topic4\", \"Topic4\", \"Topic4\", \"Topic4\", \"Topic4\", \"Topic4\", \"Topic4\", \"Topic4\", \"Topic4\", \"Topic4\", \"Topic4\", \"Topic4\", \"Topic4\", \"Topic4\", \"Topic4\", \"Topic4\", \"Topic4\", \"Topic4\", \"Topic4\", \"Topic5\", \"Topic5\", \"Topic5\", \"Topic5\", \"Topic5\", \"Topic5\", \"Topic5\", \"Topic5\", \"Topic5\", \"Topic5\", \"Topic5\", \"Topic5\", \"Topic5\", \"Topic5\", \"Topic5\", \"Topic5\", \"Topic5\", \"Topic5\", \"Topic5\", \"Topic5\", \"Topic5\", \"Topic5\", \"Topic5\", \"Topic5\", \"Topic5\", \"Topic5\", \"Topic5\", \"Topic5\", \"Topic5\", \"Topic5\", \"Topic5\", \"Topic5\", \"Topic5\", \"Topic5\", \"Topic5\", \"Topic5\", \"Topic5\", \"Topic5\", \"Topic5\", \"Topic5\", \"Topic5\", \"Topic5\", \"Topic5\", \"Topic5\", \"Topic5\", \"Topic5\", \"Topic5\", \"Topic5\", \"Topic5\", \"Topic5\", \"Topic5\", \"Topic5\", \"Topic5\", \"Topic5\", \"Topic5\", \"Topic5\", \"Topic5\", \"Topic5\", \"Topic5\", \"Topic5\", \"Topic5\", \"Topic5\", \"Topic5\", \"Topic5\", \"Topic5\", \"Topic5\", \"Topic6\", \"Topic6\", \"Topic6\", \"Topic6\", \"Topic6\", \"Topic6\", \"Topic6\", \"Topic6\", \"Topic6\", \"Topic6\", \"Topic6\", \"Topic6\", \"Topic6\", \"Topic6\", \"Topic6\", \"Topic6\", \"Topic6\", \"Topic6\", \"Topic6\", \"Topic6\", \"Topic6\", \"Topic6\", \"Topic6\", \"Topic6\", \"Topic6\", \"Topic6\", \"Topic6\", \"Topic6\", \"Topic6\", \"Topic6\", \"Topic6\", \"Topic6\", \"Topic6\", \"Topic6\", \"Topic6\", \"Topic6\", \"Topic6\", \"Topic6\", \"Topic6\", \"Topic6\", \"Topic6\", \"Topic6\", \"Topic6\", \"Topic6\", \"Topic6\", \"Topic6\", \"Topic6\", \"Topic6\", \"Topic6\", \"Topic6\", \"Topic6\", \"Topic6\", \"Topic6\", \"Topic6\", \"Topic6\", \"Topic6\", \"Topic6\", \"Topic6\", \"Topic6\", \"Topic6\", \"Topic6\", \"Topic6\", \"Topic6\", \"Topic6\", \"Topic6\", \"Topic7\", \"Topic7\", \"Topic7\", \"Topic7\", \"Topic7\", \"Topic7\", \"Topic7\", \"Topic7\", \"Topic7\", \"Topic7\", \"Topic7\", \"Topic7\", \"Topic7\", \"Topic7\", \"Topic7\", \"Topic7\", \"Topic7\", \"Topic7\", \"Topic7\", \"Topic7\", \"Topic7\", \"Topic7\", \"Topic7\", \"Topic7\", \"Topic7\", \"Topic7\", \"Topic7\", \"Topic7\", \"Topic7\", \"Topic7\", \"Topic7\", \"Topic7\", \"Topic7\", \"Topic7\", \"Topic7\", \"Topic7\", \"Topic7\", \"Topic7\", \"Topic7\", \"Topic7\", \"Topic7\", \"Topic7\", \"Topic7\", \"Topic7\", \"Topic7\", \"Topic7\", \"Topic7\", \"Topic7\", \"Topic7\", \"Topic7\", \"Topic7\", \"Topic7\", \"Topic8\", \"Topic8\", \"Topic8\", \"Topic8\", \"Topic8\", \"Topic8\", \"Topic8\", \"Topic8\", \"Topic8\", \"Topic8\", \"Topic8\", \"Topic8\", \"Topic8\", \"Topic8\", \"Topic8\", \"Topic8\", \"Topic8\", \"Topic8\", \"Topic8\", \"Topic8\", \"Topic8\", \"Topic8\", \"Topic8\", \"Topic8\", \"Topic8\", \"Topic8\", \"Topic8\", \"Topic8\", \"Topic8\", \"Topic8\", \"Topic8\", \"Topic8\", \"Topic8\", \"Topic8\", \"Topic8\", \"Topic8\", \"Topic8\", \"Topic8\", \"Topic8\", \"Topic8\", \"Topic8\", \"Topic8\", \"Topic8\", \"Topic8\", \"Topic8\", \"Topic8\", \"Topic8\", \"Topic8\", \"Topic8\", \"Topic8\", \"Topic8\", \"Topic8\", \"Topic8\", \"Topic8\", \"Topic8\", \"Topic8\", \"Topic8\", \"Topic8\", \"Topic8\", \"Topic8\", \"Topic8\", \"Topic8\", \"Topic8\", \"Topic8\", \"Topic8\", \"Topic8\", \"Topic8\", \"Topic8\", \"Topic9\", \"Topic9\", \"Topic9\", \"Topic9\", \"Topic9\", \"Topic9\", \"Topic9\", \"Topic9\", \"Topic9\", \"Topic9\", \"Topic9\", \"Topic9\", \"Topic9\", \"Topic9\", \"Topic9\", \"Topic9\", \"Topic9\", \"Topic9\", \"Topic9\", \"Topic9\", \"Topic9\", \"Topic9\", \"Topic9\", \"Topic9\", \"Topic9\", \"Topic9\", \"Topic9\", \"Topic9\", \"Topic9\", \"Topic9\", \"Topic9\", \"Topic9\", \"Topic9\", \"Topic9\", \"Topic9\", \"Topic9\", \"Topic9\", \"Topic9\", \"Topic9\", \"Topic9\", \"Topic9\", \"Topic9\", \"Topic9\", \"Topic9\", \"Topic9\", \"Topic9\", \"Topic9\", \"Topic9\", \"Topic9\", \"Topic9\", \"Topic9\", \"Topic9\", \"Topic9\", \"Topic9\", \"Topic9\", \"Topic9\", \"Topic9\", \"Topic9\", \"Topic9\", \"Topic9\", \"Topic9\", \"Topic9\", \"Topic10\", \"Topic10\", \"Topic10\", \"Topic10\", \"Topic10\", \"Topic10\", \"Topic10\", \"Topic10\", \"Topic10\", \"Topic10\", \"Topic10\", \"Topic10\", \"Topic10\", \"Topic10\", \"Topic10\", \"Topic10\", \"Topic10\", \"Topic10\", \"Topic10\", \"Topic10\", \"Topic10\", \"Topic10\", \"Topic10\", \"Topic10\", \"Topic10\", \"Topic10\", \"Topic10\", \"Topic10\", \"Topic10\", \"Topic10\", \"Topic10\", \"Topic10\", \"Topic10\", \"Topic10\", \"Topic10\", \"Topic10\", \"Topic10\", \"Topic10\", \"Topic10\", \"Topic10\", \"Topic10\", \"Topic10\", \"Topic10\", \"Topic10\", \"Topic10\", \"Topic10\", \"Topic10\", \"Topic10\", \"Topic10\", \"Topic10\", \"Topic10\", \"Topic10\", \"Topic10\", \"Topic10\", \"Topic10\", \"Topic10\", \"Topic10\", \"Topic10\", \"Topic10\", \"Topic10\", \"Topic10\", \"Topic10\", \"Topic10\", \"Topic10\", \"Topic10\", \"Topic10\", \"Topic10\", \"Topic10\", \"Topic10\", \"Topic10\", \"Topic10\", \"Topic10\", \"Topic10\", \"Topic10\"], \"Freq\": [5085.0, 4976.0, 4203.0, 6396.0, 3971.0, 3359.0, 5715.0, 3120.0, 3124.0, 3029.0, 3073.0, 1618.0, 1589.0, 1791.0, 1811.0, 1248.0, 2012.0, 3535.0, 1300.0, 1100.0, 1185.0, 1159.0, 6682.0, 1130.0, 2712.0, 2975.0, 1144.0, 2434.0, 1346.0, 1158.0, 1184.9842529296875, 1158.6734619140625, 684.35693359375, 478.0824890136719, 458.5931701660156, 359.7620849609375, 280.78546142578125, 265.5263977050781, 227.62322998046875, 222.39573669433594, 189.48281860351562, 184.75827026367188, 174.83677673339844, 172.093017578125, 144.85809326171875, 135.85862731933594, 129.15521240234375, 128.904541015625, 122.6334228515625, 123.47765350341797, 119.60868072509766, 118.76260375976562, 117.62600708007812, 113.74386596679688, 102.84454345703125, 101.30238342285156, 100.9312744140625, 98.98527526855469, 97.04198455810547, 96.15463256835938, 130.10873413085938, 980.7791137695312, 2844.193115234375, 268.1646423339844, 3340.89501953125, 2546.093505859375, 510.0313415527344, 659.6245727539062, 657.218994140625, 187.21044921875, 292.0129089355469, 526.9644165039062, 980.4758911132812, 903.730712890625, 250.18247985839844, 730.4882202148438, 406.68212890625, 504.115478515625, 427.3738098144531, 411.53179931640625, 805.8516235351562, 359.9456787109375, 447.0587158203125, 660.2100219726562, 493.954833984375, 589.270263671875, 434.57171630859375, 333.42108154296875, 315.10162353515625, 346.303466796875, 1299.36572265625, 1143.972900390625, 948.32177734375, 863.8618774414062, 844.243896484375, 618.1495971679688, 448.68963623046875, 387.7799987792969, 317.6191711425781, 302.9482421875, 236.256103515625, 233.4520263671875, 184.56927490234375, 167.4480438232422, 373.6468811035156, 159.60824584960938, 156.8287811279297, 147.37506103515625, 145.0115509033203, 136.4347381591797, 134.4027862548828, 3098.74169921875, 133.738037109375, 131.84719848632812, 131.34483337402344, 124.58597564697266, 119.00764465332031, 111.66305541992188, 110.09500885009766, 107.44805145263672, 5030.14794921875, 1140.8873291015625, 1139.8109130859375, 1199.501953125, 477.6596984863281, 282.17657470703125, 373.5580749511719, 279.1631774902344, 924.2449340820312, 306.08984375, 479.0229797363281, 1317.417724609375, 582.7044677734375, 510.82330322265625, 669.036865234375, 1183.870361328125, 588.3684692382812, 407.9532165527344, 589.9158935546875, 585.163330078125, 685.31689453125, 776.53955078125, 856.7315673828125, 512.3385009765625, 496.2039794921875, 413.8993835449219, 4975.421875, 3072.093505859375, 363.37506103515625, 315.3191223144531, 245.44839477539062, 214.46241760253906, 213.17947387695312, 200.85328674316406, 183.88685607910156, 168.82376098632812, 167.5161590576172, 134.1739044189453, 133.97972106933594, 127.4503173828125, 116.89800262451172, 112.98472595214844, 112.59658813476562, 107.53889465332031, 100.15744018554688, 91.8701171875, 91.3630599975586, 90.67945861816406, 90.33121490478516, 86.57495880126953, 86.96080780029297, 81.42546081542969, 80.73738861083984, 80.31401824951172, 79.7013168334961, 78.44353485107422, 5615.26806640625, 587.289306640625, 222.54757690429688, 108.7054672241211, 353.9285888671875, 292.77203369140625, 214.81973266601562, 375.67095947265625, 541.90869140625, 771.1554565429688, 1428.6427001953125, 245.01092529296875, 283.0343017578125, 1029.0736083984375, 572.636962890625, 615.9926147460938, 1013.6461181640625, 566.5802612304688, 1122.89697265625, 649.5700073242188, 2598.69970703125, 769.1339111328125, 2709.822998046875, 641.5922241210938, 1366.1729736328125, 916.4640502929688, 485.4573974609375, 977.0137939453125, 523.6287841796875, 507.52117919921875, 1192.5433349609375, 883.29443359375, 775.9046020507812, 626.546875, 508.0607604980469, 592.1211547851562, 658.7954711914062, 605.1395874023438, 560.80322265625, 526.0093383789062, 647.9773559570312, 315.2350769042969, 194.60069274902344, 182.0846405029297, 173.5498504638672, 158.76702880859375, 154.79185485839844, 154.14503479003906, 150.3087615966797, 143.43423461914062, 138.36178588867188, 137.42092895507812, 122.12406158447266, 145.2191619873047, 112.70927429199219, 108.4327163696289, 107.51856231689453, 101.47742462158203, 101.13873291015625, 100.02354431152344, 99.35326385498047, 99.06538391113281, 98.84564208984375, 98.20611572265625, 96.73505401611328, 95.22026824951172, 157.11184692382812, 94.28898620605469, 92.1686782836914, 91.31432342529297, 161.10711669921875, 161.08445739746094, 1337.0845947265625, 484.7633056640625, 315.1855773925781, 770.4498901367188, 490.3956298828125, 169.38839721679688, 164.065673828125, 360.56243896484375, 395.7853698730469, 379.75531005859375, 349.6488952636719, 291.2715148925781, 636.14501953125, 669.7356567382812, 500.3757019042969, 477.37969970703125, 464.0238037109375, 397.10186767578125, 332.2285461425781, 368.0021057128906, 383.106689453125, 258.80194091796875, 280.493896484375, 226.913330078125, 216.97718811035156, 199.03421020507812, 267.6918029785156, 205.27911376953125, 276.6217346191406, 262.6831970214844, 199.20791625976562, 1790.3487548828125, 823.0186157226562, 708.3259887695312, 671.7814331054688, 301.56695556640625, 211.4680938720703, 193.62689208984375, 172.5282745361328, 170.10687255859375, 156.34396362304688, 149.1057891845703, 144.2968292236328, 144.04351806640625, 142.82521057128906, 141.17665100097656, 139.122314453125, 127.5648422241211, 121.26136779785156, 111.88130950927734, 111.12322998046875, 110.0789794921875, 109.08316802978516, 108.9267578125, 108.85762023925781, 108.526123046875, 107.47834014892578, 106.6952133178711, 105.27516174316406, 101.6463851928711, 93.74372100830078, 446.6206970214844, 200.44224548339844, 188.97039794921875, 471.2373046875, 163.65370178222656, 154.18136596679688, 848.939453125, 281.49212646484375, 390.5623779296875, 1376.44482421875, 668.8190307617188, 1175.745849609375, 276.5408935546875, 460.4403076171875, 345.2400207519531, 384.12774658203125, 964.3826904296875, 541.3212890625, 290.9450378417969, 624.6837768554688, 246.63841247558594, 487.80157470703125, 383.3588562011719, 569.6229248046875, 564.8048095703125, 676.0128784179688, 289.3774719238281, 359.1996765136719, 408.7453918457031, 470.2835388183594, 442.3675537109375, 464.3392333984375, 413.2076721191406, 401.2828063964844, 332.679931640625, 359.42779541015625, 362.1826477050781, 332.49603271484375, 288.9440612792969, 655.37744140625, 242.2176055908203, 201.92007446289062, 176.1584930419922, 169.10690307617188, 145.58457946777344, 141.77577209472656, 134.7964324951172, 130.64015197753906, 125.0361557006836, 113.7603530883789, 108.68329620361328, 107.67529296875, 104.79582214355469, 104.26602172851562, 101.06043243408203, 98.89459228515625, 98.02153778076172, 96.69496154785156, 96.49041748046875, 93.93820190429688, 93.30987548828125, 92.5374984741211, 91.94182586669922, 91.03995513916016, 88.69258880615234, 86.20195007324219, 297.58258056640625, 583.893798828125, 326.6286926269531, 774.3185424804688, 237.60462951660156, 1345.1536865234375, 854.0473022460938, 3197.021484375, 117.21913146972656, 366.6650695800781, 161.8800811767578, 451.3959655761719, 202.34945678710938, 426.2301025390625, 162.17494201660156, 1061.344970703125, 552.967529296875, 398.2077941894531, 457.2053527832031, 330.76251220703125, 299.1506042480469, 304.5688171386719, 1275.980224609375, 362.108642578125, 838.71826171875, 400.96844482421875, 693.5390625, 319.52838134765625, 474.0466003417969, 398.8699035644531, 424.9802551269531, 385.80810546875, 401.0807800292969, 341.2535400390625, 317.63494873046875, 1247.4049072265625, 1099.392822265625, 458.8183288574219, 390.16510009765625, 353.9898681640625, 320.8477478027344, 278.9725646972656, 275.9808654785156, 276.5219421386719, 276.6783752441406, 239.7809600830078, 219.0288848876953, 217.5455780029297, 182.37806701660156, 178.85238647460938, 178.15646362304688, 158.06553649902344, 145.20314025878906, 143.84136962890625, 137.8428497314453, 145.70721435546875, 133.67861938476562, 133.15061950683594, 131.89698791503906, 128.98098754882812, 213.5743408203125, 125.03477478027344, 122.90660095214844, 385.5080261230469, 102.3895492553711, 215.74884033203125, 1333.52587890625, 608.3580322265625, 288.95745849609375, 465.08551025390625, 845.242919921875, 170.10107421875, 280.72967529296875, 246.22915649414062, 316.1578369140625, 740.7384643554688, 493.6349792480469, 428.37872314453125, 841.7843627929688, 729.2501220703125, 351.7331848144531, 358.71990966796875, 342.28448486328125, 341.87677001953125, 353.5355529785156, 271.34576416015625, 286.3338623046875, 1129.41357421875, 684.0599365234375, 331.3738708496094, 230.10260009765625, 210.28346252441406, 168.92320251464844, 168.87001037597656, 162.5526580810547, 161.83985900878906, 159.4300994873047, 154.57786560058594, 153.29502868652344, 138.4705352783203, 132.55599975585938, 122.088623046875, 118.69396209716797, 118.67438507080078, 115.82723236083984, 114.44654083251953, 114.45631408691406, 111.0184555053711, 110.2567138671875, 107.24787902832031, 103.7453842163086, 99.31746673583984, 98.66980743408203, 94.79304504394531, 93.30457305908203, 89.21900177001953, 89.16841125488281, 295.09710693359375, 918.2906494140625, 657.0303955078125, 248.87010192871094, 1089.97021484375, 175.6696319580078, 375.985107421875, 940.9481201171875, 382.3976135253906, 563.1668090820312, 562.829833984375, 572.5802001953125, 810.1453857421875, 328.53582763671875, 221.7566680908203, 888.2974853515625, 254.85682678222656, 347.1424560546875, 343.71746826171875, 513.6522216796875, 419.0518798828125, 432.0200500488281, 699.8580322265625, 1210.003662109375, 1194.8902587890625, 548.9808959960938, 350.06298828125, 558.0971069335938, 388.8341979980469, 624.5523071289062, 389.2044677734375, 579.090576171875, 596.655517578125, 535.3291625976562, 422.2910461425781, 367.8670654296875, 395.9671630859375, 382.9863586425781, 720.0811157226562, 564.218505859375, 514.9983520507812, 482.5816650390625, 421.1250305175781, 389.1646728515625, 385.5748596191406, 380.6548767089844, 411.68756103515625, 358.9208068847656, 257.7390441894531, 253.34547424316406, 234.28765869140625, 270.11163330078125, 200.8808135986328, 171.76319885253906, 168.47471618652344, 166.85997009277344, 164.2515411376953, 156.5933380126953, 202.3997039794922, 142.45558166503906, 141.98439025878906, 138.73190307617188, 212.97996520996094, 126.18944549560547, 124.30836486816406, 119.46382904052734, 117.97796630859375, 116.58721923828125, 3250.925048828125, 462.1318664550781, 830.8787231445312, 204.13311767578125, 237.14761352539062, 2968.721923828125, 317.841796875, 462.3886413574219, 340.7845153808594, 982.5018920898438, 567.2883911132812, 411.5540771484375, 660.5850219726562, 305.0914611816406, 936.2874755859375, 397.02117919921875, 763.0110473632812, 529.3873291015625, 458.868896484375, 475.3146667480469, 759.56396484375, 616.6834106445312, 754.3206176757812, 561.7415771484375, 605.6140747070312, 518.2264404296875, 570.6678466796875, 527.362060546875, 549.9469604492188, 450.6240539550781, 434.4066467285156, 414.3344421386719, 651.168212890625, 282.6632080078125, 227.0540008544922, 204.88975524902344, 185.02784729003906, 184.06985473632812, 175.63995361328125, 168.3810272216797, 164.38035583496094, 162.2677001953125, 157.7460479736328, 154.80564880371094, 150.67404174804688, 150.66444396972656, 131.64877319335938, 120.31649780273438, 119.2366943359375, 113.31263732910156, 106.43856048583984, 102.0786361694336, 101.90479278564453, 101.10906219482422, 99.44467163085938, 96.77619171142578, 95.42759704589844, 95.03205871582031, 94.37177276611328, 90.61800384521484, 88.91352081298828, 87.92060852050781, 360.32196044921875, 401.98046875, 203.71763610839844, 434.7876281738281, 254.29751586914062, 235.98675537109375, 210.17568969726562, 353.1395263671875, 275.2291259765625, 739.1033325195312, 915.4375610351562, 169.22048950195312, 465.4025573730469, 612.9635009765625, 305.89508056640625, 639.56982421875, 213.98953247070312, 756.4221801757812, 412.152587890625, 465.9031066894531, 582.7163696289062, 540.4700317382812, 1146.3162841796875, 360.8391418457031, 808.6572265625, 494.8863220214844, 669.2547607421875, 389.88555908203125, 379.710693359375, 292.1648254394531, 917.8724975585938, 584.324462890625, 377.3363952636719, 594.4801635742188, 437.3946533203125, 341.896240234375, 703.0078125, 515.3775634765625, 453.8101501464844, 477.2812805175781, 420.3646545410156, 427.16815185546875, 388.62359619140625, 382.9156188964844], \"Term\": [\"\\u00e9nergie\", \"transition\", \"produit\", \"\\u00e9cologique\", \"voiturer\", \"transport\", \"taxer\", \"nucl\\u00e9aire\", \"\\u00e9lectrique\", \"v\\u00e9hiculer\", \"transition_\\u00e9cologique\", \"agriculture\", \"ville\", \"animal\", \"d\\u00e9chet\", \"emballage\", \"interdire\", \"france\", \"renouvelable\", \"plastiquer\", \"voiturer_\\u00e9lectrique\", \"diesel\", \"faire\", \"nous\", \"d\\u00e9velopper\", \"aider\", \"\\u00e9olien\", \"production\", \"solaire\", \"centrale\", \"voiturer_\\u00e9lectrique\", \"diesel\", \"essence\", \"v\\u00e9hiculer_\\u00e9lectrique\", \"hybride\", \"montrer_exemple\", \"hulot\", \"recharger\", \"nicolas\", \"nicolas_hulot\", \"electrique\", \"voiturer_hybride\", \"particule\", \"r\\u00e9acteur\", \"elec\", \"acheter_v\\u00e9hiculer\", \"facteur\", \"trouver_moyen\", \"trier\", \"styler\", \"quid\", \"soir\", \"\\n    \", \"\\u00e9thanol\", \"utopique\", \"lendemain\", \"panne\", \"taper\", \"regretter\", \"appel_offrir\", \"fusion\", \"batterie\", \"\\u00e9lectrique\", \"borner\", \"voiturer\", \"v\\u00e9hiculer\", \"constructeur\", \"moteur\", \"automobile\", \"sauver_plan\\u00e8te\", \"autonomie\", \"acheter\", \"polluer\", \"solution\", \"fabrication\", \"exemple\", \"pourquoi\", \"avoir\", \"polluant\", \"vouloir\", \"faire\", \"aller\", \"utiliser\", \"\\u00e9cologique\", \"prendre\", \"falloir\", \"pollution\", \"trouver\", \"montrer\", \"arr\\u00eater\", \"renouvelable\", \"\\u00e9olien\", \"\\u00e9olienne\", \"fossile\", \"\\u00e9nergie_renouvelable\", \"\\u00e9nergie_fossile\", \"combustible\", \"stockage\", \"piler\", \"energie\", \"piler_combustible\", \"hydraulique\", \"vent\", \"production_\\u00e9lectricit\\u00e9\", \"centrale_nucl\\u00e9aire\", \"d\\u00e9mant\\u00e8lement\", \"al\\u00e9atoire\", \"sortir_nucl\\u00e9aire\", \"satisfaisant\", \"\\u00e9nergie_propre\", \"biomasse\", \"nucl\\u00e9aire\", \"energies\", \"voiturer_hydrog\\u00e8ne\", \"\\u00e9olien_solaire\", \"stockage_\\u00e9nergie\", \"couts\", \"aberrer\", \"fermeture\", \"centime\", \"\\u00e9nergie\", \"centrale\", \"\\u00e9lectricit\\u00e9\", \"solaire\", \"photovolta\\u00efque\", \"charbon\", \"technologie\", \"rentable\", \"rechercher\", \"panneau_solaire\", \"source\", \"production\", \"hydrog\\u00e8ne\", \"p\\u00e9trole\", \"panneau\", \"d\\u00e9velopper\", \"\\u00e9nerg\\u00e9tique\", \"investir\", \"d\\u00e9veloppement\", \"terme\", \"solution\", \"france\", \"falloir\", \"investissement\", \"produire\", \"d\\u00e9chet\", \"transition\", \"transition_\\u00e9cologique\", \"conscience\", \"transition_\\u00e9nerg\\u00e9tique\", \"tard\", \"questionnaire\", \"mentalit\\u00e9\", \"acte\", \"d\\u00e9penser_public\", \"changer_mentalit\\u00e9\", \"faire_effort\", \"prendre_conscience\", \"financement_transition\", \"financer_transition\", \"faut\", \"mensonge\", \"hydrolien\", \"expression\", \"classer_moyenne\", \"priser_conscience\", \"exceller\", \"urger_agir\", \"2022\", \"impopulaire\", \"origine_nucl\\u00e9aire\", \"bouger\", \"institution\", \"\\u00e9nergique\", \"freiner\", \"mer\", \"\\u00e9cologique\", \"effort\", \"concret\", \"aborder\", \"volont\\u00e9\", \"banque\", \"punitif\", \"urgence\", \"comportement\", \"question\", \"citoyen\", \"impliquer\", \"prendre_compter\", \"\\u00e9cologie\", \"changement\", \"priorit\\u00e9\", \"\\u00e9tat\", \"sujet\", \"politique\", \"etat\", \"faire\", \"\\u00e9conomique\", \"falloir\", \"financer\", \"prendre\", \"changer\", \"action\", \"entreprise\", \"financier\", \"compter\", \"taxer\", \"pouvoir\", \"solution\", \"investissement\", \"mesurer\", \"moyen\", \"aider\", \"fran\\u00e7ais\", \"exemple\", \"partir\", \"centrer\", \"d\\u00e9sordre\", \"b\\u00e9tonner\", \"niveau_mondial\", \"d\\u00e9forestation\", \"science\", \"centrer_ville\", \"fa\\u00eete\", \"developper\", \"ruiner\", \"d\\u00e9pendance\", \"urbanisation\", \"agriculture_intensif\", \"fermer_centrale\", \"garer\", \"conditionnement\", \".......\", \"d\\u00e9r\\u00e8glement\", \"\\n\\n  \", \"illusoire\", \"voil\\u00e0\", \"accord_paris\", \"d\\u00e9loyal\", \"\\u00e9cologie_punitif\", \"retraitement_d\\u00e9chet\", \"centrer_commercial\", \"village\", \"concurrencer_d\\u00e9loyal\", \"......\", \"locomotion\", \"zone_commercial\", \"grand_ville\", \"ville\", \"urbain\", \"paris\", \"zone\", \"commercial\", \"terrain\", \"zone_rural\", \"rural\", \"campagne\", \"construire\", \"europ\\u00e9en\", \"lutter\", \"grand\", \"france\", \"pays\", \"pollution\", \"voir\", \"niveau\", \"petit\", \"moyen\", \"arr\\u00eater\", \"terrer\", \"cr\\u00e9er\", \"logement\", \"territoire\", \"fermer\", \"prendre\", \"commercer\", \"faire\", \"falloir\", \"voiturer\", \"animal\", \"biodiversit\\u00e9\", \"protection\", \"chasser\", \"grand_distribution\", \"inscrire\", \"protection_environnement\", \"assurer\", \"d\\u00e9veloppement_durable\", \"vivre_d\\u00e9cemment\", \"pr\\u00e9servation\", \"d\\u00e9marcher\", \"chasseur\", \"chimie\", \"r\\u00e9f\\u00e9rendum\", \"moyen_terme\", \"sant\\u00e9_public\", \"laboratoire\", \"\\u00e9lectrom\\u00e9nager\", \"prendre_\\u00e9levage\", \"industriel_miser\", \"esp\\u00e8ce_animal\", \"placer_pratiquer\", \"pr\\u00e9dateur\", \"production_respectueux\", \"porteur\", \"retenue\", \"atteint\", \"m\\u00e9dicament\", \"repas\", \"respect\", \"naturel\", \"expert\", \"esp\\u00e8ce\", \"co\\u00fbt_environnemental\", \"faune\", \"sant\\u00e9\", \"association\", \"\\u00e9levage\", \"environnement\", \"environnemental\", \"public\", \"sol\", \"pratiquer\", \"sanitaire\", \"durable\", \"placer\", \"miser\", \"prot\\u00e9ger\", \"projet\", \"m\\u00e9thode\", \"int\\u00e9r\\u00eat\", \"nature\", \"local\", \"industriel\", \"mettre\", \"\\u00e9cole\", \"mettre_placer\", \"d\\u00e9veloppement\", \"devoir\", \"production\", \"grand\", \"interdire\", \"permettre\", \"national\", \"politique\", \"payeur\", \"traverser\", \"poids_lourd\", \"\\u00e9tranger\", \"fruit\", \"agriculture_biologique\", \"l\\u00e9gume\", \"produit_chimique\", \"principe_pollueur\", \"m\\u00e9thanisation\", \"traverser_france\", \"portique\", \"produit_importer\", \"produit_nocif\", \"phytosanitaire\", \"pollution_visuel\", \"produit_issu\", \"fruit_l\\u00e9gume\", \"camion_\\u00e9tranger\", \"agriculture_raisonner\", \"compteur\", \"aider_agriculteur\", \"\\u00e9clairage_public\", \"tampon\", \"denr\\u00e9e_alimentaire\", \"v\\u00e9hiculer_l\\u00e9ger\", \"\\u00e9videment\", \"dossier\", \"d\\u00e9localisation\", \"rappel\", \"intensif\", \"poids\", \"biologique\", \"agriculteur\", \"nocif\", \"agriculture\", \"pesticide\", \"produit\", \"engrais\", \"importation\", \"toxique\", \"lourd\", \"raisonner\", \"glyphosate\", \"surtaxer\", \"interdire\", \"importer\", \"interdiction\", \"agricole\", \"norme\", \"chimique\", \"producteur\", \"taxer\", \"respecter\", \"france\", \"camion\", \"aider\", \"alimentaire\", \"produire\", \"local\", \"production\", \"favoriser\", \"pollution\", \"fran\\u00e7ais\", \"entreprise\", \"emballage\", \"plastiquer\", \"consigner\", \"jeter\", \"recyclable\", \"r\\u00e9parateur\", \"bouteille\", \"verre\", \"arbre\", \"r\\u00e9chauffement_climatique\", \"poubelle\", \"publicit\\u00e9\", \"obsolescence\", \"s\\u00e9cheresse\", \"retarder\", \"papier\", \"tenter\", \"obsolescence_programmer\", \"surconsommation\", \"emballage_plastiquer\", \"collecter\", \"changer_habitude\", \"m\\u00e9got\", \"limiter_emballage\", \"d\\u00e9charger\", \"ordure\", \"mode_consommation\", \"syst\\u00e8me_\\u00e9conomique\", \"gaspillage\", \"s\\u00e9lectif\", \"traitement_d\\u00e9chet\", \"d\\u00e9chet\", \"consommer\", \"r\\u00e9chauffement\", \"recyclage\", \"consommation\", \"adopter\", \"recycler\", \"inutile\", \"programmer\", \"produit\", \"produire\", \"limiter\", \"falloir\", \"faire\", \"inciter\", \"industriel\", \"r\\u00e9duire\", \"interdire\", \"exemple\", \"consommateur\", \"obliger\", \"nous\", \"croissance\", \"nous_sommer\", \"humanit\\u00e9\", \"reparation\", \"discourir\", \"guerre\", \"\\u00e9cologiste\", \"\\n     \", \"d\\u00e9mographie\", \"surpopulation\", \"tant\", \"terre\", \"d\\u00e9mographique\", \"catastrophe_\\u00e9cologique\", \"nous_devon\", \"g\\u00e9n\\u00e9ration_futur\", \"dirigeant\", \"changer_modeler\", \"\\u00e9chec\", \"arr\\u00eatez\", \"lib\\u00e9ral\", \"b\\u00eate\", \"d\\u00e9croissance\", \"photovoltaique\", \"nucleaire\", \"surpopulation_mondial\", \"enrayer\", \"collectivement\", \"milliardaire\", \"catastrophe\", \"sommer\", \"mondial\", \"devon\", \"plan\\u00e8te\", \"culpabiliser\", \"homme\", \"monder\", \"futur\", \"humain\", \"vivre\", \"enfant\", \"probl\\u00e8me\", \"d\\u00e9truire\", \"mourir\", \"pays\", \"g\\u00e9n\\u00e9ration\", \"continuer\", \"penser\", \"vouloir\", \"climatique\", \"modeler\", \"arr\\u00eater\", \"faire\", \"falloir\", \"temps\", \"savoir\", \"changer\", \"argent\", \"grand\", \"agir\", \"pouvoir\", \"france\", \"prendre\", \"\\u00e9conomique\", \"population\", \"pollution\", \"politique\", \"b\\u00e2timent\", \"circuit\", \"bateau\", \"a\\u00e9rien\", \"court\", \"maritime\", \"k\\u00e9ros\\u00e8ne\", \"ferroviaire\", \"taxer_carbone\", \"marchandise\", \"fret\", \"circuit_court\", \"transport_routier\", \"rail\", \"pluie\", \"transport_a\\u00e9rien\", \"transport_marchandise\", \"entreprise_polluant\", \"taxer_k\\u00e9ros\\u00e8ne\", \"croisi\\u00e8re\", \"grand_surface\", \"importation_produit\", \"soleil\", \"circuit_courir\", \"moyen_transport\", \"reduire\", \"g\\u00e9othermie\", \"navire\", \"avoir_bateau\", \"b\\u00e2timent_public\", \"transport\", \"transport_commun\", \"carbone\", \"fluvial\", \"taxer_carburant\", \"taxer\", \"avion\", \"carburant\", \"surface\", \"favoriser\", \"commun\", \"train\", \"gros\", \"fortement\", \"d\\u00e9velopper\", \"routier\", \"placer\", \"pollueur\", \"construction\", \"camion\", \"entreprise\", \"local\", \"grand\", \"r\\u00e9duire\", \"avoir\", \"polluant\", \"public\", \"utiliser\", \"mettre\", \"consommation\", \"limiter\", \"panneau\", \"vitesse\", \"cr\\u00e9dit\", \"constructeur_automobile\", \"conducteur\", \"salarier\", \"cr\\u00e9dit_imp\\u00f4t\", \"radar\", \"net\", \"faible_revenu\", \"limitation_vitesse\", \"d\\u00e9cemment\", \"pomper_chaleur\", \"d\\u00e9passement\", \"ajout\", \"compl\\u00e9ter\", \"opposer\", \"remboursement\", \"louer\", \"mobile\", \"pollueur_payeur\", \"tabou\", \"paiement\", \"prendre_charger\", \"pollueurs\", \"parisien\", \"plusieurs\", \"utilisable\", \"pi\\u00e9ger\", \"jeu\", \"inutilement\", \"revenu\", \"marge\", \"contrat\", \"taux\", \"minuter\", \"propri\\u00e9taire\", \"pouvoir_achat\", \"limitation\", \"b\\u00e9n\\u00e9ficier\", \"imp\\u00f4t\", \"travail\", \"chaudi\\u00e8re\", \"proposition\", \"achat\", \"s\\u00e9curit\\u00e9\", \"router\", \"trajet\", \"prix\", \"baisser\", \"logement\", \"lieu\", \"chauffage\", \"aider\", \"faible\", \"permettre\", \"d\\u00e9penser\", \"co\\u00fbt\", \"fonction\", \"euro\", \"pr\\u00eat\", \"pouvoir\", \"payer\", \"dans\", \"temps\", \"service\", \"primer\", \"faire\", \"fran\\u00e7ais\", \"\\u00e9conomie\", \"v\\u00e9hiculer\", \"investissement\", \"voiturer\", \"mesurer\", \"proposer\"], \"Total\": [5085.0, 4976.0, 4203.0, 6396.0, 3971.0, 3359.0, 5715.0, 3120.0, 3124.0, 3029.0, 3073.0, 1618.0, 1589.0, 1791.0, 1811.0, 1248.0, 2012.0, 3535.0, 1300.0, 1100.0, 1185.0, 1159.0, 6682.0, 1130.0, 2712.0, 2975.0, 1144.0, 2434.0, 1346.0, 1158.0, 1185.93408203125, 1159.6234130859375, 685.4603881835938, 479.0330505371094, 459.5430908203125, 360.7120666503906, 281.7354431152344, 266.4765625, 228.57315063476562, 223.34564208984375, 190.43270874023438, 185.7081756591797, 175.78662109375, 173.04298400878906, 145.8096923828125, 136.80850219726562, 130.1052703857422, 129.85496520996094, 123.5834732055664, 124.45246887207031, 120.55949401855469, 119.71268463134766, 118.57604217529297, 114.69393157958984, 103.79470825195312, 102.25243377685547, 101.88217163085938, 99.93521881103516, 97.99208068847656, 97.10470581054688, 131.71429443359375, 1022.8002319335938, 3124.927001953125, 278.32769775390625, 3971.37890625, 3029.44189453125, 558.3355102539062, 758.89453125, 830.7614135742188, 201.76052856445312, 336.99151611328125, 774.8089599609375, 1728.3712158203125, 2468.705078125, 382.3311462402344, 2456.905517578125, 961.1318969726562, 1924.6507568359375, 1377.981201171875, 1309.9671630859375, 6682.37255859375, 1034.4881591796875, 1883.3116455078125, 6396.96044921875, 3064.998291015625, 7469.12646484375, 2319.5712890625, 933.0045166015625, 739.0265502929688, 2422.5498046875, 1300.323486328125, 1144.930419921875, 949.2968139648438, 864.82080078125, 845.2015991210938, 619.1073608398438, 449.6471862792969, 388.7375183105469, 318.5767822265625, 303.90582275390625, 237.21363830566406, 234.40951538085938, 185.52679443359375, 168.40550231933594, 375.8493347167969, 160.5658721923828, 157.7864227294922, 148.33253479003906, 145.97093200683594, 137.3927459716797, 135.3603515625, 3120.828125, 134.69557189941406, 132.8048095703125, 132.3022918701172, 125.54345703125, 119.9655532836914, 112.62179565429688, 111.05253601074219, 108.40701293945312, 5085.56787109375, 1158.406005859375, 1261.676513671875, 1346.9613037109375, 522.67529296875, 304.93341064453125, 417.61016845703125, 304.1902770996094, 1261.6456298828125, 356.9620361328125, 614.2092895507812, 2434.749267578125, 862.7251586914062, 738.66162109375, 1090.6749267578125, 2712.3818359375, 1130.3798828125, 637.9397583007812, 1323.7735595703125, 1336.395263671875, 2468.705078125, 3535.89208984375, 7469.12646484375, 1589.302490234375, 1818.959228515625, 1811.3734130859375, 4976.37158203125, 3073.0439453125, 364.3301086425781, 316.2695007324219, 246.39881896972656, 215.4127655029297, 214.13290405273438, 201.80372619628906, 184.83815002441406, 169.77444458007812, 168.46652221679688, 135.124267578125, 134.93002319335938, 128.40065002441406, 117.84840393066406, 113.93551635742188, 113.54743194580078, 108.48966979980469, 101.10782623291016, 92.82042694091797, 92.3138198852539, 91.63045501708984, 91.28248596191406, 87.52533721923828, 87.91825866699219, 82.3757553100586, 81.68779754638672, 81.26554870605469, 80.65184020996094, 79.39417266845703, 6396.96044921875, 631.2532348632812, 232.26498413085938, 111.03119659423828, 383.152587890625, 314.5751037597656, 229.4786376953125, 434.8063659667969, 652.3683471679688, 969.3770751953125, 2058.3330078125, 287.8917541503906, 341.404296875, 1595.3848876953125, 809.8208618164062, 904.0357055664062, 1760.49365234375, 866.6370849609375, 2127.217529296875, 1055.5731201171875, 6682.37255859375, 1329.9715576171875, 7469.12646484375, 1051.23291015625, 3064.998291015625, 1821.071533203125, 735.7518310546875, 2457.57373046875, 941.3584594726562, 929.71484375, 5715.73828125, 3147.555419921875, 2468.705078125, 1589.302490234375, 1085.528564453125, 1975.56494140625, 2975.29296875, 2342.833251953125, 2456.905517578125, 1673.1856689453125, 648.9220581054688, 316.1834411621094, 195.54542541503906, 183.02935791015625, 174.49485778808594, 159.7117919921875, 155.73643493652344, 155.0943603515625, 151.25344848632812, 144.37925720214844, 139.30673217773438, 138.3655242919922, 123.06891632080078, 146.35977172851562, 113.65390014648438, 109.37861633300781, 108.46339416503906, 102.42206573486328, 102.08375549316406, 100.96940612792969, 100.29853820800781, 100.01057434082031, 99.79109954833984, 99.15074920654297, 97.68000030517578, 96.16483306884766, 158.6848602294922, 95.23463439941406, 93.11343383789062, 92.25917053222656, 163.11903381347656, 164.0615234375, 1589.020263671875, 560.4896240234375, 357.6937561035156, 965.8826293945312, 588.2443237304688, 184.8914031982422, 180.80992126464844, 467.2123107910156, 556.3272094726562, 796.5948486328125, 843.9571533203125, 680.4481811523438, 3106.60302734375, 3535.89208984375, 2026.294189453125, 2319.5712890625, 2191.723876953125, 1559.6417236328125, 1329.939697265625, 1975.56494140625, 2422.5498046875, 890.7022094726562, 1445.449462890625, 743.7757568359375, 626.2352294921875, 506.9960021972656, 3064.998291015625, 629.3424682617188, 6682.37255859375, 7469.12646484375, 3971.37890625, 1791.297119140625, 824.0741577148438, 709.2744140625, 672.7313232421875, 302.5163269042969, 212.41685485839844, 194.5753173828125, 173.47738647460938, 171.0552978515625, 157.29345703125, 150.05421447753906, 145.24534606933594, 144.99192810058594, 143.77398681640625, 142.12525939941406, 140.07305908203125, 128.51329040527344, 122.21027374267578, 112.83090209960938, 112.07176208496094, 111.02738189697266, 110.0317611694336, 109.8752670288086, 109.80668640136719, 109.47476196289062, 108.42701721191406, 107.64411163330078, 106.2236557006836, 102.59490203857422, 94.69214630126953, 454.4785461425781, 203.5091094970703, 194.11163330078125, 519.3089599609375, 172.5209503173828, 162.20765686035156, 1119.827880859375, 328.8454284667969, 496.5663757324219, 2264.4326171875, 1080.4486083984375, 2232.97900390625, 355.35333251953125, 706.8291625976562, 484.75341796875, 564.9216918945312, 2067.86962890625, 948.9848022460938, 392.46759033203125, 1212.4544677734375, 317.0295104980469, 897.0615844726562, 726.4717407226562, 1701.728759765625, 1677.9442138671875, 2407.941650390625, 491.8046875, 831.4451293945312, 1323.7735595703125, 1977.7716064453125, 2434.749267578125, 3106.60302734375, 2012.0675048828125, 1858.8465576171875, 830.5582885742188, 2127.217529296875, 363.17279052734375, 333.4464111328125, 289.8938293457031, 657.6463012695312, 243.16754150390625, 202.86981201171875, 177.1082763671875, 170.05679321289062, 146.53443908691406, 142.7257843017578, 135.7461700439453, 131.59011840820312, 125.98666381835938, 114.71014404296875, 109.63304138183594, 108.62631225585938, 105.74571990966797, 105.21577453613281, 102.01018524169922, 99.84430694580078, 98.97148895263672, 97.64468383789062, 97.44044494628906, 94.88905334472656, 94.2601318359375, 93.48824310302734, 92.89307403564453, 91.99000549316406, 89.6426773071289, 87.16309356689453, 302.08941650390625, 599.1069946289062, 348.09930419921875, 891.362060546875, 253.8281707763672, 1618.087646484375, 1011.6928100585938, 4203.1123046875, 120.29914855957031, 425.6275329589844, 172.54954528808594, 563.1105346679688, 231.02552795410156, 567.2340087890625, 180.13755798339844, 2012.0675048828125, 955.8530883789062, 694.2785034179688, 937.0753784179688, 567.6263427734375, 484.0949401855469, 508.3845520019531, 5715.73828125, 698.3277587890625, 3535.89208984375, 959.9064331054688, 2975.29296875, 607.6239624023438, 1818.959228515625, 1701.728759765625, 2434.749267578125, 1774.7913818359375, 2319.5712890625, 2342.833251953125, 2457.57373046875, 1248.4168701171875, 1100.332763671875, 459.7582092285156, 391.1050720214844, 354.93017578125, 321.7994689941406, 279.9124450683594, 276.9207458496094, 277.4645690917969, 277.7594909667969, 240.72093200683594, 219.96885681152344, 218.48548889160156, 183.31829833984375, 179.79432678222656, 179.09646606445312, 159.00587463378906, 146.14303588867188, 144.78134155273438, 138.7827606201172, 146.70216369628906, 134.61892700195312, 134.09051513671875, 132.83700561523438, 129.9209442138672, 215.16978454589844, 125.97801208496094, 123.84756469726562, 388.64190673828125, 103.3294906616211, 231.56141662597656, 1811.3734130859375, 948.9607543945312, 416.965576171875, 831.7610473632812, 2107.117919921875, 193.69142150878906, 419.81512451171875, 372.6572570800781, 596.427001953125, 4203.1123046875, 1818.959228515625, 1512.3358154296875, 7469.12646484375, 6682.37255859375, 1061.974853515625, 1677.9442138671875, 1541.48388671875, 2012.0675048828125, 2456.905517578125, 671.1458129882812, 1117.6441650390625, 1130.4425048828125, 685.010009765625, 332.3189392089844, 231.04806518554688, 211.26422119140625, 169.86831665039062, 169.81509399414062, 163.4977569580078, 162.7874298095703, 160.37518310546875, 155.52288818359375, 154.24012756347656, 139.41558837890625, 133.50111389160156, 123.0339584350586, 119.63899993896484, 119.6194076538086, 116.7724380493164, 115.39187622070312, 115.40172576904297, 111.96354675292969, 111.20201873779297, 108.19338989257812, 104.69194793701172, 100.26786041259766, 99.614990234375, 95.73812866210938, 94.26134490966797, 90.16443634033203, 90.11421966552734, 300.6382751464844, 1048.036865234375, 793.903564453125, 279.8236083984375, 1486.8323974609375, 196.3016357421875, 488.3846130371094, 1555.371826171875, 531.4285888671875, 888.2867431640625, 890.6691284179688, 921.7827758789062, 1574.350341796875, 491.7201843261719, 285.8554382324219, 2026.294189453125, 354.61767578125, 587.9165649414062, 599.0179443359375, 1309.9671630859375, 917.9871215820312, 972.6659545898438, 2422.5498046875, 6682.37255859375, 7469.12646484375, 1666.712890625, 702.2719116210938, 1821.071533203125, 903.5180053710938, 3106.60302734375, 935.6542358398438, 3147.555419921875, 3535.89208984375, 3064.998291015625, 1329.9715576171875, 863.245361328125, 2319.5712890625, 2127.217529296875, 721.0272827148438, 565.1553955078125, 515.9352416992188, 483.5184631347656, 422.0618896484375, 390.1014709472656, 386.51483154296875, 381.59173583984375, 412.709716796875, 359.8585510253906, 258.6759033203125, 254.28237915039062, 235.226806640625, 271.2546081542969, 201.81771850585938, 172.69998168945312, 169.4114990234375, 167.798095703125, 165.18832397460938, 157.53012084960938, 203.7138214111328, 143.39273071289062, 142.92160034179688, 139.6688995361328, 214.55740356445312, 127.13516998291016, 125.24537658691406, 120.41191864013672, 118.91477966308594, 117.52404022216797, 3359.962158203125, 511.020263671875, 1029.7564697265625, 218.9602813720703, 262.6802673339844, 5715.73828125, 390.47833251953125, 629.2310180664062, 433.8466491699219, 1774.7913818359375, 927.8308715820312, 596.5269165039062, 1270.748291015625, 404.2019348144531, 2712.3818359375, 637.410400390625, 2067.86962890625, 1107.520751953125, 895.815185546875, 959.9064331054688, 2457.57373046875, 1701.728759765625, 3106.60302734375, 1541.48388671875, 1924.6507568359375, 1377.981201171875, 2232.97900390625, 1883.3116455078125, 2407.941650390625, 2107.117919921875, 1512.3358154296875, 1090.6749267578125, 652.1195678710938, 283.6153564453125, 228.0062713623047, 205.841064453125, 185.98048400878906, 185.02125549316406, 176.5912628173828, 169.3328399658203, 165.3318328857422, 163.2190399169922, 158.69918823242188, 155.75970458984375, 151.6254119873047, 151.6161651611328, 132.60092163085938, 121.26801300048828, 120.18815612792969, 114.26429748535156, 107.39055633544922, 103.0303726196289, 102.85726165771484, 102.06100463867188, 100.39617919921875, 97.72782897949219, 96.37903594970703, 95.98401641845703, 95.32376861572266, 91.57051086425781, 89.86604309082031, 88.87206268310547, 373.4373779296875, 417.6314392089844, 210.61669921875, 462.1378479003906, 265.5395202636719, 246.95716857910156, 222.75686645507812, 397.8668212890625, 315.62811279296875, 978.9631958007812, 1254.29541015625, 183.21981811523438, 596.89306640625, 844.3260498046875, 381.2296447753906, 955.2526245117188, 247.8701629638672, 1402.724365234375, 619.5706176757812, 743.7757568359375, 1036.67041015625, 963.9659423828125, 2975.29296875, 538.8983154296875, 1858.8465576171875, 890.8587036132812, 1483.26318359375, 624.3897705078125, 598.6572265625, 397.94091796875, 3147.555419921875, 1411.9862060546875, 636.75634765625, 1666.712890625, 935.2786865234375, 557.7544555664062, 6682.37255859375, 2342.833251953125, 1634.9002685546875, 3029.44189453125, 1589.302490234375, 3971.37890625, 1085.528564453125, 1152.9237060546875], \"loglift\": [30.0, 29.0, 28.0, 27.0, 26.0, 25.0, 24.0, 23.0, 22.0, 21.0, 20.0, 19.0, 18.0, 17.0, 16.0, 15.0, 14.0, 13.0, 12.0, 11.0, 10.0, 9.0, 8.0, 7.0, 6.0, 5.0, 4.0, 3.0, 2.0, 1.0, 2.352099895477295, 2.352099895477295, 2.351300001144409, 2.3508999347686768, 2.3508999347686768, 2.3503000736236572, 2.3494999408721924, 2.349299907684326, 2.34879994392395, 2.3487000465393066, 2.347899913787842, 2.3478000164031982, 2.3475000858306885, 2.347399950027466, 2.346400022506714, 2.3459999561309814, 2.345599889755249, 2.345599889755249, 2.3452000617980957, 2.345099925994873, 2.3450000286102295, 2.3450000286102295, 2.344899892807007, 2.344599962234497, 2.3436999320983887, 2.343600034713745, 2.3434998989105225, 2.343400001525879, 2.3431999683380127, 2.343100070953369, 2.3406999111175537, 2.311000108718872, 2.2588000297546387, 2.315700054168701, 2.180000066757202, 2.1791000366210938, 2.262399911880493, 2.2126998901367188, 2.1185998916625977, 2.27810001373291, 2.209700107574463, 1.9673999547958374, 1.7860000133514404, 1.3480000495910645, 1.9287999868392944, 1.1399999856948853, 1.492799997329712, 1.013200044631958, 1.1821999549865723, 1.1950000524520874, 0.23759999871253967, 1.2971999645233154, 0.9147999882698059, 0.08190000057220459, 0.5275999903678894, -0.1867000013589859, 0.6780999898910522, 1.3238999843597412, 1.500499963760376, 0.4077000021934509, 2.253499984741211, 2.2534000873565674, 2.253200054168701, 2.2530999183654785, 2.2530999183654785, 2.252700090408325, 2.2520999908447266, 2.251699924468994, 2.251199960708618, 2.250999927520752, 2.250200033187866, 2.2500998973846436, 2.249000072479248, 2.248500108718872, 2.248300075531006, 2.248199939727783, 2.2481000423431396, 2.2476999759674072, 2.2476000785827637, 2.2472000122070312, 2.2471001148223877, 2.2471001148223877, 2.2471001148223877, 2.246999979019165, 2.2469000816345215, 2.246500015258789, 2.2462000846862793, 2.245699882507324, 2.245500087738037, 2.245300054550171, 2.2432000637054443, 2.239000082015991, 2.152600049972534, 2.1382999420166016, 2.164099931716919, 2.1765999794006348, 2.142699956893921, 2.168299913406372, 1.9429999589920044, 2.1005001068115234, 2.0055999755859375, 1.6399999856948853, 1.861799955368042, 1.8854000568389893, 1.7654999494552612, 1.4251999855041504, 1.601199984550476, 1.8071000576019287, 1.4458999633789062, 1.4284000396728516, 0.972599983215332, 0.7383000254631042, 0.08879999816417694, 1.1220999956130981, 0.9552000164985657, 0.777999997138977, 1.8494999408721924, 1.8494000434875488, 1.847100019454956, 1.8466999530792236, 1.845900058746338, 1.8452999591827393, 1.8452999591827393, 1.8450000286102295, 1.844599962234497, 1.844099998474121, 1.844099998474121, 1.8427000045776367, 1.8427000045776367, 1.8423000574111938, 1.841599941253662, 1.8414000272750854, 1.8413000106811523, 1.84089994430542, 1.8402999639511108, 1.839400053024292, 1.839400053024292, 1.8393000364303589, 1.8393000364303589, 1.8387999534606934, 1.8387999534606934, 1.8380999565124512, 1.8380000591278076, 1.8380000591278076, 1.8379000425338745, 1.8377000093460083, 1.7194000482559204, 1.777500033378601, 1.8070000410079956, 1.8286000490188599, 1.770400047302246, 1.777899980545044, 1.7836999893188477, 1.7035000324249268, 1.664199948310852, 1.621000051498413, 1.4845999479293823, 1.6885000467300415, 1.6621999740600586, 1.4112999439239502, 1.5032000541687012, 1.4660999774932861, 1.297700047492981, 1.4247000217437744, 1.210800051689148, 1.3641999959945679, 0.9053000211715698, 1.3020999431610107, 0.8357999920845032, 1.3559999465942383, 1.041700005531311, 1.163100004196167, 1.433899998664856, 0.927299976348877, 1.263200044631958, 1.2444000244140625, 0.2825999855995178, 0.5789999961853027, 0.692300021648407, 0.9189000129699707, 1.090499997138977, 0.6448000073432922, 0.34209999442100525, 0.4961000084877014, 0.3723999857902527, 0.6926000118255615, 2.754199981689453, 2.7525999546051025, 2.7507998943328857, 2.7504000663757324, 2.750200033187866, 2.7497000694274902, 2.749500036239624, 2.749500036239624, 2.749300003051758, 2.749000072479248, 2.748800039291382, 2.748800039291382, 2.7479000091552734, 2.74780011177063, 2.747299909591675, 2.7469000816345215, 2.7469000816345215, 2.746299982070923, 2.746299982070923, 2.7462000846862793, 2.7460999488830566, 2.7460999488830566, 2.7460999488830566, 2.746000051498413, 2.7458999156951904, 2.745699882507324, 2.745699882507324, 2.7455999851226807, 2.7453999519348145, 2.745300054550171, 2.7432000637054443, 2.737299919128418, 2.5829999446868896, 2.6105000972747803, 2.6291000843048096, 2.5295000076293945, 2.573699951171875, 2.6679999828338623, 2.658400058746338, 2.496500015258789, 2.41510009765625, 2.0148000717163086, 1.874400019645691, 1.907099962234497, 1.169800043106079, 1.0917999744415283, 1.3569999933242798, 1.1748000383377075, 1.2030999660491943, 1.3875999450683594, 1.368499994277954, 1.0750999450683594, 0.9114000201225281, 1.519700050354004, 1.1160000562667847, 1.5684000253677368, 1.6957000494003296, 1.8206000328063965, 0.3176000118255615, 1.6353000402450562, -0.42899999022483826, -0.5920000076293945, -0.23690000176429749, 2.0752999782562256, 2.07450008392334, 2.07450008392334, 2.074399948120117, 2.0725998878479004, 2.0713000297546387, 2.0708999633789062, 2.0703001022338867, 2.070199966430664, 2.069700002670288, 2.0694000720977783, 2.069200038909912, 2.069200038909912, 2.069200038909912, 2.0690999031066895, 2.069000005722046, 2.0683999061584473, 2.068000078201294, 2.0673000812530518, 2.0673000812530518, 2.067199945449829, 2.0671000480651855, 2.0671000480651855, 2.0671000480651855, 2.0671000480651855, 2.066999912261963, 2.0669000148773193, 2.066800117492676, 2.066499948501587, 2.065700054168701, 2.058300018310547, 2.0606000423431396, 2.0488998889923096, 1.978700041770935, 2.0230000019073486, 2.0250000953674316, 1.798799991607666, 1.920300006866455, 1.8357000350952148, 1.5779999494552612, 1.5961999893188477, 1.434399962425232, 1.8250000476837158, 1.6471999883651733, 1.7364000082015991, 1.6900999546051025, 1.312999963760376, 1.5144000053405762, 1.7764999866485596, 1.412600040435791, 1.8246999979019165, 1.466599941253662, 1.4365999698638916, 0.9814000129699707, 0.9868999719619751, 0.8054999709129333, 1.5454000234603882, 1.2365000247955322, 0.900600016117096, 0.6394000053405762, 0.3702999949455261, 0.17509999871253967, 0.4927999973297119, 0.5426999926567078, 1.1608999967575073, 0.2976999878883362, 2.718400001525879, 2.7183001041412354, 2.717900037765503, 2.7177000045776367, 2.7172000408172607, 2.716399908065796, 2.7158000469207764, 2.7155001163482666, 2.714600086212158, 2.7144999504089355, 2.714099884033203, 2.713900089263916, 2.713599920272827, 2.7128000259399414, 2.712399959564209, 2.7123000621795654, 2.712100028991699, 2.712100028991699, 2.7118000984191895, 2.7116000652313232, 2.7114999294281006, 2.711400032043457, 2.7112998962402344, 2.7111001014709473, 2.7109999656677246, 2.710900068283081, 2.7107999324798584, 2.7107999324798584, 2.7105000019073486, 2.7100000381469727, 2.7060999870300293, 2.6953999996185303, 2.6575000286102295, 2.580399990081787, 2.655100107192993, 2.536400079727173, 2.5517001152038574, 2.447499990463257, 2.695199966430664, 2.572000026702881, 2.6572999954223633, 2.5, 2.588599920272827, 2.43530011177063, 2.6161000728607178, 2.0815000534057617, 2.173799991607666, 2.1651999950408936, 2.003499984741211, 2.1810998916625977, 2.239799976348877, 2.2088000774383545, 1.22160005569458, 2.0643999576568604, 1.2822999954223633, 1.8481999635696411, 1.264799952507019, 2.078399896621704, 1.3763999938964844, 1.270400047302246, 0.975600004196167, 1.1950000524520874, 0.9661999940872192, 0.7946000099182129, 0.6751000285148621, 2.6249001026153564, 2.6249001026153564, 2.623699903488159, 2.623300075531006, 2.6231000423431396, 2.62280011177063, 2.6224000453948975, 2.622299909591675, 2.622299909591675, 2.621799945831299, 2.621799945831299, 2.621500015258789, 2.6214001178741455, 2.6205999851226807, 2.620500087738037, 2.620500087738037, 2.619800090789795, 2.61929988861084, 2.6191999912261963, 2.6189000606536865, 2.6189000606536865, 2.6187000274658203, 2.6187000274658203, 2.6185998916625977, 2.618499994277954, 2.618299961090088, 2.6182000637054443, 2.6180999279022217, 2.6175999641418457, 2.6166000366210938, 2.555000066757202, 2.319499969482422, 2.1810998916625977, 2.259000062942505, 2.0443999767303467, 1.7122999429702759, 2.4958999156951904, 2.223299980163574, 2.2112998962402344, 1.9910000562667847, 0.8898000121116638, 1.3214999437332153, 1.364300012588501, 0.44269999861717224, 0.4104999899864197, 1.5206999778747559, 1.0829999446868896, 1.12090003490448, 0.8532999753952026, 0.6870999932289124, 1.7201000452041626, 1.2639000415802002, 2.3705999851226807, 2.3701999187469482, 2.3687000274658203, 2.3673999309539795, 2.3668999671936035, 2.365999937057495, 2.365999937057495, 2.3657000064849854, 2.3657000064849854, 2.365600109100342, 2.3654000759124756, 2.3654000759124756, 2.3647000789642334, 2.3643999099731445, 2.363800048828125, 2.363600015640259, 2.363600015640259, 2.3633999824523926, 2.363300085067749, 2.363300085067749, 2.363100051879883, 2.36299991607666, 2.362799882888794, 2.362499952316284, 2.361999988555908, 2.361999988555908, 2.361599922180176, 2.361299991607666, 2.3610000610351562, 2.3610000610351562, 2.3529000282287598, 2.2393999099731445, 2.182300090789795, 2.254300117492676, 2.061000108718872, 2.260499954223633, 2.109999895095825, 1.86899995803833, 2.0423998832702637, 1.9157999753952026, 1.912500023841858, 1.895400047302246, 1.707200050354004, 1.9682999849319458, 2.1175999641418457, 1.5469000339508057, 2.0411999225616455, 1.8446999788284302, 1.816100001335144, 1.4352999925613403, 1.587399959564209, 1.559999942779541, 1.1297999620437622, 0.6626999974250793, 0.5388000011444092, 1.2610000371932983, 1.6753000020980835, 1.1888999938964844, 1.52839994430542, 0.767300009727478, 1.4944000244140625, 0.678600013256073, 0.592199981212616, 0.6266000270843506, 1.2243000268936157, 1.5185999870300293, 0.6036999821662903, 0.6570000052452087, 2.3194000720977783, 2.3190999031066895, 2.3189001083374023, 2.3187999725341797, 2.31850004196167, 2.3183000087738037, 2.3183000087738037, 2.3183000087738037, 2.3183000087738037, 2.3180999755859375, 2.3171000480651855, 2.3171000480651855, 2.316800117492676, 2.316499948501587, 2.3160998821258545, 2.3152999877929688, 2.315200090408325, 2.3150999546051025, 2.3150999546051025, 2.3148000240325928, 2.314300060272217, 2.314199924468994, 2.314199924468994, 2.313999891281128, 2.3134000301361084, 2.3132998943328857, 2.313199996948242, 2.3127999305725098, 2.3127999305725098, 2.3127999305725098, 2.2878000736236572, 2.2202000617980957, 2.1061999797821045, 2.2506000995635986, 2.2184998989105225, 1.6656999588012695, 2.1149001121520996, 2.012700080871582, 2.0792999267578125, 1.7294000387191772, 1.8287999629974365, 1.9495999813079834, 1.6664999723434448, 2.0394999980926514, 1.257099986076355, 1.8473000526428223, 1.323799967765808, 1.5825999975204468, 1.6518000364303589, 1.617900013923645, 1.1466000080108643, 1.3056999444961548, 0.9053000211715698, 1.3113000392913818, 1.1644999980926514, 1.3428000211715698, 0.9564999938011169, 1.0478999614715576, 0.843999981880188, 0.7782999873161316, 1.0733000040054321, 1.3529000282287598, 2.0866000652313232, 2.084700107574463, 2.083899974822998, 2.0834999084472656, 2.0829999446868896, 2.082900047302246, 2.08270001411438, 2.0824999809265137, 2.0822999477386475, 2.0822999477386475, 2.0820999145507812, 2.0820000171661377, 2.0817999839782715, 2.0817999839782715, 2.080899953842163, 2.080199956893921, 2.0801000595092773, 2.079699993133545, 2.079200029373169, 2.0787999629974365, 2.0787999629974365, 2.078700065612793, 2.0785999298095703, 2.0782999992370605, 2.078200101852417, 2.0780999660491943, 2.0780999660491943, 2.0776000022888184, 2.077399969100952, 2.0773000717163086, 2.052299976348877, 2.0499000549316406, 2.054800033569336, 2.027100086212158, 2.044800043106079, 2.0427000522613525, 2.0299999713897705, 1.9687999486923218, 1.9510999917984009, 1.8070000410079956, 1.7732000350952148, 2.0085999965667725, 1.8393000364303589, 1.767899990081787, 1.867900013923645, 1.686900019645691, 1.941100001335144, 1.4704999923706055, 1.6805000305175781, 1.620300054550171, 1.5119999647140503, 1.5095000267028809, 1.1342999935150146, 1.687000036239624, 1.2558000087738037, 1.5002000331878662, 1.2922999858856201, 1.6172000169754028, 1.6327999830245972, 1.779099941253662, 0.8557999730110168, 1.2058000564575195, 1.5648000240325928, 1.0571999549865723, 1.3280999660491943, 1.5987000465393066, -0.16380000114440918, 0.5738999843597412, 0.8064000010490417, 0.24009999632835388, 0.7581999897956848, -0.14159999787807465, 1.0608999729156494, 0.9858999848365784], \"logprob\": [30.0, 29.0, 28.0, 27.0, 26.0, 25.0, 24.0, 23.0, 22.0, 21.0, 20.0, 19.0, 18.0, 17.0, 16.0, 15.0, 14.0, 13.0, 12.0, 11.0, 10.0, 9.0, 8.0, 7.0, 6.0, 5.0, 4.0, 3.0, 2.0, 1.0, -4.122700214385986, -4.145199775695801, -4.6717000007629395, -5.030399799346924, -5.072000026702881, -5.314700126647949, -5.562600135803223, -5.618500232696533, -5.772500038146973, -5.7957000732421875, -5.955900192260742, -5.981100082397461, -6.036300182342529, -6.052199840545654, -6.224400043487549, -6.288599967956543, -6.339200019836426, -6.341100215911865, -6.390999794006348, -6.384099960327148, -6.415999889373779, -6.423099994659424, -6.432700157165527, -6.46619987487793, -6.566999912261963, -6.582099914550781, -6.585700035095215, -6.605199813842773, -6.625, -6.634200096130371, -6.3317999839782715, -4.311800003051758, -3.2472000122070312, -5.60860013961792, -3.086199998855591, -3.3578999042510986, -4.965700149536133, -4.708499908447266, -4.712200164794922, -5.9679999351501465, -5.523399829864502, -4.93310022354126, -4.312099933624268, -4.393700122833252, -5.677999973297119, -4.606500148773193, -5.192200183868408, -4.977399826049805, -5.142499923706055, -5.180300235748291, -4.508299827575684, -5.314199924468994, -5.097499847412109, -4.707600116729736, -4.997700214385986, -4.821300029754639, -5.125800132751465, -5.3907999992370605, -5.447299957275391, -5.35290002822876, -4.129300117492676, -4.2565999031066895, -4.444200038909912, -4.537499904632568, -4.560500144958496, -4.872200012207031, -5.192599773406982, -5.338500022888184, -5.538099765777588, -5.585299968719482, -5.834000110626221, -5.845900058746338, -6.080900192260742, -6.178199768066406, -5.3755998611450195, -6.226200103759766, -6.243800163269043, -6.3059000968933105, -6.3221001625061035, -6.3831000328063965, -6.398099899291992, -3.260200023651123, -6.4029998779296875, -6.417300224304199, -6.42110013961792, -6.473899841308594, -6.519700050354004, -6.583399772644043, -6.597599983215332, -6.6219000816345215, -2.775700092315674, -4.259300231933594, -4.260300159454346, -4.209199905395508, -5.130000114440918, -5.656400203704834, -5.375800132751465, -5.667099952697754, -4.469900131225586, -5.574999809265137, -5.127200126647949, -4.115499973297119, -4.93120002746582, -5.062900066375732, -4.793099880218506, -4.222400188446045, -4.921599864959717, -5.287799835205078, -4.918900012969971, -4.927000045776367, -4.769000053405762, -4.644100189208984, -4.54580020904541, -5.059899806976318, -5.091899871826172, -5.2733001708984375, -3.1910998821258545, -3.67330002784729, -5.8078999519348145, -5.94980001449585, -6.200300216674805, -6.33519983291626, -6.34119987487793, -6.4008002281188965, -6.489099979400635, -6.57450008392334, -6.582300186157227, -6.804200172424316, -6.805699825286865, -6.855599880218506, -6.9421000480651855, -6.976099967956543, -6.979599952697754, -7.0254998207092285, -7.09660005569458, -7.183000087738037, -7.188499927520752, -7.196000099182129, -7.199900150299072, -7.242400169372559, -7.2378997802734375, -7.303699970245361, -7.31220006942749, -7.317399978637695, -7.325099945068359, -7.341000080108643, -3.0701000690460205, -5.327899932861328, -6.2982001304626465, -7.014699935913086, -5.8343000411987305, -6.02400016784668, -6.333600044250488, -5.774700164794922, -5.408299922943115, -5.055500030517578, -4.438899993896484, -6.202099800109863, -6.057799816131592, -4.767000198364258, -5.353099822998047, -5.280099868774414, -4.782100200653076, -5.363800048828125, -4.679699897766113, -5.227099895477295, -3.84060001373291, -5.05810022354126, -3.7987000942230225, -5.2393999099731445, -4.48360013961792, -4.882800102233887, -5.5183000564575195, -4.818900108337402, -5.442599773406982, -5.473800182342529, -4.619500160217285, -4.9197001457214355, -5.049300193786621, -5.2631001472473145, -5.472799777984619, -5.319699764251709, -5.2129998207092285, -5.297900199890137, -5.374000072479248, -5.4380998611450195, -4.323599815368652, -5.0441999435424805, -5.526500225067139, -5.5929999351501465, -5.640999794006348, -5.730100154876709, -5.75540018081665, -5.7596001625061035, -5.784800052642822, -5.831600189208984, -5.867599964141846, -5.8744001388549805, -5.992499828338623, -5.819200038909912, -6.072700023651123, -6.111400127410889, -6.119800090789795, -6.177700042724609, -6.181000232696533, -6.1921000480651855, -6.198800086975098, -6.201700210571289, -6.20389986038208, -6.210400104522705, -6.225500106811523, -6.241300106048584, -5.740499973297119, -6.251100063323975, -6.273900032043457, -6.283199787139893, -5.715400218963623, -5.71560001373291, -3.5992000102996826, -4.613800048828125, -5.044300079345703, -4.1504998207092285, -4.60230016708374, -5.665299892425537, -5.697199821472168, -4.909800052642822, -4.8165998458862305, -4.857999801635742, -4.9405999183654785, -5.123199939727783, -4.342100143432617, -4.290599822998047, -4.582099914550781, -4.629199981689453, -4.657599925994873, -4.813300132751465, -4.991700172424316, -4.889400005340576, -4.8491997718811035, -5.241399765014648, -5.160900115966797, -5.372900009155273, -5.417699813842773, -5.504000186920166, -5.207699775695801, -5.473100185394287, -5.174799919128418, -5.226500034332275, -5.5030999183654785, -3.9872000217437744, -4.7642998695373535, -4.914400100708008, -4.967400074005127, -5.7683000564575195, -6.123199939727783, -6.211400032043457, -6.3267998695373535, -6.34089994430542, -6.425300121307373, -6.472700119018555, -6.50540018081665, -6.507199764251709, -6.515699863433838, -6.527299880981445, -6.541999816894531, -6.628699779510498, -6.6793999671936035, -6.759900093078613, -6.76669979095459, -6.776100158691406, -6.785200119018555, -6.786600112915039, -6.787300109863281, -6.790299892425537, -6.800000190734863, -6.807300090789795, -6.820700168609619, -6.855800151824951, -6.936800003051758, -5.3755998611450195, -6.176799774169922, -6.2357001304626465, -5.322000026702881, -6.3796000480651855, -6.439199924468994, -4.73330020904541, -5.837200164794922, -5.509699821472168, -4.250100135803223, -4.971799850463867, -4.407700061798096, -5.855000019073486, -5.345099925994873, -5.6331000328063965, -5.526299953460693, -4.605800151824951, -5.183300018310547, -5.804200172424316, -5.04010009765625, -5.969399929046631, -5.287399768829346, -5.528299808502197, -5.132299900054932, -5.1407999992370605, -4.961100101470947, -5.809599876403809, -5.593400001525879, -5.464200019836426, -5.323999881744385, -5.385200023651123, -5.336699962615967, -5.453400135040283, -5.482699871063232, -5.670100212097168, -5.592800140380859, -4.939799785614014, -5.025300025939941, -5.1656999588012695, -4.346799850463867, -5.342100143432617, -5.524099826812744, -5.660600185394287, -5.701399803161621, -5.851200103759766, -5.877699851989746, -5.928199768066406, -5.959499835968018, -6.003399848937988, -6.097899913787842, -6.143499851226807, -6.152900218963623, -6.179999828338623, -6.184999942779541, -6.216300010681152, -6.2378997802734375, -6.246799945831299, -6.26039981842041, -6.262499809265137, -6.289299964904785, -6.296000003814697, -6.3043999671936035, -6.310800075531006, -6.320700168609619, -6.346799850463867, -6.37529993057251, -5.136300086975098, -4.462299823760986, -5.043099880218506, -4.179999828338623, -5.361400127410889, -3.627700090408325, -4.081999778747559, -2.76200008392334, -6.06790018081665, -4.927499771118164, -5.745100021362305, -4.719600200653076, -5.521999835968018, -4.7769999504089355, -5.743299961090088, -3.8647000789642334, -4.51669979095459, -4.84499979019165, -4.7067999839782715, -5.030600070953369, -5.13100004196167, -5.113100051879883, -3.680500030517578, -4.940000057220459, -4.100100040435791, -4.838099956512451, -4.290200233459473, -5.065100193023682, -4.6707000732421875, -4.843299865722656, -4.779900074005127, -4.8765997886657715, -4.837800025939941, -4.999300003051758, -5.071100234985352, -3.7985999584198, -3.9249000549316406, -4.798699855804443, -4.9608001708984375, -5.05810022354126, -5.156400203704834, -5.296299934387207, -5.307000160217285, -5.305099964141846, -5.304500102996826, -5.4475998878479, -5.5381999015808105, -5.545000076293945, -5.72130012512207, -5.740799903869629, -5.744699954986572, -5.8643999099731445, -5.94920015335083, -5.958700180053711, -6.001299858093262, -5.945799827575684, -6.031899929046631, -6.035900115966797, -6.045300006866455, -6.067699909210205, -5.563399791717529, -6.098800182342529, -6.115900039672852, -4.972799777984619, -6.298600196838379, -5.553299903869629, -3.731800079345703, -4.516600131988525, -5.261099815368652, -4.785099983215332, -4.187699794769287, -5.790999889373779, -5.289999961853027, -5.42110013961792, -5.17110013961792, -4.319699764251709, -4.725599765777588, -4.867400169372559, -4.191800117492676, -4.335400104522705, -5.064499855041504, -5.0447998046875, -5.091700077056885, -5.092899799346924, -5.0594000816345215, -5.323999881744385, -5.270199775695801, -4.152100086212158, -4.653500080108643, -5.378300189971924, -5.743000030517578, -5.833099842071533, -6.05210018157959, -6.0524001121521, -6.09060001373291, -6.09499979019165, -6.110000133514404, -6.140900135040283, -6.149199962615967, -6.250899791717529, -6.294600009918213, -6.376800060272217, -6.40500020980835, -6.405200004577637, -6.429500102996826, -6.441500186920166, -6.441400051116943, -6.47189998626709, -6.478799819946289, -6.506400108337402, -6.539599895477295, -6.583199977874756, -6.589799880981445, -6.629899978637695, -6.645699977874756, -6.690499782562256, -6.690999984741211, -5.49429988861084, -4.359099864959717, -4.69379997253418, -5.664599895477295, -4.187699794769287, -6.013000011444092, -5.251999855041504, -4.334700107574463, -5.235099792480469, -4.8480000495910645, -4.848599910736084, -4.831399917602539, -4.484399795532227, -5.386899948120117, -5.78000020980835, -4.392300128936768, -5.640900135040283, -5.3317999839782715, -5.341700077056885, -4.940000057220459, -5.143599987030029, -5.113100051879883, -4.63070011138916, -4.083199977874756, -4.095799922943115, -4.873499870300293, -5.323500156402588, -4.85699987411499, -5.218400001525879, -4.744500160217285, -5.21750020980835, -4.820099830627441, -4.790200233459473, -4.89870023727417, -5.135900020599365, -5.273799896240234, -5.200200080871582, -5.23360013961792, -4.6529998779296875, -4.896900177001953, -4.9882001876831055, -5.053199768066406, -5.1894001960754395, -5.268400192260742, -5.277599811553955, -5.290500164031982, -5.212100028991699, -5.349299907684326, -5.6803998947143555, -5.6975998878479, -5.7758002281188965, -5.633500099182129, -5.929599761962891, -6.08620023727417, -6.105599880218506, -6.115200042724609, -6.13100004196167, -6.178699970245361, -5.922100067138672, -6.2733001708984375, -6.276599884033203, -6.299799919128418, -5.871200084686279, -6.394599914550781, -6.409599781036377, -6.4492998123168945, -6.461900234222412, -6.473700046539307, -3.145699977874756, -5.096499919891357, -4.509900093078613, -5.913599967956543, -5.763700008392334, -3.2365000247955322, -5.470799922943115, -5.095900058746338, -5.401100158691406, -4.342299938201904, -4.891499996185303, -5.212399959564209, -4.739200115203857, -5.51170015335083, -4.390399932861328, -5.2484002113342285, -4.595099925994873, -4.960599899291992, -5.103600025177002, -5.068399906158447, -4.599599838256836, -4.808000087738037, -4.606500148773193, -4.901299953460693, -4.826099872589111, -4.981900215148926, -4.885499954223633, -4.9644999504089355, -4.922500133514404, -5.121699810028076, -5.158400058746338, -5.205699920654297, -4.986199855804443, -5.820799827575684, -6.03980016708374, -6.142499923706055, -6.244500160217285, -6.24970006942749, -6.296599864959717, -6.338799953460693, -6.362800121307373, -6.375800132751465, -6.4039998054504395, -6.422800064086914, -6.449900150299072, -6.449999809265137, -6.58489990234375, -6.674900054931641, -6.683899879455566, -6.734899997711182, -6.797399997711182, -6.839300155639648, -6.841000080108643, -6.848800182342529, -6.8653998374938965, -6.892600059509277, -6.906599998474121, -6.910799980163574, -6.917799949645996, -6.958399772644043, -6.97730016708374, -6.98859977722168, -5.578000068664551, -5.468599796295166, -6.1483001708984375, -5.390200138092041, -5.926499843597412, -6.001200199127197, -6.117099761962891, -5.598100185394287, -5.847400188446045, -4.859600067138672, -4.645599842071533, -6.333799839019775, -5.3221001625061035, -5.0467000007629395, -5.741799831390381, -5.004199981689453, -6.099100112915039, -4.836400032043457, -5.443600177764893, -5.321000099182129, -5.097300052642822, -5.172599792480469, -4.4207000732421875, -5.576600074768066, -4.769599914550781, -5.260700225830078, -4.958799839019775, -5.499199867248535, -5.525599956512451, -5.787700176239014, -4.64300012588501, -5.094600200653076, -5.531899929046631, -5.077300071716309, -5.384200096130371, -5.630499839782715, -4.909599781036377, -5.220099925994873, -5.347300052642822, -5.296899795532227, -5.423900127410889, -5.407800197601318, -5.502399921417236, -5.517199993133545]}, \"token.table\": {\"Topic\": [4, 1, 8, 4, 4, 3, 2, 3, 5, 4, 1, 3, 7, 9, 10, 1, 7, 10, 1, 3, 3, 5, 7, 8, 6, 7, 1, 3, 5, 7, 8, 4, 5, 6, 9, 5, 6, 9, 5, 6, 9, 6, 4, 6, 1, 2, 3, 5, 6, 9, 10, 6, 10, 5, 6, 7, 9, 1, 3, 4, 5, 7, 8, 9, 10, 2, 5, 1, 7, 2, 3, 7, 8, 10, 1, 2, 3, 4, 5, 6, 7, 8, 9, 8, 3, 5, 5, 5, 1, 2, 9, 10, 1, 2, 9, 1, 9, 1, 2, 3, 4, 5, 6, 7, 8, 9, 10, 9, 9, 1, 3, 6, 9, 10, 3, 5, 10, 9, 1, 2, 5, 5, 6, 2, 1, 10, 3, 7, 9, 9, 2, 3, 5, 10, 4, 8, 4, 6, 9, 10, 6, 1, 4, 5, 7, 9, 10, 1, 2, 3, 9, 10, 1, 3, 9, 10, 1, 8, 8, 2, 1, 2, 1, 2, 4, 4, 4, 3, 5, 7, 8, 10, 1, 3, 7, 8, 10, 7, 3, 8, 1, 2, 5, 5, 4, 8, 10, 1, 2, 3, 9, 10, 5, 5, 6, 9, 9, 9, 1, 3, 5, 7, 8, 10, 3, 3, 4, 5, 7, 8, 7, 8, 2, 4, 5, 7, 9, 4, 9, 3, 4, 5, 7, 8, 9, 10, 10, 3, 5, 7, 1, 2, 3, 5, 8, 10, 6, 3, 5, 4, 4, 10, 3, 7, 1, 3, 5, 6, 7, 9, 10, 1, 2, 3, 5, 6, 7, 8, 9, 10, 1, 2, 3, 6, 7, 8, 9, 10, 1, 10, 10, 1, 2, 4, 9, 10, 1, 2, 4, 5, 8, 9, 10, 1, 2, 3, 4, 5, 7, 8, 2, 10, 9, 2, 1, 2, 3, 4, 5, 6, 7, 9, 10, 5, 6, 9, 8, 10, 10, 2, 3, 4, 5, 6, 7, 8, 9, 10, 3, 8, 1, 2, 3, 4, 5, 7, 8, 10, 6, 4, 1, 2, 3, 4, 5, 6, 7, 8, 9, 10, 3, 4, 8, 1, 8, 8, 6, 2, 3, 5, 7, 9, 10, 7, 1, 2, 7, 9, 8, 4, 6, 4, 2, 5, 8, 8, 10, 4, 2, 3, 8, 10, 3, 4, 4, 1, 4, 5, 7, 8, 9, 2, 3, 4, 5, 6, 9, 10, 5, 1, 2, 4, 5, 6, 7, 9, 3, 8, 1, 1, 7, 7, 2, 2, 3, 5, 7, 8, 5, 6, 8, 3, 5, 6, 7, 9, 10, 9, 1, 3, 5, 6, 7, 8, 2, 3, 5, 6, 7, 8, 5, 8, 5, 1, 1, 3, 5, 7, 8, 10, 1, 2, 3, 10, 2, 3, 4, 5, 6, 9, 3, 1, 2, 3, 4, 5, 6, 7, 8, 9, 10, 1, 5, 3, 1, 2, 7, 9, 1, 1, 2, 5, 7, 9, 10, 10, 1, 2, 3, 4, 5, 6, 7, 8, 9, 10, 3, 1, 2, 3, 4, 5, 6, 7, 8, 9, 10, 5, 8, 3, 1, 2, 5, 6, 7, 9, 10, 4, 1, 2, 3, 4, 5, 9, 4, 2, 9, 3, 2, 3, 5, 6, 9, 10, 3, 2, 3, 5, 6, 7, 8, 9, 10, 6, 9, 3, 6, 9, 10, 2, 3, 5, 6, 8, 9, 10, 2, 1, 2, 3, 4, 5, 6, 8, 9, 10, 1, 2, 3, 4, 5, 6, 7, 8, 9, 10, 3, 9, 6, 6, 1, 7, 1, 2, 3, 8, 4, 7, 9, 5, 6, 1, 2, 3, 4, 5, 7, 8, 9, 10, 5, 9, 4, 9, 1, 3, 4, 6, 7, 8, 9, 8, 1, 2, 3, 5, 8, 8, 9, 5, 8, 1, 5, 8, 8, 1, 2, 1, 2, 3, 4, 3, 5, 10, 3, 6, 9, 9, 1, 2, 3, 4, 5, 6, 7, 8, 9, 3, 9, 10, 1, 3, 4, 6, 7, 9, 10, 1, 2, 3, 4, 5, 6, 7, 8, 9, 5, 5, 3, 6, 9, 5, 6, 9, 1, 4, 5, 6, 7, 9, 3, 5, 8, 10, 1, 7, 8, 9, 10, 1, 2, 3, 4, 5, 9, 10, 2, 3, 5, 9, 10, 7, 10, 9, 5, 1, 8, 1, 2, 3, 4, 5, 7, 8, 9, 10, 6, 9, 10, 10, 1, 2, 4, 5, 6, 7, 8, 9, 10, 7, 4, 5, 6, 7, 9, 10, 4, 4, 9, 10, 10, 6, 9, 4, 5, 7, 6, 9, 3, 5, 10, 9, 3, 3, 3, 3, 4, 5, 8, 10, 1, 2, 3, 4, 5, 6, 7, 8, 9, 10, 1, 3, 5, 7, 9, 10, 8, 1, 10, 1, 2, 3, 5, 9, 10, 10, 7, 1, 2, 3, 4, 5, 7, 8, 10, 1, 3, 4, 6, 8, 3, 4, 8, 1, 3, 5, 8, 1, 1, 2, 1, 4, 5, 8, 1, 2, 3, 4, 5, 8, 9, 10, 5, 9, 10, 5, 7, 6, 3, 5, 7, 2, 3, 4, 5, 6, 7, 9, 10, 5, 7, 8, 4, 5, 7, 9, 10, 1, 1, 1, 2, 3, 4, 5, 6, 7, 8, 9, 10, 4, 5, 6, 1, 4, 5, 6, 9, 10, 8, 8, 8, 8, 1, 2, 1, 3, 4, 5, 6, 7, 9, 10, 7, 7, 10, 7, 10, 3, 10, 1, 2, 9, 10, 2, 9, 7, 1, 4, 10, 10, 1, 1, 2, 3, 4, 5, 6, 7, 8, 9, 10, 1, 3, 6, 7, 8, 9, 10, 6, 1, 2, 3, 4, 6, 8, 10, 1, 2, 3, 4, 7, 8, 1, 2, 3, 4, 5, 6, 7, 9, 10, 5, 6, 1, 3, 4, 5, 6, 7, 8, 9, 10, 8, 2, 9, 6, 2, 2, 10, 1, 2, 3, 4, 5, 7, 9, 10, 5, 1, 3, 4, 7, 8, 7, 9, 10, 6, 7, 10, 6, 1, 3, 4, 5, 8, 10, 1, 2, 3, 4, 5, 6, 7, 9, 1, 3, 4, 6, 7, 8, 9, 3, 6, 7, 8, 9, 10, 10, 1, 3, 4, 5, 6, 7, 8, 9, 10, 6, 10, 1, 3, 4, 5, 8, 10, 5, 6, 7, 1, 2, 3, 5, 6, 7, 8, 9, 10, 1, 2, 3, 4, 5, 6, 7, 8, 9, 10, 3, 10, 3, 4, 5, 6, 7, 9, 1, 2, 3, 4, 5, 6, 7, 8, 10, 10, 1, 3, 5, 10, 3, 5, 1, 10, 6, 2, 3, 4, 5, 8, 9, 3, 1, 2, 3, 5, 6, 7, 8, 9, 10, 1, 2, 3, 4, 5, 7, 8, 1, 2, 4, 5, 6, 7, 9, 1, 2, 5, 6, 7, 9, 5, 2, 1, 2, 3, 5, 6, 7, 9, 1, 5, 6, 7, 9, 6, 6, 6, 6, 2, 5, 7, 9, 2, 3, 4, 5, 9, 10, 1, 3, 5, 7, 9, 10, 1, 3, 5, 10, 9, 10, 5, 5, 4, 5, 7, 8, 9, 5, 5, 2, 3, 10, 2, 3, 5, 7, 9, 10, 7, 3, 4, 1, 2, 3, 8, 9, 2, 3, 4, 5, 7, 8, 3, 1, 10, 9, 6, 8, 6, 1, 2, 3, 4, 5, 6, 7, 9, 7, 1, 2, 7, 9, 1, 7, 9, 1, 10, 2, 2, 4, 8, 5, 5, 8, 3, 4, 5, 6, 7, 10, 7, 5, 4, 3, 10, 4, 6, 7, 9, 10, 6, 9, 10, 4, 4, 5, 9, 10, 1, 4, 7, 8, 7, 1, 2, 3, 4, 5, 6, 7, 8, 9, 10, 5, 7, 10, 5, 6, 9, 5, 6, 5, 2, 1, 5, 1, 2, 3, 5, 7, 8, 10, 4, 3, 4, 5, 7, 9, 10, 1, 4, 5, 8, 9, 2, 9, 9, 1, 2, 3, 4, 5, 10, 1, 2, 3, 8, 10, 2, 2, 3, 5, 7, 9, 2, 2, 1, 1, 3, 5, 7, 8, 7, 4, 5, 9, 8, 8, 3, 6, 7, 7, 2, 5, 10, 7, 10, 6, 8, 1, 3, 9, 10, 1, 3, 6, 7, 9, 10, 9, 1, 3, 9, 9, 1, 2, 1, 2, 3, 4, 5, 8, 10, 7, 2, 3, 4, 5, 8, 10, 4, 5, 8, 1, 2, 4, 5, 7, 8, 9, 2, 3, 4, 5, 6, 9, 10, 1, 5, 6, 1, 4, 9, 10, 1, 7, 1, 4, 10, 3, 3, 3, 4, 6, 9, 10, 9, 4, 9, 9, 9, 3, 4, 5, 7, 9, 10, 6, 6, 1, 1, 2, 3, 4, 5, 7, 8, 10, 1, 4, 9, 10, 4, 2, 3, 5, 7, 3, 10, 1, 2, 3, 4, 5, 6, 7, 9, 10, 1, 2, 7, 4, 10, 4, 9, 10, 3, 4, 5, 8, 5, 4, 1, 2, 3, 4, 5, 6, 7, 8, 9, 10, 1, 4, 9, 10, 1, 2, 1, 2, 3, 5, 10, 1, 2, 3, 4, 5, 6, 7, 8, 10, 1, 9, 10, 6, 1, 4, 5, 9, 10, 4, 9, 4, 9, 8, 6, 3, 4, 5, 7, 9, 3, 4, 5, 7, 8, 4, 1, 2, 3, 5, 6, 8, 9, 8, 2, 3, 5, 6, 7, 8, 10, 2, 3, 5, 8, 10, 1, 2, 1, 2, 5, 5, 6, 9, 2, 9, 10, 2, 2, 2, 3, 2, 3, 5, 9, 10, 2, 2, 2, 1, 2, 3, 5, 6, 8, 9, 10, 1, 6, 9, 10, 6], \"Freq\": [0.9893836379051208, 0.9951419830322266, 0.995162844657898, 0.9880421757698059, 0.9957276582717896, 0.9859503507614136, 0.9944788813591003, 0.9817060828208923, 0.009006477892398834, 0.9898953437805176, 0.1456783264875412, 0.0023687530774623156, 0.08882824331521988, 0.03671567514538765, 0.7260228395462036, 0.6801676750183105, 0.22844341397285461, 0.09163548797369003, 0.9940902590751648, 0.9960172772407532, 0.6591896414756775, 0.3098871111869812, 0.0013591538881883025, 0.027183078229427338, 0.1187455803155899, 0.8776847124099731, 0.006412625312805176, 0.4702591896057129, 0.07053887844085693, 0.037406980991363525, 0.4157518744468689, 0.17181114852428436, 0.3009363114833832, 0.4876875579357147, 0.03841739892959595, 0.13013792037963867, 0.8683339953422546, 0.0011218786239624023, 0.16439159214496613, 0.8312281370162964, 0.003708080854266882, 0.9957124590873718, 0.9913144707679749, 0.9915437698364258, 0.003024912206456065, 0.03428233787417412, 0.2214908003807068, 0.011427446268498898, 0.2332543432712555, 0.11158564686775208, 0.38517215847969055, 0.9933976531028748, 0.9959360361099243, 0.06747594475746155, 0.5266414880752563, 0.4015641510486603, 0.003291509347036481, 0.34799817204475403, 0.29869845509529114, 0.10149946808815002, 0.03673314303159714, 0.02223321795463562, 0.09859948605298996, 0.021266555413603783, 0.07346628606319427, 0.9950159192085266, 0.9992758631706238, 0.9886235594749451, 0.9983256459236145, 0.009961063042283058, 0.4692767560482025, 0.005533923860639334, 0.4305392801761627, 0.0841156467795372, 0.14282472431659698, 0.13126665353775024, 0.05572640895843506, 0.15809787809848785, 0.011145281605422497, 0.10278426110744476, 0.08090648800134659, 0.2889517545700073, 0.028069598600268364, 0.9913941025733948, 0.14292429387569427, 0.8545048236846924, 0.997248113155365, 0.9884803891181946, 0.7908408045768738, 0.013240865431725979, 0.1300012171268463, 0.06379690021276474, 0.8664906620979309, 0.0949578806757927, 0.035609204322099686, 0.18438923358917236, 0.8143857717514038, 0.2618657052516937, 0.011950219981372356, 0.18185117840766907, 0.033252786844968796, 0.020263416692614555, 0.009352345950901508, 0.009352345950901508, 0.14392220973968506, 0.31486231088638306, 0.013508944772183895, 0.9923072457313538, 0.9989277124404907, 0.014526189304888248, 0.08554311096668243, 0.18077035248279572, 0.05326269194483757, 0.6649766564369202, 0.9314150810241699, 0.0031788910273462534, 0.06357782334089279, 0.9981873035430908, 0.9591315984725952, 0.04008603096008301, 0.998696506023407, 0.06032761186361313, 0.9393870830535889, 0.9899501204490662, 0.9628937244415283, 0.03233598545193672, 0.9832990169525146, 0.9967402219772339, 0.9985752701759338, 0.995540976524353, 0.04435599967837334, 0.031682856380939484, 0.050692569464445114, 0.8712785243988037, 0.9972107410430908, 0.9889698624610901, 0.00104176823515445, 0.4177490472793579, 0.4948399066925049, 0.0854249894618988, 0.9900972247123718, 0.012582522816956043, 0.7118113040924072, 0.07010263204574585, 0.18334533274173737, 0.019772537052631378, 0.00179750332608819, 0.0038844135124236345, 0.18256743252277374, 0.004855516832321882, 0.806986927986145, 0.0019422067562118173, 0.20501214265823364, 0.05403420701622963, 0.734229564666748, 0.004767724312841892, 0.01663128286600113, 0.9812456369400024, 0.9915961623191833, 0.9870210289955139, 0.014675337821245193, 0.9849741458892822, 0.0026606405153870583, 0.9950795769691467, 0.9985790848731995, 0.9878871440887451, 0.9952712655067444, 0.7075638771057129, 0.009878727607429028, 0.06174204871058464, 0.17040805518627167, 0.04939363896846771, 0.08072170615196228, 0.5030005574226379, 0.053265344351530075, 0.3064129948616028, 0.056010980159044266, 0.9954023957252502, 0.9954383969306946, 0.9879378080368042, 0.07214689999818802, 0.9247920513153076, 0.9989129304885864, 0.993158757686615, 0.010915849357843399, 0.0654950961470604, 0.9223893284797668, 0.006224286276847124, 0.1670183539390564, 0.13071000576019287, 0.13485953211784363, 0.5601857900619507, 0.9946166276931763, 0.38009074330329895, 0.6176474094390869, 0.9979556202888489, 0.9952108263969421, 0.9949568510055542, 0.0004858300380874425, 0.6942511200904846, 0.08647774904966354, 0.07967612892389297, 0.02574899233877659, 0.11368422955274582, 0.989043116569519, 0.22985072433948517, 0.04793095588684082, 0.003268019761890173, 0.26144158840179443, 0.45643341541290283, 0.9952136874198914, 0.9870854020118713, 0.9985606670379639, 0.32573679089546204, 0.011122720316052437, 0.1032823994755745, 0.5593138933181763, 0.8329871892929077, 0.16489747166633606, 0.06466695666313171, 0.2123231738805771, 0.0754447877407074, 0.0021555651910603046, 0.0021555651910603046, 0.6111027598381042, 0.03125569596886635, 0.9954681992530823, 0.8308189511299133, 0.0015328762819990516, 0.16555064916610718, 0.07529190182685852, 0.0731407031416893, 0.5464041233062744, 0.059157922863960266, 0.10863546282052994, 0.13767662644386292, 0.9901841282844543, 0.9601103067398071, 0.0387488454580307, 0.987035870552063, 0.9873959422111511, 0.9959139823913574, 0.9963491559028625, 0.9983508586883545, 0.005959956906735897, 0.17581872642040253, 0.023839827626943588, 0.247338205575943, 0.4037870764732361, 0.10280925035476685, 0.04022970795631409, 0.062170226126909256, 0.10250968486070633, 0.05789899080991745, 0.03227156773209572, 0.019932439550757408, 0.40102168917655945, 0.026102004572749138, 0.21403643488883972, 0.084475576877594, 0.22867120802402496, 0.009484059177339077, 0.002107568783685565, 0.005268921609967947, 0.6407008767127991, 0.08851788938045502, 0.018968118354678154, 0.006322706118226051, 0.9134292602539062, 0.08417877554893494, 0.995586633682251, 0.0033489051274955273, 0.2254929393529892, 0.1585148423910141, 0.512382447719574, 0.10046715289354324, 0.08536334335803986, 0.21717439591884613, 0.4770304560661316, 0.0025106866378337145, 0.013808776624500751, 0.16570530831813812, 0.03766029700636864, 0.13267189264297485, 0.14457833766937256, 0.07994331419467926, 0.01530829444527626, 0.006803686730563641, 0.02891566790640354, 0.5902197957038879, 0.02848776988685131, 0.9685841798782349, 0.997484028339386, 0.9919514060020447, 0.02089986391365528, 0.2245049923658371, 0.15438932180404663, 0.003370946040377021, 0.012135405093431473, 0.02764175646007061, 0.07483500242233276, 0.031012702733278275, 0.4510325789451599, 0.9506092071533203, 0.046371180564165115, 0.9966347813606262, 0.9985255599021912, 0.997830331325531, 0.994480311870575, 0.13421431183815002, 0.18886858224868774, 0.19371137022972107, 0.19232772290706635, 0.038742274045944214, 0.10308212041854858, 0.0020754789002239704, 0.05811341106891632, 0.08786194771528244, 0.10188402235507965, 0.896579384803772, 0.0502547025680542, 0.09579802304506302, 0.0502547025680542, 0.0989389419555664, 0.03455010801553726, 0.05339562147855759, 0.023556891828775406, 0.5920631885528564, 0.9866313338279724, 0.9917129278182983, 0.04904509708285332, 0.04247204214334488, 0.256349116563797, 0.03943832591176033, 0.23764118552207947, 0.047528237104415894, 0.0561237707734108, 0.03235965222120285, 0.045000139623880386, 0.19365228712558746, 0.05360519886016846, 0.05717887729406357, 0.8898462653160095, 0.9994624257087708, 0.9933850765228271, 0.9948883056640625, 0.989237904548645, 0.11329004168510437, 0.12745128571987152, 0.6797402501106262, 0.0778869017958641, 0.0017701569013297558, 0.9955942630767822, 0.9929115176200867, 0.02870749868452549, 0.2285558581352234, 0.7364577651023865, 0.0060727400705218315, 0.9933906197547913, 0.9971640706062317, 0.9928306937217712, 0.9920724630355835, 0.9964757561683655, 0.9914259314537048, 0.9914252161979675, 0.9962463974952698, 0.9958752989768982, 0.9906197190284729, 0.09429104626178741, 0.3389987647533417, 0.011225124821066856, 0.5556436777114868, 0.9954655170440674, 0.9861156344413757, 0.9962571263313293, 0.02237044647336006, 0.10575120151042938, 0.19523298740386963, 0.002033676952123642, 0.6690797209739685, 0.004067353904247284, 0.44569554924964905, 0.03323831409215927, 0.006043329834938049, 0.3089652359485626, 0.04683580622076988, 0.1578819900751114, 0.0007554162293672562, 0.993830680847168, 0.005161514971405268, 0.4365167021751404, 0.03613060712814331, 0.03944872319698334, 0.11650276929140091, 0.02101474069058895, 0.34508416056632996, 0.9298962354660034, 0.06811846047639847, 0.9944469332695007, 0.9924765825271606, 0.9988650679588318, 0.9943597912788391, 0.9970194101333618, 0.9948359727859497, 0.020612232387065887, 0.13777649402618408, 0.22022542357444763, 0.6216214895248413, 0.01662522181868553, 0.9725754857063293, 0.9866186380386353, 0.39754655957221985, 0.03133171424269676, 0.12939591705799103, 0.08545013517141342, 0.30924808979034424, 0.04720102623105049, 0.9952437281608582, 0.007065787445753813, 0.14396542310714722, 0.6076577305793762, 0.12320967018604279, 0.05608468875288963, 0.06182564049959183, 0.024989619851112366, 0.26933255791664124, 0.6191872358322144, 0.050904780626297, 0.03424503281712532, 0.0009255414479412138, 0.9069745540618896, 0.09050489217042923, 0.9906230568885803, 0.9978694915771484, 0.03599940240383148, 0.6157792210578918, 0.1563131958246231, 0.09189321100711823, 0.0009473526733927429, 0.09852467477321625, 0.36080747842788696, 0.001670404919423163, 0.001670404919423163, 0.6347538828849792, 0.05569003149867058, 0.1777341365814209, 0.4147129952907562, 0.049765560775995255, 0.28911420702934265, 0.013033837080001831, 0.9857679009437561, 0.29712173342704773, 0.008547336794435978, 0.22833600640296936, 0.04355071857571602, 0.09076458215713501, 0.01221048180013895, 0.1440836787223816, 0.022385884076356888, 0.07774006575345993, 0.07529797405004501, 0.020606698468327522, 0.9736665487289429, 0.9954864978790283, 0.6538833975791931, 0.10723688453435898, 0.13862328231334686, 0.09677474945783615, 0.9915047883987427, 0.04639093950390816, 0.12618336081504822, 0.08164805918931961, 0.012989463284611702, 0.06494731456041336, 0.6698852181434631, 0.9919444918632507, 0.12061583995819092, 0.0020950643811374903, 0.3889337182044983, 0.04145234450697899, 0.012271090410649776, 0.03636432811617851, 0.10909298807382584, 0.1810734122991562, 0.002843301510438323, 0.10520215332508087, 0.9972307682037354, 0.07885795086622238, 0.11473898589611053, 0.3628269135951996, 0.03521161526441574, 0.017271095886826515, 0.029990119859576225, 0.1127307191491127, 0.15999193489551544, 0.04766286909580231, 0.0409686453640461, 0.9494003057479858, 0.04315456002950668, 0.9928008913993835, 0.00394412549212575, 0.0828266367316246, 0.11832376569509506, 0.21749034523963928, 0.012959269806742668, 0.5538679361343384, 0.01070548314601183, 0.9929438829421997, 0.001972402213141322, 0.366866797208786, 0.03944804146885872, 0.39250802993774414, 0.12623374164104462, 0.07297887653112411, 0.9907093644142151, 0.9905222058296204, 0.9984493255615234, 0.9931073784828186, 0.10844409465789795, 0.6107114553451538, 0.003805055981501937, 0.0780036449432373, 0.08085744082927704, 0.1179567351937294, 0.9890915751457214, 0.12322617322206497, 0.5566423535346985, 0.025495070964097977, 0.03611801564693451, 0.07542291283607483, 0.014872124418616295, 0.02655736543238163, 0.14234746992588043, 0.06393853574991226, 0.9316757917404175, 0.009609382599592209, 0.08007818460464478, 0.2834767699241638, 0.6246098279953003, 0.05937626212835312, 0.0321621410548687, 0.022266097366809845, 0.06679829210042953, 0.05442823842167854, 0.7545733451843262, 0.009896043688058853, 0.9990509152412415, 0.07466290891170502, 0.21974653005599976, 0.09389426559209824, 0.18948541581630707, 0.003959396854043007, 0.23728099465370178, 0.16883999109268188, 0.0050906529650092125, 0.007635979447513819, 0.08152522146701813, 0.11054990440607071, 0.2582343518733978, 0.017073344439268112, 0.006402504164725542, 0.14555026590824127, 0.002134168054908514, 0.15750160813331604, 0.00042683363426476717, 0.2198193073272705, 0.9919178485870361, 0.9973870515823364, 0.9951986074447632, 0.9884449243545532, 0.9869847297668457, 0.007592190522700548, 0.05645161122083664, 0.21827955543994904, 0.003763440763577819, 0.7188171744346619, 0.9942465424537659, 0.9932022094726562, 0.005146125331521034, 0.24681171774864197, 0.7510128021240234, 0.005150320008397102, 0.04088066518306732, 0.11588220298290253, 0.2047252207994461, 0.14935928583145142, 0.028648655861616135, 0.20118437707424164, 0.24270883202552795, 0.01126632560044527, 0.9982932209968567, 0.9915871024131775, 0.981339156627655, 0.012190548703074455, 0.08026766777038574, 0.121975377202034, 0.0007869378896430135, 0.04800321161746979, 0.001573875779286027, 0.22742505371570587, 0.5201659798622131, 0.9952000975608826, 0.022559506818652153, 0.14099691808223724, 0.01973956823348999, 0.09305796772241592, 0.7190842628479004, 0.9948218464851379, 0.9900565147399902, 0.22932745516300201, 0.7698850035667419, 0.9973896145820618, 0.3647470772266388, 0.6338043212890625, 0.9954638481140137, 0.9988182187080383, 0.993986964225769, 0.323393851518631, 0.6757656335830688, 0.9951788187026978, 0.9903990030288696, 0.8510143160820007, 0.13199405372142792, 0.013894110918045044, 0.9939978718757629, 0.8622562289237976, 0.13626937568187714, 0.9902873039245605, 0.0387088768184185, 0.09206435829401016, 0.14228127896785736, 0.02301608957350254, 0.036616504192352295, 0.5785408020019531, 0.01150804478675127, 0.06590971350669861, 0.010461858473718166, 0.23494243621826172, 0.009193399921059608, 0.7548802495002747, 0.09510582685470581, 0.08192284405231476, 0.014124628156423569, 0.06403164565563202, 0.3314579427242279, 0.35970720648765564, 0.05367358773946762, 0.0011919346870854497, 0.05006125941872597, 0.16925473511219025, 0.011919347569346428, 0.3367215692996979, 0.0858193039894104, 0.21395228803157806, 0.025626596063375473, 0.10489025712013245, 0.9907466173171997, 0.9933298230171204, 0.9915801882743835, 0.9864628911018372, 0.009930834174156189, 0.4032963812351227, 0.5732569694519043, 0.02160516194999218, 0.005964014679193497, 0.013916034251451492, 0.2052614986896515, 0.5273182988166809, 0.1699744164943695, 0.07703518867492676, 0.2809171676635742, 0.5439983010292053, 0.07580304890871048, 0.09809806197881699, 0.06708577275276184, 0.6601240038871765, 0.04561832547187805, 0.2227247655391693, 0.9901874661445618, 0.009405276738107204, 0.6395587921142578, 0.2633477449417114, 0.010972823016345501, 0.010972823016345501, 0.06113429740071297, 0.0031350923236459494, 0.32215389609336853, 0.39451268315315247, 0.018246999010443687, 0.0006292068283073604, 0.26426687836647034, 0.9971745014190674, 0.9903629422187805, 0.9986680150032043, 0.9900968074798584, 0.9877515435218811, 0.9891906976699829, 0.030868055298924446, 0.0019292534561827779, 0.05401909723877907, 0.09453342109918594, 0.02411566860973835, 0.09356879442930222, 0.054983723908662796, 0.08488715440034866, 0.562377393245697, 0.08796913176774979, 0.022620635107159615, 0.8872315883636475, 0.9925312399864197, 0.019175635650753975, 0.02314300835132599, 0.08265359699726105, 0.05686567723751068, 0.05289830267429352, 0.2830059230327606, 0.08926589041948318, 0.2869732975959778, 0.10513538122177124, 0.9936990141868591, 0.018804406747221947, 0.3349534869194031, 0.23446744680404663, 0.048773929476737976, 0.36257246136665344, 0.0005876377108506858, 0.9863517880439758, 0.3051995038986206, 0.06722456216812134, 0.6265329122543335, 0.9889353513717651, 0.8009084463119507, 0.19711938500404358, 0.4276593029499054, 0.2777581214904785, 0.2924543023109436, 0.9937424063682556, 0.9976142048835754, 0.0023944557178765535, 0.031127924099564552, 0.9625712037086487, 0.997176468372345, 0.9917890429496765, 0.994709312915802, 0.9824398756027222, 0.46797478199005127, 0.0018424204317852855, 0.10409675538539886, 0.06724834442138672, 0.3583507835865021, 0.08139732480049133, 0.024502255022525787, 0.09883960336446762, 0.018272867426276207, 0.2807376980781555, 0.020349331200122833, 0.09302551299333572, 0.02076462283730507, 0.22841085493564606, 0.13413946330547333, 0.004810900893062353, 0.0264599546790123, 0.43177834153175354, 0.009621801786124706, 0.47026553750038147, 0.056528083980083466, 0.9876354932785034, 0.0376591794192791, 0.9565430879592896, 0.02529018372297287, 0.192837655544281, 0.0010537576163187623, 0.5700829029083252, 0.15174110233783722, 0.057956669479608536, 0.9870514273643494, 0.9922366738319397, 0.032899271696805954, 0.01028102170675993, 0.14907482266426086, 0.013365328311920166, 0.3156273663043976, 0.01953394152224064, 0.44414013624191284, 0.015421533025801182, 0.07715196907520294, 0.21731138229370117, 0.03600425273180008, 0.06429331004619598, 0.6050000190734863, 0.05794154480099678, 0.11336389183998108, 0.8275564312934875, 0.4262363910675049, 0.35587355494499207, 0.063597172498703, 0.15425696969032288, 0.9980259537696838, 0.8696860671043396, 0.12913520634174347, 0.04547753185033798, 0.13643260300159454, 0.04197926074266434, 0.7766163349151611, 0.13616357743740082, 0.1969057023525238, 0.29966112971305847, 0.18627582490444183, 0.018222635611891747, 0.010123686864972115, 0.08200185745954514, 0.07086580246686935, 0.9923393130302429, 0.9927413463592529, 0.0046607572585344315, 0.9942014217376709, 0.9918673038482666, 0.9949148297309875, 0.16717687249183655, 0.7791072726249695, 0.053622767329216, 0.03973231092095375, 0.2576580047607422, 0.026488207280635834, 0.4009351432323456, 0.13725706934928894, 0.018060140311717987, 0.09993278235197067, 0.02046816051006317, 0.5272056460380554, 0.28218579292297363, 0.18995921313762665, 0.0049137850292027, 0.9827569723129272, 0.0049137850292027, 0.9882742762565613, 0.992128849029541, 0.9974924921989441, 0.993975043296814, 0.02244105190038681, 0.060911424458026886, 0.30712181329727173, 0.2545456290245056, 0.12310519814491272, 0.0429585836827755, 0.04359975829720497, 0.06860549747943878, 0.0705290213227272, 0.005770556163042784, 0.994376003742218, 0.059095095843076706, 0.9376421570777893, 0.03171100094914436, 0.10570333898067474, 0.0017617223784327507, 0.5831300616264343, 0.08808611333370209, 0.19026601314544678, 0.9987239241600037, 0.9946589469909668, 0.9960311055183411, 0.9938263297080994, 0.0067289830185472965, 0.993005633354187, 0.10826344043016434, 0.010736869648098946, 0.050105392932891846, 0.0017894783522933722, 0.03400008752942085, 0.2558954060077667, 0.2890007495880127, 0.24873748421669006, 0.9977779388427734, 0.9921786785125732, 0.9895437359809875, 0.9945634603500366, 0.0046474928967654705, 0.9895555377006531, 0.9896042346954346, 0.991341233253479, 0.6133816838264465, 0.379581481218338, 0.006418044213205576, 0.857234001159668, 0.14007091522216797, 0.9938777685165405, 0.013978438451886177, 0.8806415796279907, 0.10344044119119644, 0.9856915473937988, 0.9955251216888428, 0.06753583997488022, 0.15061089396476746, 0.31437036395072937, 0.031078439205884933, 0.03944571316242218, 0.009562596678733826, 0.017332207411527634, 0.1559898555278778, 0.009562596678733826, 0.20440050959587097, 0.0014164444291964173, 0.2068008929491043, 0.1572253257036209, 0.13597866892814636, 0.06161533296108246, 0.022663110867142677, 0.4136017858982086, 0.9967706799507141, 0.018753446638584137, 0.04096147418022156, 0.1135077029466629, 0.24675588309764862, 0.14015734195709229, 0.4382384419441223, 0.0014805352548137307, 0.08513934910297394, 0.0016693990910425782, 0.3121776282787323, 0.018363390117883682, 0.006677596364170313, 0.5742732882499695, 0.0005379680078476667, 0.159776508808136, 0.11942890286445618, 0.033891983330249786, 0.21572516858577728, 0.0032278080470860004, 0.008607488125562668, 0.02367059327661991, 0.43521612882614136, 0.15518544614315033, 0.844129741191864, 0.0676722377538681, 0.07293564081192017, 0.24963538348674774, 0.0030076552648097277, 0.012782534584403038, 0.039099518209695816, 0.2594102621078491, 0.2564026117324829, 0.038347601890563965, 0.9873552918434143, 0.9145257472991943, 0.08418228477239609, 0.994225800037384, 0.9981895089149475, 0.9948837757110596, 0.9937697052955627, 0.029015369713306427, 0.008704611100256443, 0.04545741155743599, 0.0004835894796997309, 0.4661802649497986, 0.03046613745391369, 0.3689787685871124, 0.0507768951356411, 0.9920340180397034, 0.09214219450950623, 0.14527527987957, 0.0006725707789883018, 0.02892054244875908, 0.7331021428108215, 0.9987887740135193, 0.9959482550621033, 0.9897481203079224, 0.9747841358184814, 0.006676603574305773, 0.01836065948009491, 0.9969167113304138, 0.0009401953429915011, 0.5279197096824646, 0.0009401953429915011, 0.16876506805419922, 0.180047407746315, 0.12081509828567505, 0.3098736107349396, 0.0595073439180851, 0.05587884783744812, 0.0014513985952362418, 0.005805594380944967, 0.18577902019023895, 0.005805594380944967, 0.37591224908828735, 0.567007839679718, 0.02314317598938942, 0.019093120470643044, 0.06248657777905464, 0.055543623864650726, 0.12670889496803284, 0.14580200612545013, 0.046951714903116226, 0.28171029686927795, 0.0009029176435433328, 0.19232144951820374, 0.4776434302330017, 0.9899993538856506, 0.9925525188446045, 0.1875346601009369, 0.0004311141383368522, 0.20564144849777222, 0.018537908792495728, 0.17287677526474, 0.0577692948281765, 0.17072120308876038, 0.13623207807540894, 0.050009239464998245, 0.9942342638969421, 0.9951226115226746, 0.0011584191815927625, 0.2907632291316986, 0.0671883150935173, 0.19577284157276154, 0.42629826068878174, 0.017376288771629333, 0.9868389368057251, 0.9955154657363892, 0.9970051050186157, 0.4234590530395508, 0.08115431666374207, 0.011444839648902416, 0.0020808798726648092, 0.014566158875823021, 0.15502554178237915, 0.13421675562858582, 0.10924619436264038, 0.06970947235822678, 0.041301894932985306, 0.041301894932985306, 0.28053516149520874, 0.0009531206451356411, 0.10103078931570053, 0.0025416549760848284, 0.05623411759734154, 0.18395228683948517, 0.00031770687201060355, 0.29165491461753845, 0.053870394825935364, 0.9427318572998047, 0.055175989866256714, 0.04810214787721634, 0.650793731212616, 0.06649414449930191, 0.16411320865154266, 0.014147690497338772, 0.16117464005947113, 0.001957586733624339, 0.445677250623703, 0.08743887394666672, 0.07340950518846512, 0.019249603152275085, 0.0013050577836111188, 0.17455148696899414, 0.03491029515862465, 0.986093282699585, 0.03514894098043442, 0.8289292454719543, 0.04686525836586952, 0.08494327962398529, 0.9916797280311584, 0.990436851978302, 0.385474294424057, 0.6131730675697327, 0.9963527917861938, 0.03871528431773186, 0.6813890337944031, 0.015486113727092743, 0.1924702674150467, 0.05641370266675949, 0.014379963278770447, 0.9911611676216125, 0.1910567730665207, 0.03707071766257286, 0.049902889877557755, 0.00427739042788744, 0.05418027937412262, 0.01924825832247734, 0.0014257968869060278, 0.10337027162313461, 0.5389512181282043, 0.18928442895412445, 0.04319242015480995, 0.1460920125246048, 0.09591257572174072, 0.006987009197473526, 0.0031759131234139204, 0.5144979357719421, 0.017703134566545486, 0.06097746267914772, 0.001967014977708459, 0.0452413447201252, 0.5999395251274109, 0.11802089214324951, 0.1573611944913864, 0.005750078707933426, 0.5409181118011475, 0.1815381944179535, 0.1745559573173523, 0.04025055095553398, 0.05667934939265251, 0.9956632852554321, 0.9916540384292603, 0.16987736523151398, 0.27268341183662415, 0.005497649312019348, 0.008796239271759987, 0.2605885863304138, 0.2715838849544525, 0.010995298624038696, 0.00047583787818439305, 0.001665432588197291, 0.7606268525123596, 0.17629793286323547, 0.06090724840760231, 0.9937856197357178, 0.9921684861183167, 0.9929479956626892, 0.9938092231750488, 0.20455144345760345, 0.17437171936035156, 0.5298217535018921, 0.08886250853538513, 0.24330811202526093, 0.16990329325199127, 0.06763140857219696, 0.5154832601547241, 0.0024743196554481983, 0.0008247732184827328, 0.10234849154949188, 0.27235105633735657, 0.09367489069700241, 0.11188945174217224, 0.08673600852489471, 0.3321989178657532, 0.0016753419768065214, 0.14240406453609467, 0.07539039105176926, 0.7790340185165405, 0.04049285128712654, 0.9556313157081604, 0.9982032179832458, 0.9970431923866272, 0.15287886559963226, 0.7414624691009521, 0.002547980984672904, 0.08917933702468872, 0.012739905156195164, 0.9926535487174988, 0.9929744601249695, 0.01759055070579052, 0.24626770615577698, 0.7337772846221924, 0.0031348257325589657, 0.06448784470558167, 0.5266507267951965, 0.0022391611710190773, 0.25571221113204956, 0.14778463542461395, 0.9955954551696777, 0.9369063973426819, 0.06100785732269287, 0.14350278675556183, 0.6917917132377625, 0.00541519932448864, 0.060920994728803635, 0.09747359156608582, 0.0010315902763977647, 0.7953561544418335, 0.0020631805527955294, 0.016505444422364235, 0.020631806924939156, 0.16299127042293549, 0.9934415817260742, 0.9953591823577881, 0.996651828289032, 0.9953747987747192, 0.8743622303009033, 0.12119872868061066, 0.986656129360199, 0.9982116222381592, 0.7323768138885498, 0.0317046232521534, 0.005548309069126844, 0.11572187393903732, 0.0935286432504654, 0.0007926155813038349, 0.019815389066934586, 0.9973792433738708, 0.26089224219322205, 0.0012022684095427394, 0.5590547919273376, 0.17793571949005127, 0.32871612906455994, 0.6693422794342041, 0.9910711646080017, 0.9898759126663208, 0.9901142120361328, 0.9989821910858154, 0.9171890616416931, 0.07889798283576965, 0.9940159320831299, 0.9926905632019043, 0.9835447669029236, 0.015402266755700111, 0.004295976832509041, 0.04868774116039276, 0.29642242193222046, 0.5183812379837036, 0.07732758671045303, 0.054415710270404816, 0.9955820441246033, 0.9940162897109985, 0.9930384755134583, 0.03213390335440636, 0.9640170335769653, 0.05234217643737793, 0.21774344146251678, 0.05129533261060715, 0.009421591646969318, 0.6699798107147217, 0.08001124858856201, 0.6228326559066772, 0.2949434220790863, 0.9904469847679138, 0.7726680040359497, 0.004280709195882082, 0.18621084094047546, 0.03638602793216705, 0.993972659111023, 0.18946407735347748, 0.6931027770042419, 0.1175156980752945, 0.997265636920929, 0.0019461766351014376, 0.1647762954235077, 0.02400284633040428, 0.0032436277251690626, 0.020110491663217545, 0.028543924912810326, 0.22186414897441864, 0.020759217441082, 0.3645837604999542, 0.1498555988073349, 0.9920825958251953, 0.9975156188011169, 0.9947280287742615, 0.7117020487785339, 0.2702404856681824, 0.016503235325217247, 0.7581522464752197, 0.2411084771156311, 0.9960059523582458, 0.9933484792709351, 0.9268413186073303, 0.06938919425010681, 0.15805843472480774, 0.05126219615340233, 0.15663447976112366, 0.05838194489479065, 0.07262144237756729, 0.49838244915008545, 0.004271849524229765, 0.9955433011054993, 0.0053460001945495605, 0.17534880340099335, 0.26943841576576233, 0.00320759997703135, 0.08019000291824341, 0.46724042296409607, 0.994046688079834, 0.00844230130314827, 0.7795058488845825, 0.13789092004299164, 0.0731666162610054, 0.8908941745758057, 0.10913453996181488, 0.9935517311096191, 0.366183876991272, 0.2774733901023865, 0.31433483958244324, 0.012557190842926502, 0.025114381685853004, 0.004050706513226032, 0.02671661786735058, 0.03244160860776901, 0.05534156411886215, 0.8759233951568604, 0.00763331912457943, 0.9910165667533875, 0.779864490032196, 0.13513308763504028, 0.008140548132359982, 0.05861194431781769, 0.016281096264719963, 0.9981027841567993, 0.9956711530685425, 0.9883291125297546, 0.02192382514476776, 0.6542531251907349, 0.13038906455039978, 0.009231084026396275, 0.1834678053855896, 0.9946032762527466, 0.029964504763484, 0.18209199607372284, 0.7859920263290405, 0.9966378808021545, 0.9922901391983032, 0.09437232464551926, 0.8993127346038818, 0.993156373500824, 0.9928086996078491, 0.10230054706335068, 0.09180817753076553, 0.8026658296585083, 0.9871335029602051, 0.9916655421257019, 0.9906306266784668, 0.9919597506523132, 0.9906417727470398, 0.9943229556083679, 0.058424126356840134, 0.9412775635719299, 0.02309412881731987, 0.20872193574905396, 0.22324325144290924, 0.0013996441848576069, 0.5194429755210876, 0.023968907073140144, 0.9982803463935852, 0.053296733647584915, 0.04187600314617157, 0.9022375345230103, 0.9928062558174133, 0.10296684503555298, 0.8955720663070679, 0.05219855159521103, 0.03959890082478523, 0.20159441232681274, 0.005399850197136402, 0.014999584294855595, 0.32939085364341736, 0.356390118598938, 0.9936739802360535, 0.43774473667144775, 0.37114769220352173, 0.045645177364349365, 0.08380754292011261, 0.058365967124700546, 0.0029931263998150826, 0.9140500426292419, 0.07572012394666672, 0.9898462891578674, 0.05613548308610916, 0.014595226384699345, 0.29078179597854614, 0.25148695707321167, 0.034804001450538635, 0.33232206106185913, 0.019086064770817757, 0.054292697459459305, 0.004790531937032938, 0.34651514887809753, 0.17724968492984772, 0.18363706767559052, 0.18683075904846191, 0.044711634516716, 0.04636349529027939, 0.011590873822569847, 0.9388607740402222, 0.06034933030605316, 0.24475006759166718, 0.690664529800415, 0.0033527405466884375, 0.06477762758731842, 0.932797908782959, 0.09682488441467285, 0.04034370183944702, 0.8633552193641663, 0.9997243881225586, 0.999660313129425, 0.9959860444068909, 0.03035748563706875, 0.001190489623695612, 0.967570424079895, 0.000595244811847806, 0.9959468245506287, 0.09392973780632019, 0.9040737152099609, 0.9916682243347168, 0.9947845935821533, 0.04863288253545761, 0.13075070083141327, 0.07573973387479782, 0.013553425669670105, 0.0007972603780217469, 0.7294932007789612, 0.9956622123718262, 0.9945032000541687, 0.9952787160873413, 0.35691145062446594, 0.13719119131565094, 0.2561616897583008, 0.062164757400751114, 0.010718061588704586, 0.04072863608598709, 0.08467268943786621, 0.050374891608953476, 0.9934160113334656, 0.8653148412704468, 0.11597003042697906, 0.01784154400229454, 0.9901310205459595, 0.006899623200297356, 0.8647527694702148, 0.002299874322488904, 0.1241932138800621, 0.9931195974349976, 0.9861128926277161, 0.23734787106513977, 0.15929387509822845, 0.033451713621616364, 0.005309795495122671, 0.017522325739264488, 0.11575354635715485, 0.11787746101617813, 0.27982622385025024, 0.033451713621616364, 0.9923434853553772, 0.9971605539321899, 0.9966750741004944, 0.9893823266029358, 0.006301798392087221, 0.8413989543914795, 0.1579589694738388, 0.9982832074165344, 0.14483493566513062, 0.035928044468164444, 0.18637673556804657, 0.6321090459823608, 0.9917767643928528, 0.9870532751083374, 0.04882001876831055, 0.09262115508317947, 0.16699184477329254, 0.2117055058479309, 0.06068282574415207, 0.0041063567623496056, 0.06615796685218811, 0.16927315294742584, 0.04973254352807999, 0.13003462553024292, 0.8412694931030273, 0.050108540803194046, 0.0007554051117040217, 0.10751932859420776, 0.9961866140365601, 0.9939399361610413, 0.999212384223938, 0.020879410207271576, 0.9239138960838318, 0.04958859831094742, 0.002609926275908947, 0.3145116865634918, 0.03129849582910538, 0.2053486555814743, 0.02977173775434494, 0.0015267558628693223, 0.0022901338525116444, 0.0030535117257386446, 0.39237624406814575, 0.02137458138167858, 0.840418815612793, 0.001650469028390944, 0.1574547439813614, 0.994777500629425, 0.9978434443473816, 0.7971982955932617, 0.08903773128986359, 0.10870885848999023, 0.0041412897408008575, 0.9870092868804932, 0.006130492314696312, 0.9070298671722412, 0.08849071711301804, 0.9878535270690918, 0.9852171540260315, 0.0020333274733275175, 0.004066654946655035, 0.5876316428184509, 0.37819892168045044, 0.024399930611252785, 0.6449854373931885, 0.01692381501197815, 0.12724202871322632, 0.034474439918994904, 0.17613305151462555, 0.9883939623832703, 0.10317400097846985, 0.00031264848075807095, 0.877760648727417, 0.0018758908845484257, 0.015476100146770477, 0.0007816212018951774, 0.0004689727211371064, 0.9969555735588074, 0.10214690119028091, 0.2899259328842163, 0.1333414614200592, 0.01100984588265419, 0.03486451134085655, 0.14985623955726624, 0.2776927649974823, 0.017293602228164673, 0.5782078504562378, 0.08496422320604324, 0.317300021648407, 0.0015037915436550975, 0.095904141664505, 0.903559684753418, 0.9101012349128723, 0.08960209041833878, 0.9926358461380005, 0.7874073386192322, 0.2094382643699646, 0.0020138295367360115, 0.9890733957290649, 0.010618283413350582, 0.00019663487910293043, 0.9982113838195801, 0.9898630380630493, 0.9985783100128174, 0.9844269752502441, 0.5201790928840637, 0.30874577164649963, 0.015039191581308842, 0.10438968241214752, 0.051310185343027115, 0.9991873502731323, 0.9901567101478577, 0.9986339211463928, 0.08349930495023727, 0.027833102270960808, 0.5759748220443726, 0.08861150592565536, 0.014200562611222267, 0.021016832441091537, 0.010224404744803905, 0.17949511110782623, 0.9939497113227844, 0.9959760904312134, 0.001520574209280312, 0.001520574209280312, 0.9903860092163086], \"Term\": [\"\\n\\n  \", \"\\n    \", \"\\n     \", \"......\", \".......\", \"2022\", \"aberrer\", \"aborder\", \"aborder\", \"accord_paris\", \"achat\", \"achat\", \"achat\", \"achat\", \"achat\", \"acheter\", \"acheter\", \"acheter\", \"acheter_v\\u00e9hiculer\", \"acte\", \"action\", \"action\", \"action\", \"action\", \"adopter\", \"adopter\", \"agir\", \"agir\", \"agir\", \"agir\", \"agir\", \"agricole\", \"agricole\", \"agricole\", \"agricole\", \"agriculteur\", \"agriculteur\", \"agriculteur\", \"agriculture\", \"agriculture\", \"agriculture\", \"agriculture_biologique\", \"agriculture_intensif\", \"agriculture_raisonner\", \"aider\", \"aider\", \"aider\", \"aider\", \"aider\", \"aider\", \"aider\", \"aider_agriculteur\", \"ajout\", \"alimentaire\", \"alimentaire\", \"alimentaire\", \"alimentaire\", \"aller\", \"aller\", \"aller\", \"aller\", \"aller\", \"aller\", \"aller\", \"aller\", \"al\\u00e9atoire\", \"animal\", \"appel_offrir\", \"arbre\", \"argent\", \"argent\", \"argent\", \"argent\", \"argent\", \"arr\\u00eater\", \"arr\\u00eater\", \"arr\\u00eater\", \"arr\\u00eater\", \"arr\\u00eater\", \"arr\\u00eater\", \"arr\\u00eater\", \"arr\\u00eater\", \"arr\\u00eater\", \"arr\\u00eatez\", \"association\", \"association\", \"assurer\", \"atteint\", \"automobile\", \"automobile\", \"automobile\", \"automobile\", \"autonomie\", \"autonomie\", \"autonomie\", \"avion\", \"avion\", \"avoir\", \"avoir\", \"avoir\", \"avoir\", \"avoir\", \"avoir\", \"avoir\", \"avoir\", \"avoir\", \"avoir\", \"avoir_bateau\", \"a\\u00e9rien\", \"baisser\", \"baisser\", \"baisser\", \"baisser\", \"baisser\", \"banque\", \"banque\", \"banque\", \"bateau\", \"batterie\", \"batterie\", \"biodiversit\\u00e9\", \"biologique\", \"biologique\", \"biomasse\", \"borner\", \"borner\", \"bouger\", \"bouteille\", \"b\\u00e2timent\", \"b\\u00e2timent_public\", \"b\\u00e9n\\u00e9ficier\", \"b\\u00e9n\\u00e9ficier\", \"b\\u00e9n\\u00e9ficier\", \"b\\u00e9n\\u00e9ficier\", \"b\\u00e9tonner\", \"b\\u00eate\", \"camion\", \"camion\", \"camion\", \"camion\", \"camion_\\u00e9tranger\", \"campagne\", \"campagne\", \"campagne\", \"campagne\", \"campagne\", \"campagne\", \"carbone\", \"carbone\", \"carbone\", \"carbone\", \"carbone\", \"carburant\", \"carburant\", \"carburant\", \"carburant\", \"catastrophe\", \"catastrophe\", \"catastrophe_\\u00e9cologique\", \"centime\", \"centrale\", \"centrale\", \"centrale_nucl\\u00e9aire\", \"centrale_nucl\\u00e9aire\", \"centrer\", \"centrer_commercial\", \"centrer_ville\", \"changement\", \"changement\", \"changement\", \"changement\", \"changement\", \"changer\", \"changer\", \"changer\", \"changer\", \"changer\", \"changer_habitude\", \"changer_mentalit\\u00e9\", \"changer_modeler\", \"charbon\", \"charbon\", \"chasser\", \"chasseur\", \"chaudi\\u00e8re\", \"chaudi\\u00e8re\", \"chaudi\\u00e8re\", \"chauffage\", \"chauffage\", \"chauffage\", \"chauffage\", \"chauffage\", \"chimie\", \"chimique\", \"chimique\", \"circuit\", \"circuit_courir\", \"circuit_court\", \"citoyen\", \"citoyen\", \"citoyen\", \"citoyen\", \"citoyen\", \"citoyen\", \"classer_moyenne\", \"climatique\", \"climatique\", \"climatique\", \"climatique\", \"climatique\", \"collecter\", \"collectivement\", \"combustible\", \"commercer\", \"commercer\", \"commercer\", \"commercer\", \"commercial\", \"commercial\", \"commun\", \"commun\", \"commun\", \"commun\", \"commun\", \"commun\", \"commun\", \"compl\\u00e9ter\", \"comportement\", \"comportement\", \"comportement\", \"compter\", \"compter\", \"compter\", \"compter\", \"compter\", \"compter\", \"compteur\", \"concret\", \"concret\", \"concurrencer_d\\u00e9loyal\", \"conditionnement\", \"conducteur\", \"conscience\", \"consigner\", \"consommateur\", \"consommateur\", \"consommateur\", \"consommateur\", \"consommateur\", \"consommateur\", \"consommateur\", \"consommation\", \"consommation\", \"consommation\", \"consommation\", \"consommation\", \"consommation\", \"consommation\", \"consommation\", \"consommation\", \"consommer\", \"consommer\", \"consommer\", \"consommer\", \"consommer\", \"consommer\", \"consommer\", \"consommer\", \"constructeur\", \"constructeur\", \"constructeur_automobile\", \"construction\", \"construction\", \"construction\", \"construction\", \"construction\", \"construire\", \"construire\", \"construire\", \"construire\", \"construire\", \"construire\", \"construire\", \"continuer\", \"continuer\", \"continuer\", \"continuer\", \"continuer\", \"continuer\", \"continuer\", \"contrat\", \"contrat\", \"court\", \"couts\", \"co\\u00fbt\", \"co\\u00fbt\", \"co\\u00fbt\", \"co\\u00fbt\", \"co\\u00fbt\", \"co\\u00fbt\", \"co\\u00fbt\", \"co\\u00fbt\", \"co\\u00fbt\", \"co\\u00fbt_environnemental\", \"co\\u00fbt_environnemental\", \"croisi\\u00e8re\", \"croissance\", \"cr\\u00e9dit\", \"cr\\u00e9dit_imp\\u00f4t\", \"cr\\u00e9er\", \"cr\\u00e9er\", \"cr\\u00e9er\", \"cr\\u00e9er\", \"cr\\u00e9er\", \"cr\\u00e9er\", \"cr\\u00e9er\", \"cr\\u00e9er\", \"cr\\u00e9er\", \"culpabiliser\", \"culpabiliser\", \"dans\", \"dans\", \"dans\", \"dans\", \"dans\", \"dans\", \"dans\", \"dans\", \"denr\\u00e9e_alimentaire\", \"developper\", \"devoir\", \"devoir\", \"devoir\", \"devoir\", \"devoir\", \"devoir\", \"devoir\", \"devoir\", \"devoir\", \"devoir\", \"devon\", \"devon\", \"devon\", \"diesel\", \"dirigeant\", \"discourir\", \"dossier\", \"durable\", \"durable\", \"durable\", \"durable\", \"durable\", \"d\\u00e9cemment\", \"d\\u00e9charger\", \"d\\u00e9chet\", \"d\\u00e9chet\", \"d\\u00e9chet\", \"d\\u00e9chet\", \"d\\u00e9croissance\", \"d\\u00e9forestation\", \"d\\u00e9localisation\", \"d\\u00e9loyal\", \"d\\u00e9mant\\u00e8lement\", \"d\\u00e9marcher\", \"d\\u00e9mographie\", \"d\\u00e9mographique\", \"d\\u00e9passement\", \"d\\u00e9pendance\", \"d\\u00e9penser\", \"d\\u00e9penser\", \"d\\u00e9penser\", \"d\\u00e9penser\", \"d\\u00e9penser_public\", \"d\\u00e9r\\u00e8glement\", \"d\\u00e9sordre\", \"d\\u00e9truire\", \"d\\u00e9truire\", \"d\\u00e9truire\", \"d\\u00e9truire\", \"d\\u00e9truire\", \"d\\u00e9truire\", \"d\\u00e9veloppement\", \"d\\u00e9veloppement\", \"d\\u00e9veloppement\", \"d\\u00e9veloppement\", \"d\\u00e9veloppement\", \"d\\u00e9veloppement\", \"d\\u00e9veloppement\", \"d\\u00e9veloppement_durable\", \"d\\u00e9velopper\", \"d\\u00e9velopper\", \"d\\u00e9velopper\", \"d\\u00e9velopper\", \"d\\u00e9velopper\", \"d\\u00e9velopper\", \"d\\u00e9velopper\", \"effort\", \"effort\", \"elec\", \"electrique\", \"emballage\", \"emballage_plastiquer\", \"energie\", \"energies\", \"enfant\", \"enfant\", \"enfant\", \"enfant\", \"engrais\", \"engrais\", \"enrayer\", \"entreprise\", \"entreprise\", \"entreprise\", \"entreprise\", \"entreprise\", \"entreprise\", \"entreprise_polluant\", \"environnement\", \"environnement\", \"environnement\", \"environnement\", \"environnement\", \"environnement\", \"environnemental\", \"environnemental\", \"environnemental\", \"environnemental\", \"environnemental\", \"environnemental\", \"esp\\u00e8ce\", \"esp\\u00e8ce\", \"esp\\u00e8ce_animal\", \"essence\", \"etat\", \"etat\", \"etat\", \"etat\", \"etat\", \"etat\", \"euro\", \"euro\", \"euro\", \"euro\", \"europ\\u00e9en\", \"europ\\u00e9en\", \"europ\\u00e9en\", \"europ\\u00e9en\", \"europ\\u00e9en\", \"europ\\u00e9en\", \"exceller\", \"exemple\", \"exemple\", \"exemple\", \"exemple\", \"exemple\", \"exemple\", \"exemple\", \"exemple\", \"exemple\", \"exemple\", \"expert\", \"expert\", \"expression\", \"fabrication\", \"fabrication\", \"fabrication\", \"fabrication\", \"facteur\", \"faible\", \"faible\", \"faible\", \"faible\", \"faible\", \"faible\", \"faible_revenu\", \"faire\", \"faire\", \"faire\", \"faire\", \"faire\", \"faire\", \"faire\", \"faire\", \"faire\", \"faire\", \"faire_effort\", \"falloir\", \"falloir\", \"falloir\", \"falloir\", \"falloir\", \"falloir\", \"falloir\", \"falloir\", \"falloir\", \"falloir\", \"faune\", \"faune\", \"faut\", \"favoriser\", \"favoriser\", \"favoriser\", \"favoriser\", \"favoriser\", \"favoriser\", \"favoriser\", \"fa\\u00eete\", \"fermer\", \"fermer\", \"fermer\", \"fermer\", \"fermer\", \"fermer\", \"fermer_centrale\", \"fermeture\", \"ferroviaire\", \"financement_transition\", \"financer\", \"financer\", \"financer\", \"financer\", \"financer\", \"financer\", \"financer_transition\", \"financier\", \"financier\", \"financier\", \"financier\", \"financier\", \"financier\", \"financier\", \"financier\", \"fluvial\", \"fluvial\", \"fonction\", \"fonction\", \"fonction\", \"fonction\", \"fortement\", \"fortement\", \"fortement\", \"fortement\", \"fortement\", \"fortement\", \"fortement\", \"fossile\", \"france\", \"france\", \"france\", \"france\", \"france\", \"france\", \"france\", \"france\", \"france\", \"fran\\u00e7ais\", \"fran\\u00e7ais\", \"fran\\u00e7ais\", \"fran\\u00e7ais\", \"fran\\u00e7ais\", \"fran\\u00e7ais\", \"fran\\u00e7ais\", \"fran\\u00e7ais\", \"fran\\u00e7ais\", \"fran\\u00e7ais\", \"freiner\", \"fret\", \"fruit\", \"fruit_l\\u00e9gume\", \"fusion\", \"fusion\", \"futur\", \"futur\", \"futur\", \"futur\", \"garer\", \"gaspillage\", \"gaspillage\", \"glyphosate\", \"glyphosate\", \"grand\", \"grand\", \"grand\", \"grand\", \"grand\", \"grand\", \"grand\", \"grand\", \"grand\", \"grand_distribution\", \"grand_surface\", \"grand_ville\", \"grand_ville\", \"gros\", \"gros\", \"gros\", \"gros\", \"gros\", \"gros\", \"gros\", \"guerre\", \"g\\u00e9n\\u00e9ration\", \"g\\u00e9n\\u00e9ration\", \"g\\u00e9n\\u00e9ration\", \"g\\u00e9n\\u00e9ration\", \"g\\u00e9n\\u00e9ration\", \"g\\u00e9n\\u00e9ration_futur\", \"g\\u00e9othermie\", \"homme\", \"homme\", \"hulot\", \"humain\", \"humain\", \"humanit\\u00e9\", \"hybride\", \"hydraulique\", \"hydrog\\u00e8ne\", \"hydrog\\u00e8ne\", \"hydrolien\", \"illusoire\", \"impliquer\", \"impliquer\", \"impliquer\", \"impopulaire\", \"importation\", \"importation\", \"importation_produit\", \"importer\", \"importer\", \"importer\", \"importer\", \"importer\", \"importer\", \"importer\", \"importer\", \"importer\", \"imp\\u00f4t\", \"imp\\u00f4t\", \"imp\\u00f4t\", \"inciter\", \"inciter\", \"inciter\", \"inciter\", \"inciter\", \"inciter\", \"inciter\", \"industriel\", \"industriel\", \"industriel\", \"industriel\", \"industriel\", \"industriel\", \"industriel\", \"industriel\", \"industriel\", \"industriel_miser\", \"inscrire\", \"institution\", \"intensif\", \"intensif\", \"interdiction\", \"interdiction\", \"interdiction\", \"interdire\", \"interdire\", \"interdire\", \"interdire\", \"interdire\", \"interdire\", \"int\\u00e9r\\u00eat\", \"int\\u00e9r\\u00eat\", \"int\\u00e9r\\u00eat\", \"int\\u00e9r\\u00eat\", \"inutile\", \"inutile\", \"inutile\", \"inutile\", \"inutilement\", \"investir\", \"investir\", \"investir\", \"investir\", \"investir\", \"investir\", \"investir\", \"investissement\", \"investissement\", \"investissement\", \"investissement\", \"investissement\", \"jeter\", \"jeu\", \"k\\u00e9ros\\u00e8ne\", \"laboratoire\", \"lendemain\", \"lib\\u00e9ral\", \"lieu\", \"lieu\", \"lieu\", \"lieu\", \"lieu\", \"lieu\", \"lieu\", \"lieu\", \"lieu\", \"limitation\", \"limitation\", \"limitation\", \"limitation_vitesse\", \"limiter\", \"limiter\", \"limiter\", \"limiter\", \"limiter\", \"limiter\", \"limiter\", \"limiter\", \"limiter\", \"limiter_emballage\", \"local\", \"local\", \"local\", \"local\", \"local\", \"local\", \"locomotion\", \"logement\", \"logement\", \"logement\", \"louer\", \"lourd\", \"lourd\", \"lutter\", \"lutter\", \"lutter\", \"l\\u00e9gume\", \"marchandise\", \"marge\", \"marge\", \"marge\", \"maritime\", \"mensonge\", \"mentalit\\u00e9\", \"mer\", \"mesurer\", \"mesurer\", \"mesurer\", \"mesurer\", \"mesurer\", \"mettre\", \"mettre\", \"mettre\", \"mettre\", \"mettre\", \"mettre\", \"mettre\", \"mettre\", \"mettre\", \"mettre\", \"mettre_placer\", \"mettre_placer\", \"mettre_placer\", \"mettre_placer\", \"mettre_placer\", \"mettre_placer\", \"milliardaire\", \"minuter\", \"minuter\", \"miser\", \"miser\", \"miser\", \"miser\", \"miser\", \"miser\", \"mobile\", \"mode_consommation\", \"modeler\", \"modeler\", \"modeler\", \"modeler\", \"modeler\", \"modeler\", \"modeler\", \"modeler\", \"monder\", \"monder\", \"monder\", \"monder\", \"monder\", \"mondial\", \"mondial\", \"mondial\", \"montrer\", \"montrer\", \"montrer\", \"montrer\", \"montrer_exemple\", \"moteur\", \"moteur\", \"mourir\", \"mourir\", \"mourir\", \"mourir\", \"moyen\", \"moyen\", \"moyen\", \"moyen\", \"moyen\", \"moyen\", \"moyen\", \"moyen\", \"moyen_terme\", \"moyen_transport\", \"moyen_transport\", \"m\\u00e9dicament\", \"m\\u00e9got\", \"m\\u00e9thanisation\", \"m\\u00e9thode\", \"m\\u00e9thode\", \"m\\u00e9thode\", \"national\", \"national\", \"national\", \"national\", \"national\", \"national\", \"national\", \"national\", \"nature\", \"nature\", \"nature\", \"naturel\", \"naturel\", \"naturel\", \"navire\", \"net\", \"nicolas\", \"nicolas_hulot\", \"niveau\", \"niveau\", \"niveau\", \"niveau\", \"niveau\", \"niveau\", \"niveau\", \"niveau\", \"niveau\", \"niveau\", \"niveau_mondial\", \"nocif\", \"nocif\", \"norme\", \"norme\", \"norme\", \"norme\", \"norme\", \"norme\", \"nous\", \"nous_devon\", \"nous_sommer\", \"nucleaire\", \"nucl\\u00e9aire\", \"nucl\\u00e9aire\", \"obliger\", \"obliger\", \"obliger\", \"obliger\", \"obliger\", \"obliger\", \"obliger\", \"obliger\", \"obsolescence\", \"obsolescence_programmer\", \"opposer\", \"ordure\", \"ordure\", \"origine_nucl\\u00e9aire\", \"paiement\", \"panne\", \"panneau\", \"panneau\", \"panneau\", \"panneau_solaire\", \"panneau_solaire\", \"papier\", \"paris\", \"paris\", \"paris\", \"parisien\", \"particule\", \"partir\", \"partir\", \"partir\", \"partir\", \"partir\", \"partir\", \"partir\", \"partir\", \"partir\", \"partir\", \"payer\", \"payer\", \"payer\", \"payer\", \"payer\", \"payer\", \"payer\", \"payeur\", \"pays\", \"pays\", \"pays\", \"pays\", \"pays\", \"pays\", \"pays\", \"penser\", \"penser\", \"penser\", \"penser\", \"penser\", \"penser\", \"permettre\", \"permettre\", \"permettre\", \"permettre\", \"permettre\", \"permettre\", \"permettre\", \"permettre\", \"permettre\", \"pesticide\", \"pesticide\", \"petit\", \"petit\", \"petit\", \"petit\", \"petit\", \"petit\", \"petit\", \"petit\", \"petit\", \"photovoltaique\", \"photovolta\\u00efque\", \"photovolta\\u00efque\", \"phytosanitaire\", \"piler\", \"piler_combustible\", \"pi\\u00e9ger\", \"placer\", \"placer\", \"placer\", \"placer\", \"placer\", \"placer\", \"placer\", \"placer\", \"placer_pratiquer\", \"plan\\u00e8te\", \"plan\\u00e8te\", \"plan\\u00e8te\", \"plan\\u00e8te\", \"plan\\u00e8te\", \"plastiquer\", \"pluie\", \"plusieurs\", \"poids\", \"poids\", \"poids\", \"poids_lourd\", \"politique\", \"politique\", \"politique\", \"politique\", \"politique\", \"politique\", \"polluant\", \"polluant\", \"polluant\", \"polluant\", \"polluant\", \"polluant\", \"polluant\", \"polluant\", \"polluer\", \"polluer\", \"polluer\", \"polluer\", \"polluer\", \"polluer\", \"polluer\", \"pollueur\", \"pollueur\", \"pollueur\", \"pollueur\", \"pollueur\", \"pollueur_payeur\", \"pollueurs\", \"pollution\", \"pollution\", \"pollution\", \"pollution\", \"pollution\", \"pollution\", \"pollution\", \"pollution\", \"pollution\", \"pollution_visuel\", \"pomper_chaleur\", \"population\", \"population\", \"population\", \"population\", \"population\", \"population\", \"porteur\", \"portique\", \"poubelle\", \"pourquoi\", \"pourquoi\", \"pourquoi\", \"pourquoi\", \"pourquoi\", \"pourquoi\", \"pourquoi\", \"pourquoi\", \"pourquoi\", \"pouvoir\", \"pouvoir\", \"pouvoir\", \"pouvoir\", \"pouvoir\", \"pouvoir\", \"pouvoir\", \"pouvoir\", \"pouvoir\", \"pouvoir\", \"pouvoir_achat\", \"pouvoir_achat\", \"pratiquer\", \"pratiquer\", \"pratiquer\", \"pratiquer\", \"pratiquer\", \"pratiquer\", \"prendre\", \"prendre\", \"prendre\", \"prendre\", \"prendre\", \"prendre\", \"prendre\", \"prendre\", \"prendre\", \"prendre_charger\", \"prendre_compter\", \"prendre_compter\", \"prendre_compter\", \"prendre_compter\", \"prendre_conscience\", \"prendre_\\u00e9levage\", \"primer\", \"primer\", \"principe_pollueur\", \"priorit\\u00e9\", \"priorit\\u00e9\", \"priorit\\u00e9\", \"priorit\\u00e9\", \"priorit\\u00e9\", \"priorit\\u00e9\", \"priser_conscience\", \"prix\", \"prix\", \"prix\", \"prix\", \"prix\", \"prix\", \"prix\", \"prix\", \"prix\", \"probl\\u00e8me\", \"probl\\u00e8me\", \"probl\\u00e8me\", \"probl\\u00e8me\", \"probl\\u00e8me\", \"probl\\u00e8me\", \"probl\\u00e8me\", \"producteur\", \"producteur\", \"producteur\", \"producteur\", \"producteur\", \"producteur\", \"producteur\", \"production\", \"production\", \"production\", \"production\", \"production\", \"production\", \"production_respectueux\", \"production_\\u00e9lectricit\\u00e9\", \"produire\", \"produire\", \"produire\", \"produire\", \"produire\", \"produire\", \"produire\", \"produit\", \"produit\", \"produit\", \"produit\", \"produit\", \"produit_chimique\", \"produit_importer\", \"produit_issu\", \"produit_nocif\", \"programmer\", \"programmer\", \"programmer\", \"programmer\", \"projet\", \"projet\", \"projet\", \"projet\", \"projet\", \"projet\", \"proposer\", \"proposer\", \"proposer\", \"proposer\", \"proposer\", \"proposer\", \"proposition\", \"proposition\", \"proposition\", \"proposition\", \"propri\\u00e9taire\", \"propri\\u00e9taire\", \"protection\", \"protection_environnement\", \"prot\\u00e9ger\", \"prot\\u00e9ger\", \"prot\\u00e9ger\", \"prot\\u00e9ger\", \"prot\\u00e9ger\", \"pr\\u00e9dateur\", \"pr\\u00e9servation\", \"pr\\u00eat\", \"pr\\u00eat\", \"pr\\u00eat\", \"public\", \"public\", \"public\", \"public\", \"public\", \"public\", \"publicit\\u00e9\", \"punitif\", \"punitif\", \"p\\u00e9trole\", \"p\\u00e9trole\", \"p\\u00e9trole\", \"p\\u00e9trole\", \"p\\u00e9trole\", \"question\", \"question\", \"question\", \"question\", \"question\", \"question\", \"questionnaire\", \"quid\", \"radar\", \"rail\", \"raisonner\", \"raisonner\", \"rappel\", \"recharger\", \"rechercher\", \"rechercher\", \"rechercher\", \"rechercher\", \"rechercher\", \"rechercher\", \"rechercher\", \"recyclable\", \"recyclage\", \"recyclage\", \"recyclage\", \"recyclage\", \"recycler\", \"recycler\", \"reduire\", \"regretter\", \"remboursement\", \"renouvelable\", \"rentable\", \"rentable\", \"reparation\", \"repas\", \"respect\", \"respect\", \"respecter\", \"respecter\", \"respecter\", \"respecter\", \"respecter\", \"respecter\", \"retarder\", \"retenue\", \"retraitement_d\\u00e9chet\", \"revenu\", \"revenu\", \"router\", \"router\", \"router\", \"router\", \"router\", \"routier\", \"routier\", \"routier\", \"ruiner\", \"rural\", \"rural\", \"rural\", \"rural\", \"r\\u00e9acteur\", \"r\\u00e9chauffement\", \"r\\u00e9chauffement\", \"r\\u00e9chauffement\", \"r\\u00e9chauffement_climatique\", \"r\\u00e9duire\", \"r\\u00e9duire\", \"r\\u00e9duire\", \"r\\u00e9duire\", \"r\\u00e9duire\", \"r\\u00e9duire\", \"r\\u00e9duire\", \"r\\u00e9duire\", \"r\\u00e9duire\", \"r\\u00e9duire\", \"r\\u00e9f\\u00e9rendum\", \"r\\u00e9parateur\", \"salarier\", \"sanitaire\", \"sanitaire\", \"sanitaire\", \"sant\\u00e9\", \"sant\\u00e9\", \"sant\\u00e9_public\", \"satisfaisant\", \"sauver_plan\\u00e8te\", \"sauver_plan\\u00e8te\", \"savoir\", \"savoir\", \"savoir\", \"savoir\", \"savoir\", \"savoir\", \"savoir\", \"science\", \"service\", \"service\", \"service\", \"service\", \"service\", \"service\", \"soir\", \"sol\", \"sol\", \"sol\", \"sol\", \"solaire\", \"solaire\", \"soleil\", \"solution\", \"solution\", \"solution\", \"solution\", \"solution\", \"solution\", \"sommer\", \"sommer\", \"sommer\", \"sommer\", \"sommer\", \"sortir_nucl\\u00e9aire\", \"source\", \"source\", \"source\", \"source\", \"source\", \"stockage\", \"stockage_\\u00e9nergie\", \"styler\", \"sujet\", \"sujet\", \"sujet\", \"sujet\", \"sujet\", \"surconsommation\", \"surface\", \"surface\", \"surface\", \"surpopulation\", \"surpopulation_mondial\", \"surtaxer\", \"surtaxer\", \"syst\\u00e8me_\\u00e9conomique\", \"s\\u00e9cheresse\", \"s\\u00e9curit\\u00e9\", \"s\\u00e9curit\\u00e9\", \"s\\u00e9curit\\u00e9\", \"s\\u00e9lectif\", \"tabou\", \"tampon\", \"tant\", \"taper\", \"tard\", \"taux\", \"taux\", \"taxer\", \"taxer\", \"taxer\", \"taxer\", \"taxer\", \"taxer\", \"taxer_carbone\", \"taxer_carburant\", \"taxer_carburant\", \"taxer_carburant\", \"taxer_k\\u00e9ros\\u00e8ne\", \"technologie\", \"technologie\", \"temps\", \"temps\", \"temps\", \"temps\", \"temps\", \"temps\", \"temps\", \"tenter\", \"terme\", \"terme\", \"terme\", \"terme\", \"terme\", \"terme\", \"terrain\", \"terrain\", \"terre\", \"terrer\", \"terrer\", \"terrer\", \"terrer\", \"terrer\", \"terrer\", \"terrer\", \"territoire\", \"territoire\", \"territoire\", \"territoire\", \"territoire\", \"territoire\", \"territoire\", \"toxique\", \"toxique\", \"toxique\", \"train\", \"train\", \"train\", \"train\", \"traitement_d\\u00e9chet\", \"traitement_d\\u00e9chet\", \"trajet\", \"trajet\", \"trajet\", \"transition\", \"transition_\\u00e9cologique\", \"transition_\\u00e9nerg\\u00e9tique\", \"transport\", \"transport\", \"transport\", \"transport\", \"transport_a\\u00e9rien\", \"transport_commun\", \"transport_commun\", \"transport_marchandise\", \"transport_routier\", \"travail\", \"travail\", \"travail\", \"travail\", \"travail\", \"travail\", \"traverser\", \"traverser_france\", \"trier\", \"trouver\", \"trouver\", \"trouver\", \"trouver\", \"trouver\", \"trouver\", \"trouver\", \"trouver\", \"trouver_moyen\", \"urbain\", \"urbain\", \"urbain\", \"urbanisation\", \"urgence\", \"urgence\", \"urgence\", \"urgence\", \"urger_agir\", \"utilisable\", \"utiliser\", \"utiliser\", \"utiliser\", \"utiliser\", \"utiliser\", \"utiliser\", \"utiliser\", \"utiliser\", \"utiliser\", \"utopique\", \"vent\", \"verre\", \"village\", \"village\", \"ville\", \"ville\", \"vitesse\", \"vivre\", \"vivre\", \"vivre\", \"vivre\", \"vivre_d\\u00e9cemment\", \"voil\\u00e0\", \"voir\", \"voir\", \"voir\", \"voir\", \"voir\", \"voir\", \"voir\", \"voir\", \"voir\", \"voir\", \"voiturer\", \"voiturer\", \"voiturer\", \"voiturer\", \"voiturer_hybride\", \"voiturer_hydrog\\u00e8ne\", \"voiturer_\\u00e9lectrique\", \"volont\\u00e9\", \"volont\\u00e9\", \"volont\\u00e9\", \"volont\\u00e9\", \"vouloir\", \"vouloir\", \"vouloir\", \"vouloir\", \"vouloir\", \"vouloir\", \"vouloir\", \"vouloir\", \"vouloir\", \"v\\u00e9hiculer\", \"v\\u00e9hiculer\", \"v\\u00e9hiculer\", \"v\\u00e9hiculer_l\\u00e9ger\", \"v\\u00e9hiculer_\\u00e9lectrique\", \"zone\", \"zone\", \"zone\", \"zone\", \"zone_commercial\", \"zone_commercial\", \"zone_rural\", \"zone_rural\", \"\\u00e9chec\", \"\\u00e9clairage_public\", \"\\u00e9cole\", \"\\u00e9cole\", \"\\u00e9cole\", \"\\u00e9cole\", \"\\u00e9cole\", \"\\u00e9cologie\", \"\\u00e9cologie\", \"\\u00e9cologie\", \"\\u00e9cologie\", \"\\u00e9cologie\", \"\\u00e9cologie_punitif\", \"\\u00e9cologique\", \"\\u00e9cologique\", \"\\u00e9cologique\", \"\\u00e9cologique\", \"\\u00e9cologique\", \"\\u00e9cologique\", \"\\u00e9cologique\", \"\\u00e9cologiste\", \"\\u00e9conomie\", \"\\u00e9conomie\", \"\\u00e9conomie\", \"\\u00e9conomie\", \"\\u00e9conomie\", \"\\u00e9conomie\", \"\\u00e9conomie\", \"\\u00e9conomique\", \"\\u00e9conomique\", \"\\u00e9conomique\", \"\\u00e9conomique\", \"\\u00e9conomique\", \"\\u00e9lectricit\\u00e9\", \"\\u00e9lectricit\\u00e9\", \"\\u00e9lectrique\", \"\\u00e9lectrique\", \"\\u00e9lectrom\\u00e9nager\", \"\\u00e9levage\", \"\\u00e9levage\", \"\\u00e9levage\", \"\\u00e9nergie\", \"\\u00e9nergie\", \"\\u00e9nergie\", \"\\u00e9nergie_fossile\", \"\\u00e9nergie_propre\", \"\\u00e9nergie_renouvelable\", \"\\u00e9nergique\", \"\\u00e9nerg\\u00e9tique\", \"\\u00e9nerg\\u00e9tique\", \"\\u00e9nerg\\u00e9tique\", \"\\u00e9nerg\\u00e9tique\", \"\\u00e9nerg\\u00e9tique\", \"\\u00e9olien\", \"\\u00e9olien_solaire\", \"\\u00e9olienne\", \"\\u00e9tat\", \"\\u00e9tat\", \"\\u00e9tat\", \"\\u00e9tat\", \"\\u00e9tat\", \"\\u00e9tat\", \"\\u00e9tat\", \"\\u00e9tat\", \"\\u00e9thanol\", \"\\u00e9tranger\", \"\\u00e9tranger\", \"\\u00e9tranger\", \"\\u00e9videment\"]}, \"R\": 30, \"lambda.step\": 0.01, \"plot.opts\": {\"xlab\": \"PC1\", \"ylab\": \"PC2\"}, \"topic.order\": [1, 2, 3, 4, 5, 6, 7, 8, 9, 10]};\n",
              "\n",
              "function LDAvis_load_lib(url, callback){\n",
              "  var s = document.createElement('script');\n",
              "  s.src = url;\n",
              "  s.async = true;\n",
              "  s.onreadystatechange = s.onload = callback;\n",
              "  s.onerror = function(){console.warn(\"failed to load library \" + url);};\n",
              "  document.getElementsByTagName(\"head\")[0].appendChild(s);\n",
              "}\n",
              "\n",
              "if(typeof(LDAvis) !== \"undefined\"){\n",
              "   // already loaded: just create the visualization\n",
              "   !function(LDAvis){\n",
              "       new LDAvis(\"#\" + \"ldavis_el16911129722652966510436823\", ldavis_el16911129722652966510436823_data);\n",
              "   }(LDAvis);\n",
              "}else if(typeof define === \"function\" && define.amd){\n",
              "   // require.js is available: use it to load d3/LDAvis\n",
              "   require.config({paths: {d3: \"https://cdnjs.cloudflare.com/ajax/libs/d3/3.5.5/d3.min\"}});\n",
              "   require([\"d3\"], function(d3){\n",
              "      window.d3 = d3;\n",
              "      LDAvis_load_lib(\"https://cdn.rawgit.com/bmabey/pyLDAvis/files/ldavis.v1.0.0.js\", function(){\n",
              "        new LDAvis(\"#\" + \"ldavis_el16911129722652966510436823\", ldavis_el16911129722652966510436823_data);\n",
              "      });\n",
              "    });\n",
              "}else{\n",
              "    // require.js not available: dynamically load d3 & LDAvis\n",
              "    LDAvis_load_lib(\"https://cdnjs.cloudflare.com/ajax/libs/d3/3.5.5/d3.min.js\", function(){\n",
              "         LDAvis_load_lib(\"https://cdn.rawgit.com/bmabey/pyLDAvis/files/ldavis.v1.0.0.js\", function(){\n",
              "                 new LDAvis(\"#\" + \"ldavis_el16911129722652966510436823\", ldavis_el16911129722652966510436823_data);\n",
              "            })\n",
              "         });\n",
              "}\n",
              "</script>"
            ],
            "text/plain": [
              "PreparedData(topic_coordinates=              x         y  topics  cluster       Freq\n",
              "topic                                                \n",
              "0      0.127248  0.109333       1        1   9.509106\n",
              "1     -0.002489  0.156522       2        1  10.495716\n",
              "2      0.175401 -0.098588       3        1  15.727886\n",
              "3     -0.009994  0.211615       4        1   6.356995\n",
              "4     -0.031396 -0.124524       5        1  12.545724\n",
              "5     -0.251830 -0.124427       6        1   6.580002\n",
              "6     -0.047852 -0.153934       7        1   7.238639\n",
              "7      0.236069 -0.054341       8        1   9.333692\n",
              "8     -0.243008  0.095049       9        1   9.819954\n",
              "9      0.047852 -0.016705      10        1  12.392287, topic_info=     Category         Freq                   Term        Total  loglift  \\\n",
              "term                                                                      \n",
              "260   Default  5085.000000                énergie  5085.000000  30.0000   \n",
              "462   Default  4976.000000             transition  4976.000000  29.0000   \n",
              "243   Default  4203.000000                produit  4203.000000  28.0000   \n",
              "90    Default  6396.000000             écologique  6396.000000  27.0000   \n",
              "428   Default  3971.000000               voiturer  3971.000000  26.0000   \n",
              "256   Default  3359.000000              transport  3359.000000  25.0000   \n",
              "254   Default  5715.000000                  taxer  5715.000000  24.0000   \n",
              "615   Default  3120.000000              nucléaire  3120.000000  23.0000   \n",
              "173   Default  3124.000000             électrique  3124.000000  22.0000   \n",
              "171   Default  3029.000000              véhiculer  3029.000000  21.0000   \n",
              "463   Default  3073.000000  transition_écologique  3073.000000  20.0000   \n",
              "470   Default  1618.000000            agriculture  1618.000000  19.0000   \n",
              "425   Default  1589.000000                  ville  1589.000000  18.0000   \n",
              "271   Default  1791.000000                 animal  1791.000000  17.0000   \n",
              "219   Default  1811.000000                 déchet  1811.000000  16.0000   \n",
              "932   Default  1248.000000              emballage  1248.000000  15.0000   \n",
              "760   Default  2012.000000              interdire  2012.000000  14.0000   \n",
              "41    Default  3535.000000                 france  3535.000000  13.0000   \n",
              "626   Default  1300.000000           renouvelable  1300.000000  12.0000   \n",
              "368   Default  1100.000000             plastiquer  1100.000000  11.0000   \n",
              "633   Default  1185.000000    voiturer_électrique  1185.000000  10.0000   \n",
              "790   Default  1159.000000                 diesel  1159.000000   9.0000   \n",
              "190   Default  6682.000000                  faire  6682.000000   8.0000   \n",
              "1699  Default  1130.000000                   nous  1130.000000   7.0000   \n",
              "198   Default  2712.000000             développer  2712.000000   6.0000   \n",
              "265   Default  2975.000000                  aider  2975.000000   5.0000   \n",
              "720   Default  1144.000000                 éolien  1144.000000   4.0000   \n",
              "665   Default  2434.000000             production  2434.000000   3.0000   \n",
              "252   Default  1346.000000                solaire  1346.000000   2.0000   \n",
              "0     Default  1158.000000               centrale  1158.000000   1.0000   \n",
              "...       ...          ...                    ...          ...      ...   \n",
              "1073  Topic10   305.895081               sécurité   381.229645   1.8679   \n",
              "461   Topic10   639.569824                 router   955.252625   1.6869   \n",
              "556   Topic10   213.989532                 trajet   247.870163   1.9411   \n",
              "241   Topic10   756.422180                   prix  1402.724365   1.4705   \n",
              "101   Topic10   412.152588                baisser   619.570618   1.6805   \n",
              "52    Topic10   465.903107               logement   743.775757   1.6203   \n",
              "283   Topic10   582.716370                   lieu  1036.670410   1.5120   \n",
              "304   Topic10   540.470032              chauffage   963.965942   1.5095   \n",
              "265   Topic10  1146.316284                  aider  2975.292969   1.1343   \n",
              "692   Topic10   360.839142                 faible   538.898315   1.6870   \n",
              "534   Topic10   808.657227              permettre  1858.846558   1.2558   \n",
              "116   Topic10   494.886322               dépenser   890.858704   1.5002   \n",
              "1560  Topic10   669.254761                   coût  1483.263184   1.2923   \n",
              "501   Topic10   389.885559               fonction   624.389771   1.6172   \n",
              "325   Topic10   379.710693                   euro   598.657227   1.6328   \n",
              "342   Topic10   292.164825                   prêt   397.940918   1.7791   \n",
              "338   Topic10   917.872498                pouvoir  3147.555420   0.8558   \n",
              "336   Topic10   584.324463                  payer  1411.986206   1.2058   \n",
              "317   Topic10   377.336395                   dans   636.756348   1.5648   \n",
              "351   Topic10   594.480164                  temps  1666.712891   1.0572   \n",
              "163   Topic10   437.394653                service   935.278687   1.3281   \n",
              "1718  Topic10   341.896240                 primer   557.754456   1.5987   \n",
              "190   Topic10   703.007812                  faire  6682.372559  -0.1638   \n",
              "42    Topic10   515.377563               français  2342.833252   0.5739   \n",
              "359   Topic10   453.810150               économie  1634.900269   0.8064   \n",
              "171   Topic10   477.281281              véhiculer  3029.441895   0.2401   \n",
              "133   Topic10   420.364655         investissement  1589.302490   0.7582   \n",
              "428   Topic10   427.168152               voiturer  3971.378906  -0.1416   \n",
              "660   Topic10   388.623596                mesurer  1085.528564   1.0609   \n",
              "540   Topic10   382.915619               proposer  1152.923706   0.9859   \n",
              "\n",
              "      logprob  \n",
              "term           \n",
              "260   30.0000  \n",
              "462   29.0000  \n",
              "243   28.0000  \n",
              "90    27.0000  \n",
              "428   26.0000  \n",
              "256   25.0000  \n",
              "254   24.0000  \n",
              "615   23.0000  \n",
              "173   22.0000  \n",
              "171   21.0000  \n",
              "463   20.0000  \n",
              "470   19.0000  \n",
              "425   18.0000  \n",
              "271   17.0000  \n",
              "219   16.0000  \n",
              "932   15.0000  \n",
              "760   14.0000  \n",
              "41    13.0000  \n",
              "626   12.0000  \n",
              "368   11.0000  \n",
              "633   10.0000  \n",
              "790    9.0000  \n",
              "190    8.0000  \n",
              "1699   7.0000  \n",
              "198    6.0000  \n",
              "265    5.0000  \n",
              "720    4.0000  \n",
              "665    3.0000  \n",
              "252    2.0000  \n",
              "0      1.0000  \n",
              "...       ...  \n",
              "1073  -5.7418  \n",
              "461   -5.0042  \n",
              "556   -6.0991  \n",
              "241   -4.8364  \n",
              "101   -5.4436  \n",
              "52    -5.3210  \n",
              "283   -5.0973  \n",
              "304   -5.1726  \n",
              "265   -4.4207  \n",
              "692   -5.5766  \n",
              "534   -4.7696  \n",
              "116   -5.2607  \n",
              "1560  -4.9588  \n",
              "501   -5.4992  \n",
              "325   -5.5256  \n",
              "342   -5.7877  \n",
              "338   -4.6430  \n",
              "336   -5.0946  \n",
              "317   -5.5319  \n",
              "351   -5.0773  \n",
              "163   -5.3842  \n",
              "1718  -5.6305  \n",
              "190   -4.9096  \n",
              "42    -5.2201  \n",
              "359   -5.3473  \n",
              "171   -5.2969  \n",
              "133   -5.4239  \n",
              "428   -5.4078  \n",
              "660   -5.5024  \n",
              "540   -5.5172  \n",
              "\n",
              "[666 rows x 6 columns], token_table=      Topic      Freq                  Term\n",
              "term                                       \n",
              "9028      4  0.989384                \\n\\n  \n",
              "3626      1  0.995142                \\n    \n",
              "8244      8  0.995163               \\n     \n",
              "5434      4  0.988042                ......\n",
              "5518      4  0.995728               .......\n",
              "6486      3  0.985950                  2022\n",
              "3847      2  0.994479               aberrer\n",
              "3419      3  0.981706               aborder\n",
              "3419      5  0.009006               aborder\n",
              "3878      4  0.989895          accord_paris\n",
              "298       1  0.145678                 achat\n",
              "298       3  0.002369                 achat\n",
              "298       7  0.088828                 achat\n",
              "298       9  0.036716                 achat\n",
              "298      10  0.726023                 achat\n",
              "467       1  0.680168               acheter\n",
              "467       7  0.228443               acheter\n",
              "467      10  0.091635               acheter\n",
              "2562      1  0.994090     acheter_véhiculer\n",
              "1325      3  0.996017                  acte\n",
              "863       3  0.659190                action\n",
              "863       5  0.309887                action\n",
              "863       7  0.001359                action\n",
              "863       8  0.027183                action\n",
              "3542      6  0.118746               adopter\n",
              "3542      7  0.877685               adopter\n",
              "867       1  0.006413                  agir\n",
              "867       3  0.470259                  agir\n",
              "867       5  0.070539                  agir\n",
              "867       7  0.037407                  agir\n",
              "...     ...       ...                   ...\n",
              "2735      6  0.209438               élevage\n",
              "2735      9  0.002014               élevage\n",
              "260       2  0.989073               énergie\n",
              "260       9  0.010618               énergie\n",
              "260      10  0.000197               énergie\n",
              "466       2  0.998211       énergie_fossile\n",
              "2908      2  0.989863        énergie_propre\n",
              "634       2  0.998578  énergie_renouvelable\n",
              "2994      3  0.984427             énergique\n",
              "361       2  0.520179           énergétique\n",
              "361       3  0.308746           énergétique\n",
              "361       5  0.015039           énergétique\n",
              "361       9  0.104390           énergétique\n",
              "361      10  0.051310           énergétique\n",
              "720       2  0.999187                éolien\n",
              "2479      2  0.990157        éolien_solaire\n",
              "262       2  0.998634              éolienne\n",
              "175       1  0.083499                  état\n",
              "175       2  0.027833                  état\n",
              "175       3  0.575975                  état\n",
              "175       5  0.088612                  état\n",
              "175       6  0.014201                  état\n",
              "175       8  0.021017                  état\n",
              "175       9  0.010224                  état\n",
              "175      10  0.179495                  état\n",
              "2576      1  0.993950               éthanol\n",
              "208       6  0.995976              étranger\n",
              "208       9  0.001521              étranger\n",
              "208      10  0.001521              étranger\n",
              "4538      6  0.990386             évidement\n",
              "\n",
              "[1554 rows x 3 columns], R=30, lambda_step=0.01, plot_opts={'xlab': 'PC1', 'ylab': 'PC2'}, topic_order=[1, 2, 3, 4, 5, 6, 7, 8, 9, 10])"
            ]
          },
          "execution_count": 13,
          "metadata": {},
          "output_type": "execute_result"
        }
      ],
      "source": [
        "import pyLDAvis.gensim\n",
        "import warnings\n",
        "\n",
        "pyLDAvis.enable_notebook()\n",
        "warnings.filterwarnings(\"ignore\", category=DeprecationWarning)\n",
        "\n",
        "pyLDAvis.gensim.prepare(model, corpus, dictionary, sort_topics=False)"
      ]
    },
    {
      "cell_type": "markdown",
      "metadata": {
        "id": "6e8MqRu80vt9"
      },
      "source": [
        "Finally, let's inspect the topics the model recognizes in some of the individual documents. Here we see how LDA tends to assign a high probability to a low number of topics for each documents, which makes its results very interpretable."
      ]
    },
    {
      "cell_type": "code",
      "execution_count": null,
      "metadata": {
        "id": "QbJgF7Bm0vt9",
        "outputId": "34cb2c92-2eca-4ef2-bc0c-49bfd300dbbc"
      },
      "outputs": [
        {
          "name": "stdout",
          "output_type": "stream",
          "text": [
            "Multiplier les centrales géothermiques\n",
            "[(2, 0.7749154)]\n",
            "Les problèmes auxquels se trouve confronté l’ensemble de la planète et que dénoncent, dans le plus parfait désordre, les gilets jaunes de France ne sont-ils pas dus, avant tout, à la surpopulation mondiale ? Cette population est passée d’1,5 milliards d’habitants en 1900 à 7 milliards en 2020 et montera bientôt à 10 milliards vers 2040.  Avec les progrès de la communication dans ce village mondial, chaque individu, du fin fond de l’Asie au fin fond de l’Afrique, en passant par les « quartiers » et les « campagnes » de notre pays, aspire à vivre – et on ne peu l’en blâmer – comme les moins mal lotis de nos concitoyens (logement, nourriture, biens de consommation, déplacement,etc.).  Voilà la mère de tous les problèmes. Si tel est bien le cas, la solution à tous les problèmes (stabilisation de la croissance démographique, partage des richesses, partage des terres, partage de l’eau, protection de la biodiversité, règlement des conflits, lutte contre la déforestation, lutte contre dérèglement climatique, règlement des conflits, stabilisation des migrations, concurrence commerciale mondiale, etc.) ne sera ni française, ni européenne, mais mondiale. La France se doit d’y jouer un rôle moteur.  Le reste, autour duquel se déroulera « le Grand débat », paraît assez anecdotique.\n",
            "[(4, 0.6189122), (8, 0.22121763)]\n",
            "Une vrai politique écologique et non économique\n",
            "[(3, 0.8499824)]\n",
            "Les bonnes idées ne grandissent que par le partage.\n",
            "\n",
            "En ces jours pénibles où s'affrontent le peuple et ceux entre lesquels ils ont remis leur sort. (tous concernés puis qu’élus).\n",
            "\n",
            "Une idée qui flotte en ce moment sur la mobilité propre dans les zones non ou mal desservies et qui est encore expérimentale dans quelques communes.\n",
            "\n",
            "L'avenir  est entre vos mains et les nôtres. Pourquoi ne pas planifier l'installation de flotte de véhicules électriques partagés en location, dans ces zones isolées.\n",
            "\n",
            "En construisant un partenariat avec : état, région, département, commune ou communauté, professionnel de la location, entreprises locales, constructeurs de véhicules, les bailleurs sociaux, pour la mise en place. Avec l'apport financier de la TICPE qui baissera au fil de la décroissance de la consommation, il faudra penser à la déconnecter du budget de fonctionnement de l'état !\n",
            "\n",
            "Avec un forfait de location pour les utilisateurs, adapté à leur ressources et peut être tout simplement basé sur leurs dépenses de mobilité actuelles. Ainsi pas d'investissements inaccessibles pour eux.\n",
            "\n",
            "Tout le monde y gagnerait, cela  pourrait prendre l'image du relais de poste comme par le passé et réglerait le problème d'autonomie actuel et engendrerait quelques emplois de service, nouveaux.\n",
            "[(1, 0.15038152), (4, 0.114123225), (8, 0.23206577), (10, 0.37896013)]\n",
            "Pédagogie dans ce sens là dés la petite école pour sensibilisation via les parcs naturels . Les enfants doivent devenir des prescripteurs  pour les générations futures . Il y a urgence\n",
            "[(3, 0.17686656), (5, 0.30871424), (8, 0.46439967)]\n",
            "faire de l'écologie incitative et non punitive on n'est pas des gosses à qui on distribue des bonnes ou mauvaises notes\n",
            "[(3, 0.51083815), (4, 0.22974275), (10, 0.18936181)]\n",
            "Développer le ferroutage pour les poids lourds, Instaurer une vignette pour les poids lourds étrangers qui traversent la France\n",
            "[(6, 0.9470532)]\n",
            "- Favoriser le tri des déchets en mettant en place une redevance incitatrice et non punitive,\n",
            "- Arrêt d'une écologie punitive à base de taxes qui est néfaste à la compréhension d'une écologie intelligente, adaptée et durable.\n",
            "- Revoir la politique de pose des panneaux solaire en Ferme qui en fait gâche des terrains et sert plus à récolter des taxes pour les caisses des collectivités,\n",
            "- Revoir la politique de mise en place des éoliennes qui ne sont pas adaptées, peu rentable (< 30%) et qui produisent des effets néfastes par du bruit et des infra-ondes,\n",
            "- Arrêt du rachat, à des prix exorbitants, de l'énergie produite par des panneaux solaire, par des éoliennes ou par tout autre moyen dit propre (Bio-masse, hydraulique),\n",
            "- Favoriser le développement de la bio-masse,\n",
            "- Développer le stockage intelligent de l'énergie,\n",
            "- Réaliser une grande opération pour assurer l'isolation des bâtiments énergivores,\n",
            "- Éteindre les éclairages la nuit,\n",
            "- Développer les transports en site propre.\n",
            "[(2, 0.2059375), (3, 0.14760895), (9, 0.38514704)]\n",
            "aider les petits commerces ou agriculteurs  et supprimer le glysophate\n",
            "[(4, 0.4358804), (6, 0.44989392)]\n",
            "Il faut utiliser TOUS les logements vacants au lieu d'aller en construire de nouveaux sans arrêt, qui bousillent la terre et détruisent l'habitat des rares animaux restants encore (6è extinction de masse). \n",
            "Taxer de façon extrêmement sévère les piscines, l'eau au-delà du minimum nécessaire par personne et par jour, les gros SUV inutiles, les voyages en avion qui détruisent la planète et ne servent qu'à satisfaire l'occidental riche capitaliste.\n",
            "[(5, 0.15232636), (8, 0.4752621), (9, 0.19222178), (10, 0.11350786)]\n",
            "non\n",
            "[(1, 0.1), (2, 0.1), (3, 0.1), (4, 0.1), (5, 0.1), (6, 0.1), (7, 0.1), (8, 0.1), (9, 0.1), (10, 0.1)]\n",
            "Dans les années 80, une société avait passé des contrats avec les organismes HLM : la société changeait toute la robinetterie à ses frais, pour une robinetterie de qualité, et se payait ensuite sur une partie des économies d'eau. Gagnant-gagnant.\n",
            "Pourquoi ne pas susciter la même chose pour la réhabilitation thermique des bâtiments ? Les propriétaires n'ont pas la capacité d'endettement pour réaliser les travaux, même avec des prêts à taux zéro et avec les crédits d'impôt. Pourquoi ne pas susciter des entreprises (peut-être les fournisseurs d'énergie) pour qu'elles réalisent à leurs frais les travaux de réhabilitation les plus urgents et se paient ensuite sur une part des économies d'énergie (conditions détaillées à préciser compte tenu des variations météorologiques) ? On peut aider cela avec l'ensemble des aides à l'efficacité énergétique. Le propriétaire ne débourserait rien et gagnerait du pouvoir d'achat. Les entreprises qui fourniraient ce service pourraient être très rentables, moyennant un temps de retour peut-être un peu long (à étudier), l'environnement y gagnerait, et ceci créerait de nombreux emplois et du chiffre d'affaires pour les fournisseurs de matériaux d'isolation, de régulation ou de chauffage, sans que L’État y consacre un euro de plus qu'actuellement.\n",
            "[(2, 0.15524623), (3, 0.10230142), (10, 0.5499534)]\n",
            "oui .\n",
            "les bouteilles plastiques vendues par les grands magasins ne pourrait il pas faire comme ailleurs?\n",
            "machines sur les parkings des magasins qui les vendent .chaque bouteille mise dans la machine=bon d achat pour le magasin\n",
            "[(7, 0.70645076), (9, 0.24647509)]\n",
            "Le véhicule électrique doit être amélioré dans sa conception pour réduire son impact écologique lors de sa fabrication/destruction, pour inciter les citoyens à passer au véhicule électrique, il faut retravailler l'autonomie de ces vehicules, une Renault Zoé avec 300km d'autonomie, c'est en réalité une trottinette électrique qui coûte cher, une Tesla, c'est inabordable... . Les bornes de recharges sont quasi inexistantes pour le moment, l'état doit imposer l'installation de bornes de recharges gratuites par les constructeurs automobiles sur un % de place de parking pour chaque ville/village. Après tout, plus il y aura de bornes de recharges, plus il y aura de véhicules électriques, et plus ils en vendront, les principaux intéressés (constructeurs automobiles) y gagneraient en mettant la main à la patte. \n",
            "Aujourd'hui, la location des batteries est aussi un frein à l'achat de ces véhicules, un petit rouleur verra son portefeuille encore plus emputé en passant à l'electrique, 69 euros de location de batterie + 6-10 euros en électricité pour recharge en moyenne par mois, quand avant il faisait 1 plein de citadine mensuellement, le gain n'existe pas dans cette situation.\n",
            "Les véhicules hybrides sont de par leur motorisation beaucoup plus puissants que les thermiques, ce qui permet aux assurances d'augmenter grassement leurs tarifs, et freine beaucoup de gens quand à l'achat de ce type de voiture.\n",
            "[(1, 0.49675947), (10, 0.27321267)]\n",
            "Limite le gaspillage alimentaire hyper consommation. Mettre de cota sur abatage des animaux massive sur péché tout les animaux tué qui ne sont pas consommé\n",
            "[(3, 0.12982452), (5, 0.2535655), (7, 0.31816646)]\n",
            "Orienter l’ensemble des recettes des taxes « environnement » (TGAP, TICE, …) vers la transition écologique.\n",
            "Déchets => faire payer chaque producteur (professionnel et particuliers) en proportion de l’utilisation du service  (quantité et dangerosité).\n",
            "gratuité des transports en commun dans les villes de plus de 250 000 habitants, création de plateforme route/rail aux portes de ces villes et  péage urbain.\n",
            "Taxer au même niveau l’ensemble des énergies fossiles (avion, navire …).\n",
            "[(2, 0.106345214), (3, 0.18690754), (9, 0.32509217), (10, 0.20012875)]\n",
            "-\tAugmenter le nombre de bus qui font le trajet village-ville la plus proche de façon à ce qu’on puisse partir le matin et revenir chez nous à midi et partir en début d’après-midi et revenir vers 17h, ce qui permettrait aux gens de pouvoir se passer de voiture pour aller chez le médecin. Pour Cuts/Noyon ou Appilly/Noyon, on est obligé de partir le matin et de revenir le soir, je n’ai pas le budget pour manger en ville le midi, ni l’envie de rester une journée en ville dans le froid pour un rdv de 30 min chez le médecin\n",
            "\n",
            "-\tCréer une centrale d’achat, tous les grands groupes en ont une, mais l’état n’en a pas, résultat il paie trop cher pour toutes ses commandes et ce sont tous les citoyens qui paient trop cher, pour acheter les bus, pour entretenir les routes\n",
            "\n",
            "-\tChanger le système d’appel d’offre car au final les collectivités locales et territoriales paient trop cher leurs achats, il faut vraiment simplifier la procédure et former des acheteurs et les maires de ville et de village à la négociation, ce qui permettrait de baisser les dépenses et l’imposition\n",
            "\n",
            "-\tCréer un comité d’entreprise dans la fonction publique qui proposerait voyage, camps de vacances pour enfants, cinéma, etc…. à prix réduits, regrouper au maximum pour avoir des prix avantageux car le nombre d’acheteurs potentiels serait important\n",
            "\n",
            "-\tEncourager les ventes directes du producteur agricole au consommateur par des aides financière mais aussi par la création de site internet de commande en ligne, les chambres d’agriculture pourront s’en charger\n",
            "\n",
            "-\tFixer des prix maximum sur les fruits et légumes, de façon à ce que chacun puisse en manger à prix raisonnable ou limiter la marge sur les fruits et légumes ou supprimer les grossistes en fruits et légumes\n",
            "\n",
            "-\tFixer des prix fixes pour les produits alimentaires de base (pain, fruits et légumes, œuf, lait, viande, féculent)\n",
            "\n",
            "-\tSupprimer toutes les taxes sur les produits alimentaires, par exemple la taxe sur l’huile pour obliger les gens à acheter du beurre, on ne met pas de beurre dans les salades, et pour la santé afin d’éviter le cholestérol, tous les médecins conseillent de l’huile de pépins de raisins, or c’est l’huile la plus chère, ca veut dire que quand on est pauvre, on doit en plus être malade …..  \n",
            "\n",
            "-\tSupprimer le Conseil Constitutionnel qui bloque toutes les lois utiles au développement de la société et qui favorise les lobbyistes\n",
            "\n",
            "-\tAttribuer le CICE aux PME-PMI\n",
            "[(5, 0.18508205), (6, 0.27412015), (10, 0.40843204)]\n",
            "Ne plus faire semblant de la mettre en place\n",
            "[(3, 0.3903301), (9, 0.47628102)]\n",
            "non\n",
            "[(1, 0.1), (2, 0.1), (3, 0.1), (4, 0.1), (5, 0.1), (6, 0.1), (7, 0.1), (8, 0.1), (9, 0.1), (10, 0.1)]\n",
            "● Conservation et prolongement des centrales nucléaires, permettant de produire une électricité propre et peu coûteuse.\n",
            "● Enfouissement des déchets nucléaires dans des zones géologiques stables, à l'instar des USA\n",
            "● Développement de toutes les énergies renouvelables, avec incitations fiscales intéressantes.\n",
            "● Incitation à passer à la voiture électrique grâce à l'adoption d'un programme national d'équipement sur le modèle proposé en Israël, permettant aux véhicules électriques de se recharger en roulant (financé grâce à des investisseurs privés moyennant une diminution de leur impôt)\n",
            "● Développement des éoliennes offshore, et des hydroliennes.\n",
            "● Programme national pour le développement du moteur à hydrogène\n",
            "● Incitations multiples à l'agriculture biologique\n",
            "● Généralisation du principe du \"circuit court\" en facilitant aux agriculteurs la vente directe, et en mettant tout en œuvre pour promouvoir les produits locaux, plutôt que ceux venus de loin.\n",
            "● Protection du patrimoine naturel, avec interdiction des infrastructures inutiles détruisant la faune et la flore (ex : Grand contournement Ouest de Strasbourg, catastrophique et inutile)\n",
            "● Principe de l'incitation, plutôt que la taxation : l'augmentation du prix du gazole, alors que la fiscalité sur les carburants est déjà excessive, a été le détonateur de la crise des Gilets Jaunes !\n",
            "[(1, 0.15244177), (2, 0.3127922), (5, 0.19132058), (10, 0.14140038)]\n"
          ]
        }
      ],
      "source": [
        "for (text, doc) in zip(texts[:20], docs[:20]):\n",
        "    print(text)\n",
        "    print([(topic+1, prob) for (topic, prob) in model[dictionary.doc2bow(doc)] if prob > 0.1])\n"
      ]
    },
    {
      "cell_type": "markdown",
      "source": [
        "# Supplementary Activity"
      ],
      "metadata": {
        "id": "jI8wpaevgLN5"
      }
    },
    {
      "cell_type": "code",
      "source": [
        "!pip install gensim pyLDAvis nltk pandas"
      ],
      "metadata": {
        "colab": {
          "base_uri": "https://localhost:8080/"
        },
        "id": "HxvcvtX-U7LA",
        "outputId": "191c4842-dfff-4c32-9661-bef9a3d7605a"
      },
      "execution_count": 2,
      "outputs": [
        {
          "output_type": "stream",
          "name": "stdout",
          "text": [
            "Requirement already satisfied: gensim in /usr/local/lib/python3.10/dist-packages (4.3.3)\n",
            "Collecting pyLDAvis\n",
            "  Downloading pyLDAvis-3.4.1-py3-none-any.whl.metadata (4.2 kB)\n",
            "Requirement already satisfied: nltk in /usr/local/lib/python3.10/dist-packages (3.8.1)\n",
            "Requirement already satisfied: pandas in /usr/local/lib/python3.10/dist-packages (2.1.4)\n",
            "Requirement already satisfied: numpy<2.0,>=1.18.5 in /usr/local/lib/python3.10/dist-packages (from gensim) (1.26.4)\n",
            "Requirement already satisfied: scipy<1.14.0,>=1.7.0 in /usr/local/lib/python3.10/dist-packages (from gensim) (1.13.1)\n",
            "Requirement already satisfied: smart-open>=1.8.1 in /usr/local/lib/python3.10/dist-packages (from gensim) (7.0.4)\n",
            "Requirement already satisfied: joblib>=1.2.0 in /usr/local/lib/python3.10/dist-packages (from pyLDAvis) (1.4.2)\n",
            "Requirement already satisfied: jinja2 in /usr/local/lib/python3.10/dist-packages (from pyLDAvis) (3.1.4)\n",
            "Requirement already satisfied: numexpr in /usr/local/lib/python3.10/dist-packages (from pyLDAvis) (2.10.1)\n",
            "Collecting funcy (from pyLDAvis)\n",
            "  Downloading funcy-2.0-py2.py3-none-any.whl.metadata (5.9 kB)\n",
            "Requirement already satisfied: scikit-learn>=1.0.0 in /usr/local/lib/python3.10/dist-packages (from pyLDAvis) (1.3.2)\n",
            "Requirement already satisfied: setuptools in /usr/local/lib/python3.10/dist-packages (from pyLDAvis) (71.0.4)\n",
            "Requirement already satisfied: click in /usr/local/lib/python3.10/dist-packages (from nltk) (8.1.7)\n",
            "Requirement already satisfied: regex>=2021.8.3 in /usr/local/lib/python3.10/dist-packages (from nltk) (2024.5.15)\n",
            "Requirement already satisfied: tqdm in /usr/local/lib/python3.10/dist-packages (from nltk) (4.66.5)\n",
            "Requirement already satisfied: python-dateutil>=2.8.2 in /usr/local/lib/python3.10/dist-packages (from pandas) (2.8.2)\n",
            "Requirement already satisfied: pytz>=2020.1 in /usr/local/lib/python3.10/dist-packages (from pandas) (2024.2)\n",
            "Requirement already satisfied: tzdata>=2022.1 in /usr/local/lib/python3.10/dist-packages (from pandas) (2024.1)\n",
            "Requirement already satisfied: six>=1.5 in /usr/local/lib/python3.10/dist-packages (from python-dateutil>=2.8.2->pandas) (1.16.0)\n",
            "Requirement already satisfied: threadpoolctl>=2.0.0 in /usr/local/lib/python3.10/dist-packages (from scikit-learn>=1.0.0->pyLDAvis) (3.5.0)\n",
            "Requirement already satisfied: wrapt in /usr/local/lib/python3.10/dist-packages (from smart-open>=1.8.1->gensim) (1.16.0)\n",
            "Requirement already satisfied: MarkupSafe>=2.0 in /usr/local/lib/python3.10/dist-packages (from jinja2->pyLDAvis) (2.1.5)\n",
            "Downloading pyLDAvis-3.4.1-py3-none-any.whl (2.6 MB)\n",
            "\u001b[2K   \u001b[90m━━━━━━━━━━━━━━━━━━━━━━━━━━━━━━━━━━━━━━━━\u001b[0m \u001b[32m2.6/2.6 MB\u001b[0m \u001b[31m23.9 MB/s\u001b[0m eta \u001b[36m0:00:00\u001b[0m\n",
            "\u001b[?25hDownloading funcy-2.0-py2.py3-none-any.whl (30 kB)\n",
            "Installing collected packages: funcy, pyLDAvis\n",
            "Successfully installed funcy-2.0 pyLDAvis-3.4.1\n"
          ]
        }
      ]
    },
    {
      "cell_type": "code",
      "source": [
        "%pylab inline\n",
        "import pandas as pd\n",
        "\n",
        "df = pd.read_csv('/content/IMDB Dataset.csv')"
      ],
      "metadata": {
        "colab": {
          "base_uri": "https://localhost:8080/"
        },
        "id": "7OprWsZzpdrn",
        "outputId": "6380c7d3-f463-467a-fecb-0b9039b9bd65"
      },
      "execution_count": 17,
      "outputs": [
        {
          "output_type": "stream",
          "name": "stdout",
          "text": [
            "Populating the interactive namespace from numpy and matplotlib\n"
          ]
        }
      ]
    },
    {
      "cell_type": "markdown",
      "source": [
        "This dataset is about has 50,000 movie reviews for binary sentiment classification, which predicts whether a review is favorable or negative.\n",
        "\n",
        "Dataset:https://www.kaggle.com/datasets/lakshmi25npathi/imdb-dataset-of-50k-movie-reviews"
      ],
      "metadata": {
        "id": "n7g6KBclshYQ"
      }
    },
    {
      "cell_type": "code",
      "source": [
        "df.columns"
      ],
      "metadata": {
        "colab": {
          "base_uri": "https://localhost:8080/"
        },
        "id": "arPEnxyOps7Y",
        "outputId": "729093cf-2310-409c-a12c-2e92642fd6e4"
      },
      "execution_count": 18,
      "outputs": [
        {
          "output_type": "execute_result",
          "data": {
            "text/plain": [
              "Index(['review', 'sentiment'], dtype='object')"
            ]
          },
          "metadata": {},
          "execution_count": 18
        }
      ]
    },
    {
      "cell_type": "markdown",
      "source": [
        "In this code it displays the columns in the dataset."
      ],
      "metadata": {
        "id": "ErCzfkMJb72s"
      }
    },
    {
      "cell_type": "code",
      "source": [
        "df.head()"
      ],
      "metadata": {
        "colab": {
          "base_uri": "https://localhost:8080/",
          "height": 206
        },
        "id": "5zAbxOz_VDJS",
        "outputId": "a64233d9-c860-49a2-86a7-ad0d209dfde5"
      },
      "execution_count": 19,
      "outputs": [
        {
          "output_type": "execute_result",
          "data": {
            "text/plain": [
              "                                              review sentiment\n",
              "0  One of the other reviewers has mentioned that ...  positive\n",
              "1  A wonderful little production. <br /><br />The...  positive\n",
              "2  I thought this was a wonderful way to spend ti...  positive\n",
              "3  Basically there's a family where a little boy ...  negative\n",
              "4  Petter Mattei's \"Love in the Time of Money\" is...  positive"
            ],
            "text/html": [
              "\n",
              "  <div id=\"df-a3ca8725-8608-4b8b-a9b2-cf348c7cab7b\" class=\"colab-df-container\">\n",
              "    <div>\n",
              "<style scoped>\n",
              "    .dataframe tbody tr th:only-of-type {\n",
              "        vertical-align: middle;\n",
              "    }\n",
              "\n",
              "    .dataframe tbody tr th {\n",
              "        vertical-align: top;\n",
              "    }\n",
              "\n",
              "    .dataframe thead th {\n",
              "        text-align: right;\n",
              "    }\n",
              "</style>\n",
              "<table border=\"1\" class=\"dataframe\">\n",
              "  <thead>\n",
              "    <tr style=\"text-align: right;\">\n",
              "      <th></th>\n",
              "      <th>review</th>\n",
              "      <th>sentiment</th>\n",
              "    </tr>\n",
              "  </thead>\n",
              "  <tbody>\n",
              "    <tr>\n",
              "      <th>0</th>\n",
              "      <td>One of the other reviewers has mentioned that ...</td>\n",
              "      <td>positive</td>\n",
              "    </tr>\n",
              "    <tr>\n",
              "      <th>1</th>\n",
              "      <td>A wonderful little production. &lt;br /&gt;&lt;br /&gt;The...</td>\n",
              "      <td>positive</td>\n",
              "    </tr>\n",
              "    <tr>\n",
              "      <th>2</th>\n",
              "      <td>I thought this was a wonderful way to spend ti...</td>\n",
              "      <td>positive</td>\n",
              "    </tr>\n",
              "    <tr>\n",
              "      <th>3</th>\n",
              "      <td>Basically there's a family where a little boy ...</td>\n",
              "      <td>negative</td>\n",
              "    </tr>\n",
              "    <tr>\n",
              "      <th>4</th>\n",
              "      <td>Petter Mattei's \"Love in the Time of Money\" is...</td>\n",
              "      <td>positive</td>\n",
              "    </tr>\n",
              "  </tbody>\n",
              "</table>\n",
              "</div>\n",
              "    <div class=\"colab-df-buttons\">\n",
              "\n",
              "  <div class=\"colab-df-container\">\n",
              "    <button class=\"colab-df-convert\" onclick=\"convertToInteractive('df-a3ca8725-8608-4b8b-a9b2-cf348c7cab7b')\"\n",
              "            title=\"Convert this dataframe to an interactive table.\"\n",
              "            style=\"display:none;\">\n",
              "\n",
              "  <svg xmlns=\"http://www.w3.org/2000/svg\" height=\"24px\" viewBox=\"0 -960 960 960\">\n",
              "    <path d=\"M120-120v-720h720v720H120Zm60-500h600v-160H180v160Zm220 220h160v-160H400v160Zm0 220h160v-160H400v160ZM180-400h160v-160H180v160Zm440 0h160v-160H620v160ZM180-180h160v-160H180v160Zm440 0h160v-160H620v160Z\"/>\n",
              "  </svg>\n",
              "    </button>\n",
              "\n",
              "  <style>\n",
              "    .colab-df-container {\n",
              "      display:flex;\n",
              "      gap: 12px;\n",
              "    }\n",
              "\n",
              "    .colab-df-convert {\n",
              "      background-color: #E8F0FE;\n",
              "      border: none;\n",
              "      border-radius: 50%;\n",
              "      cursor: pointer;\n",
              "      display: none;\n",
              "      fill: #1967D2;\n",
              "      height: 32px;\n",
              "      padding: 0 0 0 0;\n",
              "      width: 32px;\n",
              "    }\n",
              "\n",
              "    .colab-df-convert:hover {\n",
              "      background-color: #E2EBFA;\n",
              "      box-shadow: 0px 1px 2px rgba(60, 64, 67, 0.3), 0px 1px 3px 1px rgba(60, 64, 67, 0.15);\n",
              "      fill: #174EA6;\n",
              "    }\n",
              "\n",
              "    .colab-df-buttons div {\n",
              "      margin-bottom: 4px;\n",
              "    }\n",
              "\n",
              "    [theme=dark] .colab-df-convert {\n",
              "      background-color: #3B4455;\n",
              "      fill: #D2E3FC;\n",
              "    }\n",
              "\n",
              "    [theme=dark] .colab-df-convert:hover {\n",
              "      background-color: #434B5C;\n",
              "      box-shadow: 0px 1px 3px 1px rgba(0, 0, 0, 0.15);\n",
              "      filter: drop-shadow(0px 1px 2px rgba(0, 0, 0, 0.3));\n",
              "      fill: #FFFFFF;\n",
              "    }\n",
              "  </style>\n",
              "\n",
              "    <script>\n",
              "      const buttonEl =\n",
              "        document.querySelector('#df-a3ca8725-8608-4b8b-a9b2-cf348c7cab7b button.colab-df-convert');\n",
              "      buttonEl.style.display =\n",
              "        google.colab.kernel.accessAllowed ? 'block' : 'none';\n",
              "\n",
              "      async function convertToInteractive(key) {\n",
              "        const element = document.querySelector('#df-a3ca8725-8608-4b8b-a9b2-cf348c7cab7b');\n",
              "        const dataTable =\n",
              "          await google.colab.kernel.invokeFunction('convertToInteractive',\n",
              "                                                    [key], {});\n",
              "        if (!dataTable) return;\n",
              "\n",
              "        const docLinkHtml = 'Like what you see? Visit the ' +\n",
              "          '<a target=\"_blank\" href=https://colab.research.google.com/notebooks/data_table.ipynb>data table notebook</a>'\n",
              "          + ' to learn more about interactive tables.';\n",
              "        element.innerHTML = '';\n",
              "        dataTable['output_type'] = 'display_data';\n",
              "        await google.colab.output.renderOutput(dataTable, element);\n",
              "        const docLink = document.createElement('div');\n",
              "        docLink.innerHTML = docLinkHtml;\n",
              "        element.appendChild(docLink);\n",
              "      }\n",
              "    </script>\n",
              "  </div>\n",
              "\n",
              "\n",
              "<div id=\"df-4b7eaf1c-7f35-4675-8f40-480e4921cd95\">\n",
              "  <button class=\"colab-df-quickchart\" onclick=\"quickchart('df-4b7eaf1c-7f35-4675-8f40-480e4921cd95')\"\n",
              "            title=\"Suggest charts\"\n",
              "            style=\"display:none;\">\n",
              "\n",
              "<svg xmlns=\"http://www.w3.org/2000/svg\" height=\"24px\"viewBox=\"0 0 24 24\"\n",
              "     width=\"24px\">\n",
              "    <g>\n",
              "        <path d=\"M19 3H5c-1.1 0-2 .9-2 2v14c0 1.1.9 2 2 2h14c1.1 0 2-.9 2-2V5c0-1.1-.9-2-2-2zM9 17H7v-7h2v7zm4 0h-2V7h2v10zm4 0h-2v-4h2v4z\"/>\n",
              "    </g>\n",
              "</svg>\n",
              "  </button>\n",
              "\n",
              "<style>\n",
              "  .colab-df-quickchart {\n",
              "      --bg-color: #E8F0FE;\n",
              "      --fill-color: #1967D2;\n",
              "      --hover-bg-color: #E2EBFA;\n",
              "      --hover-fill-color: #174EA6;\n",
              "      --disabled-fill-color: #AAA;\n",
              "      --disabled-bg-color: #DDD;\n",
              "  }\n",
              "\n",
              "  [theme=dark] .colab-df-quickchart {\n",
              "      --bg-color: #3B4455;\n",
              "      --fill-color: #D2E3FC;\n",
              "      --hover-bg-color: #434B5C;\n",
              "      --hover-fill-color: #FFFFFF;\n",
              "      --disabled-bg-color: #3B4455;\n",
              "      --disabled-fill-color: #666;\n",
              "  }\n",
              "\n",
              "  .colab-df-quickchart {\n",
              "    background-color: var(--bg-color);\n",
              "    border: none;\n",
              "    border-radius: 50%;\n",
              "    cursor: pointer;\n",
              "    display: none;\n",
              "    fill: var(--fill-color);\n",
              "    height: 32px;\n",
              "    padding: 0;\n",
              "    width: 32px;\n",
              "  }\n",
              "\n",
              "  .colab-df-quickchart:hover {\n",
              "    background-color: var(--hover-bg-color);\n",
              "    box-shadow: 0 1px 2px rgba(60, 64, 67, 0.3), 0 1px 3px 1px rgba(60, 64, 67, 0.15);\n",
              "    fill: var(--button-hover-fill-color);\n",
              "  }\n",
              "\n",
              "  .colab-df-quickchart-complete:disabled,\n",
              "  .colab-df-quickchart-complete:disabled:hover {\n",
              "    background-color: var(--disabled-bg-color);\n",
              "    fill: var(--disabled-fill-color);\n",
              "    box-shadow: none;\n",
              "  }\n",
              "\n",
              "  .colab-df-spinner {\n",
              "    border: 2px solid var(--fill-color);\n",
              "    border-color: transparent;\n",
              "    border-bottom-color: var(--fill-color);\n",
              "    animation:\n",
              "      spin 1s steps(1) infinite;\n",
              "  }\n",
              "\n",
              "  @keyframes spin {\n",
              "    0% {\n",
              "      border-color: transparent;\n",
              "      border-bottom-color: var(--fill-color);\n",
              "      border-left-color: var(--fill-color);\n",
              "    }\n",
              "    20% {\n",
              "      border-color: transparent;\n",
              "      border-left-color: var(--fill-color);\n",
              "      border-top-color: var(--fill-color);\n",
              "    }\n",
              "    30% {\n",
              "      border-color: transparent;\n",
              "      border-left-color: var(--fill-color);\n",
              "      border-top-color: var(--fill-color);\n",
              "      border-right-color: var(--fill-color);\n",
              "    }\n",
              "    40% {\n",
              "      border-color: transparent;\n",
              "      border-right-color: var(--fill-color);\n",
              "      border-top-color: var(--fill-color);\n",
              "    }\n",
              "    60% {\n",
              "      border-color: transparent;\n",
              "      border-right-color: var(--fill-color);\n",
              "    }\n",
              "    80% {\n",
              "      border-color: transparent;\n",
              "      border-right-color: var(--fill-color);\n",
              "      border-bottom-color: var(--fill-color);\n",
              "    }\n",
              "    90% {\n",
              "      border-color: transparent;\n",
              "      border-bottom-color: var(--fill-color);\n",
              "    }\n",
              "  }\n",
              "</style>\n",
              "\n",
              "  <script>\n",
              "    async function quickchart(key) {\n",
              "      const quickchartButtonEl =\n",
              "        document.querySelector('#' + key + ' button');\n",
              "      quickchartButtonEl.disabled = true;  // To prevent multiple clicks.\n",
              "      quickchartButtonEl.classList.add('colab-df-spinner');\n",
              "      try {\n",
              "        const charts = await google.colab.kernel.invokeFunction(\n",
              "            'suggestCharts', [key], {});\n",
              "      } catch (error) {\n",
              "        console.error('Error during call to suggestCharts:', error);\n",
              "      }\n",
              "      quickchartButtonEl.classList.remove('colab-df-spinner');\n",
              "      quickchartButtonEl.classList.add('colab-df-quickchart-complete');\n",
              "    }\n",
              "    (() => {\n",
              "      let quickchartButtonEl =\n",
              "        document.querySelector('#df-4b7eaf1c-7f35-4675-8f40-480e4921cd95 button');\n",
              "      quickchartButtonEl.style.display =\n",
              "        google.colab.kernel.accessAllowed ? 'block' : 'none';\n",
              "    })();\n",
              "  </script>\n",
              "</div>\n",
              "\n",
              "    </div>\n",
              "  </div>\n"
            ],
            "application/vnd.google.colaboratory.intrinsic+json": {
              "type": "dataframe",
              "variable_name": "df",
              "summary": "{\n  \"name\": \"df\",\n  \"rows\": 50000,\n  \"fields\": [\n    {\n      \"column\": \"review\",\n      \"properties\": {\n        \"dtype\": \"string\",\n        \"num_unique_values\": 49582,\n        \"samples\": [\n          \"\\\"Soul Plane\\\" is a horrible attempt at comedy that only should appeal people with thick skulls, bloodshot eyes and furry pawns. <br /><br />The plot is not only incoherent but also non-existent, acting is mostly sub sub-par with a gang of highly moronic and dreadful characters thrown in for bad measure, jokes are often spotted miles ahead and almost never even a bit amusing. This movie lacks any structure and is full of racial stereotypes that must have seemed old even in the fifties, the only thing it really has going for it is some pretty ladies, but really, if you want that you can rent something from the \\\"Adult\\\" section. OK?<br /><br />I can hardly see anything here to recommend since you'll probably have a lot a better and productive time chasing rats with a sledgehammer or inventing waterproof teabags or whatever.<br /><br />2/10\",\n          \"Guest from the Future tells a fascinating story of time travel, friendship, battle of good and evil -- all with a small budget, child actors, and few special effects. Something for Spielberg and Lucas to learn from. ;) A sixth-grader Kolya \\\"Nick\\\" Gerasimov finds a time machine in the basement of a decrepit building and travels 100 years into the future. He discovers a near-perfect, utopian society where robots play guitars and write poetry, everyone is kind to each other and people enjoy everything technology has to offer. Alice is the daughter of a prominent scientist who invented a device called Mielophone that allows to read minds of humans and animals. The device can be put to both good and bad use, depending on whose hands it falls into. When two evil space pirates from Saturn who want to rule the universe attempt to steal Mielophone, it falls into the hands of 20th century school boy Nick. With the pirates hot on his tracks, he travels back to his time, followed by the pirates, and Alice. Chaos, confusion and funny situations follow as the luckless pirates try to blend in with the earthlings. Alice enrolls in the same school Nick goes to and demonstrates superhuman abilities in PE class. The catch is, Alice doesn't know what Nick looks like, while the pirates do. Also, the pirates are able to change their appearance and turn literally into anyone. (Hmm, I wonder if this is where James Cameron got the idea for Terminator...) Who gets to Nick -- and Mielophone -- first? Excellent plot, non-stop adventures, and great soundtrack. I wish Hollywood made kid movies like this one...\",\n          \"\\\"National Treasure\\\" (2004) is a thoroughly misguided hodge-podge of plot entanglements that borrow from nearly every cloak and dagger government conspiracy clich\\u00e9 that has ever been written. The film stars Nicholas Cage as Benjamin Franklin Gates (how precious is that, I ask you?); a seemingly normal fellow who, for no other reason than being of a lineage of like-minded misguided fortune hunters, decides to steal a 'national treasure' that has been hidden by the United States founding fathers. After a bit of subtext and background that plays laughably (unintentionally) like Indiana Jones meets The Patriot, the film degenerates into one misguided whimsy after another \\u0096 attempting to create a 'Stanley Goodspeed' regurgitation of Nicholas Cage and launch the whole convoluted mess forward with a series of high octane, but disconnected misadventures.<br /><br />The relevancy and logic to having George Washington and his motley crew of patriots burying a king's ransom someplace on native soil, and then, going through the meticulous plan of leaving clues scattered throughout U.S. currency art work, is something that director Jon Turteltaub never quite gets around to explaining. Couldn't Washington found better usage for such wealth during the start up of the country? Hence, we are left with a mystery built on top of an enigma that is already on shaky ground by the time Ben appoints himself the new custodian of this untold wealth. Ben's intentions are noble \\u0096 if confusing. He's set on protecting the treasure. For who and when?\\u0085your guess is as good as mine.<br /><br />But there are a few problems with Ben's crusade. First up, his friend, Ian Holmes (Sean Bean) decides that he can't wait for Ben to make up his mind about stealing the Declaration of Independence from the National Archives (oh, yeah \\u0096 brilliant idea!). Presumably, the back of that famous document holds the secret answer to the ultimate fortune. So Ian tries to kill Ben. The assassination attempt is, of course, unsuccessful, if overly melodramatic. It also affords Ben the opportunity to pick up, and pick on, the very sultry curator of the archives, Abigail Chase (Diane Kruger). She thinks Ben is clearly a nut \\u0096 at least at the beginning. But true to action/romance form, Abby's resolve melts quicker than you can say, \\\"is that the Hope Diamond?\\\" The film moves into full X-File-ish mode, as the FBI, mistakenly believing that Ben is behind the theft, retaliate in various benign ways that lead to a multi-layering of action sequences reminiscent of Mission Impossible meets The Fugitive. Honestly, don't those guys ever get 'intelligence' information that is correct? In the final analysis, \\\"National Treasure\\\" isn't great film making, so much as it's a patchwork rehash of tired old bits from other movies, woven together from scraps, the likes of which would make IL' Betsy Ross blush.<br /><br />The Buena Vista DVD delivers a far more generous treatment than this film is deserving of. The anamorphic widescreen picture exhibits a very smooth and finely detailed image with very rich colors, natural flesh tones, solid blacks and clean whites. The stylized image is also free of blemishes and digital enhancements. The audio is 5.1 and delivers a nice sonic boom to your side and rear speakers with intensity and realism. Extras include a host of promotional junket material that is rather deep and over the top in its explanation of how and why this film was made. If only, as an audience, we had had more clarification as to why Ben and co. were chasing after an illusive treasure, this might have been one good flick. Extras conclude with the theatrical trailer, audio commentary and deleted scenes. Not for the faint-hearted \\u0096 just the thick-headed.\"\n        ],\n        \"semantic_type\": \"\",\n        \"description\": \"\"\n      }\n    },\n    {\n      \"column\": \"sentiment\",\n      \"properties\": {\n        \"dtype\": \"category\",\n        \"num_unique_values\": 2,\n        \"samples\": [\n          \"negative\",\n          \"positive\"\n        ],\n        \"semantic_type\": \"\",\n        \"description\": \"\"\n      }\n    }\n  ]\n}"
            }
          },
          "metadata": {},
          "execution_count": 19
        }
      ]
    },
    {
      "cell_type": "markdown",
      "source": [
        "In this code it shows the first 4 rows of the dataset."
      ],
      "metadata": {
        "id": "5_bLzJVhcEUc"
      }
    },
    {
      "cell_type": "code",
      "source": [
        "import nltk\n",
        "nltk.download('stopwords')"
      ],
      "metadata": {
        "colab": {
          "base_uri": "https://localhost:8080/"
        },
        "id": "agIOjKqNtlKV",
        "outputId": "d17f699f-9af0-47b4-c5ae-00caf7f946ab"
      },
      "execution_count": 21,
      "outputs": [
        {
          "output_type": "stream",
          "name": "stderr",
          "text": [
            "[nltk_data] Downloading package stopwords to /root/nltk_data...\n",
            "[nltk_data]   Unzipping corpora/stopwords.zip.\n"
          ]
        },
        {
          "output_type": "execute_result",
          "data": {
            "text/plain": [
              "True"
            ]
          },
          "metadata": {},
          "execution_count": 21
        }
      ]
    },
    {
      "cell_type": "markdown",
      "source": [
        "This code downloads a set of commonly used terms, or \"stopwords,\" that are used in text analysis and imports the NLTK library."
      ],
      "metadata": {
        "id": "QNhu5LwucfPp"
      }
    },
    {
      "cell_type": "code",
      "source": [
        "import gensim\n",
        "from gensim.corpora import Dictionary\n",
        "from nltk.corpus import stopwords\n",
        "from gensim.utils import simple_preprocess\n",
        "\n",
        "stop_words = set(stopwords.words('english'))\n",
        "documents = df['review'].dropna().tolist()\n",
        "\n",
        "processed_docs = [\n",
        "    [word for word in simple_preprocess(doc) if word not in stop_words]\n",
        "    for doc in documents\n",
        "]\n",
        "\n",
        "dictionary = Dictionary(processed_docs)\n",
        "dictionary.filter_extremes(no_below=15, no_above=0.5)\n",
        "\n",
        "bow_corpus = [dictionary.doc2bow(doc) for doc in processed_docs]"
      ],
      "metadata": {
        "id": "GHI6if3DYda8"
      },
      "execution_count": 25,
      "outputs": []
    },
    {
      "cell_type": "markdown",
      "source": [
        "This code preprocesses movie reviews by removing words that are commonly used, putting together a list of uncommon terms that come up a lot, and turning the reviews into a Bag of Words."
      ],
      "metadata": {
        "id": "oe0F7bAldHDa"
      }
    },
    {
      "cell_type": "code",
      "source": [
        "from gensim.models import LdaModel\n",
        "\n",
        "lda_model = LdaModel(corpus=bow_corpus, id2word=dictionary, num_topics=5, passes=10)"
      ],
      "metadata": {
        "id": "djK5jng6Yn8V"
      },
      "execution_count": 26,
      "outputs": []
    },
    {
      "cell_type": "markdown",
      "source": [
        "In this code it trains the LDA model to identify five topics in the bag of words through 10 iterations."
      ],
      "metadata": {
        "id": "FRqIpym5dV1s"
      }
    },
    {
      "cell_type": "code",
      "source": [
        "import pyLDAvis.gensim_models as gensimvis\n",
        "import pyLDAvis\n",
        "\n",
        "pyLDAvis.enable_notebook()\n",
        "pyLDAvis.display(gensimvis.prepare(lda_model, bow_corpus, dictionary))"
      ],
      "metadata": {
        "colab": {
          "base_uri": "https://localhost:8080/",
          "height": 861
        },
        "id": "94NkCDjla2v0",
        "outputId": "6aed0611-9337-44f6-809d-72c4073c8428"
      },
      "execution_count": 27,
      "outputs": [
        {
          "output_type": "execute_result",
          "data": {
            "text/plain": [
              "<IPython.core.display.HTML object>"
            ],
            "text/html": [
              "\n",
              "<link rel=\"stylesheet\" type=\"text/css\" href=\"https://cdn.jsdelivr.net/gh/bmabey/pyLDAvis@3.4.0/pyLDAvis/js/ldavis.v1.0.0.css\">\n",
              "\n",
              "\n",
              "<div id=\"ldavis_el7261386397767163204759170659\" style=\"background-color:white;\"></div>\n",
              "<script type=\"text/javascript\">\n",
              "\n",
              "var ldavis_el7261386397767163204759170659_data = {\"mdsDat\": {\"x\": [-0.11927848976320249, -0.03741498822364649, -0.12153947809263539, 0.10627865593115444, 0.17195430014833027], \"y\": [-0.036212075154799524, -0.006949567634528804, 0.07926338515061639, -0.17148123649657912, 0.13537949413529096], \"topics\": [1, 2, 3, 4, 5], \"cluster\": [1, 1, 1, 1, 1], \"Freq\": [29.97947107298595, 21.603637617465836, 17.11034404778415, 16.300058902227605, 15.00648835953647]}, \"tinfo\": {\"Term\": [\"bad\", \"great\", \"horror\", \"good\", \"really\", \"life\", \"story\", \"show\", \"movies\", \"people\", \"watch\", \"acting\", \"role\", \"best\", \"man\", \"think\", \"characters\", \"performance\", \"family\", \"war\", \"actors\", \"worst\", \"seen\", \"well\", \"father\", \"films\", \"love\", \"cast\", \"action\", \"wife\", \"waste\", \"crap\", \"thats\", \"sucks\", \"crappy\", \"gonna\", \"renting\", \"suck\", \"wasting\", \"wanna\", \"lol\", \"scarecrow\", \"anyways\", \"boll\", \"im\", \"mins\", \"akshay\", \"sh\", \"showtime\", \"uwe\", \"scifi\", \"doo\", \"salman\", \"mencia\", \"scooby\", \"dont\", \"canceled\", \"dumber\", \"btw\", \"morons\", \"worst\", \"stupid\", \"kinda\", \"horrible\", \"awful\", \"cant\", \"garbage\", \"terrible\", \"sucked\", \"laughing\", \"rented\", \"sorry\", \"bad\", \"laugh\", \"jokes\", \"please\", \"worse\", \"joke\", \"oh\", \"rent\", \"boring\", \"mean\", \"watching\", \"show\", \"watch\", \"maybe\", \"annoying\", \"ok\", \"think\", \"funny\", \"really\", \"thing\", \"movies\", \"like\", \"want\", \"say\", \"know\", \"got\", \"would\", \"ever\", \"could\", \"even\", \"get\", \"see\", \"people\", \"good\", \"acting\", \"something\", \"seen\", \"make\", \"time\", \"nothing\", \"made\", \"better\", \"first\", \"much\", \"way\", \"documentary\", \"political\", \"religion\", \"propaganda\", \"hitler\", \"environment\", \"cultural\", \"soviet\", \"che\", \"revolution\", \"germans\", \"documentaries\", \"profound\", \"bettie\", \"importance\", \"countries\", \"russia\", \"bleak\", \"discussion\", \"individuals\", \"philosophy\", \"spiritual\", \"symbolism\", \"depicting\", \"turkish\", \"loneliness\", \"miyazaki\", \"philosophical\", \"poetic\", \"jews\", \"reflect\", \"war\", \"society\", \"freedom\", \"subject\", \"narrative\", \"german\", \"culture\", \"images\", \"social\", \"nature\", \"religious\", \"historical\", \"russian\", \"issues\", \"world\", \"human\", \"conflict\", \"us\", \"artistic\", \"events\", \"history\", \"emotional\", \"art\", \"reality\", \"message\", \"viewer\", \"life\", \"american\", \"self\", \"cinema\", \"view\", \"people\", \"audience\", \"story\", \"many\", \"may\", \"point\", \"director\", \"characters\", \"without\", \"real\", \"way\", \"would\", \"time\", \"much\", \"two\", \"films\", \"see\", \"like\", \"even\", \"also\", \"man\", \"character\", \"well\", \"work\", \"could\", \"first\", \"make\", \"batman\", \"hong\", \"branagh\", \"hamlet\", \"cox\", \"laurel\", \"columbo\", \"garbo\", \"walken\", \"niro\", \"hanks\", \"austen\", \"robbins\", \"hartley\", \"bourne\", \"belushi\", \"christie\", \"dalton\", \"olivier\", \"adaptations\", \"cinderella\", \"kramer\", \"wong\", \"bakshi\", \"eyre\", \"penguin\", \"rochester\", \"gerard\", \"dickens\", \"modesty\", \"choreography\", \"welles\", \"caine\", \"chan\", \"adaptation\", \"version\", \"excellent\", \"animation\", \"jackie\", \"sutherland\", \"shakespeare\", \"performances\", \"animated\", \"great\", \"book\", \"performance\", \"superb\", \"fantastic\", \"jane\", \"novel\", \"wonderful\", \"series\", \"cast\", \"best\", \"original\", \"role\", \"well\", \"enjoyable\", \"story\", \"music\", \"perfect\", \"classic\", \"films\", \"good\", \"amazing\", \"brilliant\", \"actors\", \"also\", \"character\", \"quite\", \"characters\", \"actor\", \"action\", \"many\", \"much\", \"acting\", \"really\", \"better\", \"first\", \"seen\", \"see\", \"time\", \"like\", \"movies\", \"made\", \"love\", \"scenes\", \"scientist\", \"serial\", \"creature\", \"cops\", \"werewolf\", \"truck\", \"tarzan\", \"dracula\", \"zombie\", \"ninja\", \"fulci\", \"snake\", \"mummy\", \"argento\", \"lugosi\", \"frankenstein\", \"hammer\", \"corpse\", \"karloff\", \"monster\", \"giallo\", \"apes\", \"spock\", \"wax\", \"beast\", \"maniac\", \"vampires\", \"thugs\", \"helicopter\", \"zombies\", \"killer\", \"vampire\", \"giant\", \"slasher\", \"kills\", \"fbi\", \"gore\", \"blood\", \"murders\", \"alien\", \"horror\", \"cop\", \"gory\", \"police\", \"halloween\", \"killing\", \"kill\", \"creepy\", \"ship\", \"evil\", \"killed\", \"dead\", \"revenge\", \"gun\", \"car\", \"dr\", \"effects\", \"action\", \"scene\", \"man\", \"fight\", \"house\", \"death\", \"gets\", \"hero\", \"shot\", \"scenes\", \"plot\", \"around\", \"get\", \"pretty\", \"like\", \"back\", \"films\", \"even\", \"also\", \"two\", \"bad\", \"little\", \"end\", \"married\", \"ann\", \"morgan\", \"jimmy\", \"holmes\", \"marry\", \"diane\", \"sinatra\", \"cooper\", \"aunt\", \"marie\", \"matthau\", \"powell\", \"frankie\", \"daughters\", \"ruth\", \"lincoln\", \"stanwyck\", \"felix\", \"andrews\", \"cagney\", \"dorothy\", \"flynn\", \"rita\", \"freeman\", \"margaret\", \"garfield\", \"abc\", \"graham\", \"donna\", \"husband\", \"arthur\", \"mary\", \"stewart\", \"father\", \"uncle\", \"kelly\", \"joan\", \"mother\", \"wife\", \"son\", \"ford\", \"daughter\", \"family\", \"brother\", \"young\", \"charles\", \"marriage\", \"sister\", \"plays\", \"james\", \"john\", \"woman\", \"robert\", \"played\", \"man\", \"girl\", \"role\", \"friend\", \"love\", \"home\", \"life\", \"old\", \"york\", \"boy\", \"finds\", \"town\", \"mr\", \"two\", \"years\", \"new\", \"later\", \"show\", \"also\", \"back\", \"best\", \"gets\", \"get\", \"time\", \"character\", \"great\", \"good\"], \"Freq\": [18440.0, 18206.0, 7303.0, 29191.0, 23319.0, 13122.0, 23284.0, 12588.0, 15305.0, 18092.0, 14045.0, 12693.0, 6568.0, 12542.0, 11912.0, 14357.0, 14569.0, 5543.0, 5805.0, 4515.0, 8836.0, 5390.0, 13359.0, 21009.0, 3882.0, 13788.0, 12989.0, 7572.0, 6349.0, 4248.0, 2790.128522124046, 2173.095198655882, 712.826341736363, 599.9469605528407, 534.0417654835522, 486.5849610963471, 378.92066794386136, 326.19077282224436, 293.06903996951905, 282.08696724322726, 250.4754703636139, 246.01790140506844, 236.36685418890303, 226.80834294147482, 209.05353653384387, 198.1301256325567, 175.74467198855277, 167.5791436844018, 168.47180623095048, 162.71470836013427, 151.56291181430674, 147.8779040254346, 149.29423870643438, 145.6744957288886, 144.99749542542963, 142.9181196954764, 143.06543337961716, 137.683775896842, 137.2626089457707, 136.91832382474152, 5245.040589395506, 3385.8004668695894, 504.52432156017227, 2535.9418438867965, 3192.996467722542, 474.7456300710215, 922.7791320330482, 3041.3030145155535, 475.8573328590099, 1168.916240292781, 626.7788604778962, 1443.4544287563838, 15928.517093595246, 2750.955605453561, 1762.09218558853, 1804.4846289372765, 2477.20506733693, 1098.2518104192673, 2569.264773616855, 1322.092623005383, 3035.3313725544117, 2921.5159444971, 7104.60123335371, 9461.1260267043, 10310.53192728802, 3786.0921884999866, 1713.5134149479666, 1786.3348674333668, 10197.883144514508, 6407.217405189283, 15496.830843801556, 6816.452089085549, 10640.330025707115, 24943.249042149968, 5608.629405580973, 7750.1803613034845, 8646.771084442105, 5233.8569902310655, 14535.494038058825, 8024.493977611974, 9775.431377067287, 14144.028520005684, 10862.018617853215, 12950.465462149095, 10713.212305702875, 15124.131083494989, 7942.878147707987, 6573.339407501816, 8019.11554511717, 8925.966720498329, 11748.582406126525, 5595.260535734821, 8227.8431695454, 6557.857205391775, 7718.804665186741, 7867.276520190347, 6797.83397458393, 2106.36387670566, 1160.9054337245452, 452.57335562565, 398.7965262404543, 390.3948730992136, 387.46588722184737, 346.95351353034084, 320.68183368735674, 311.966223712586, 335.07173675933547, 271.92826274872886, 271.79233579243555, 270.2164957251977, 262.21622828716573, 264.66684898701163, 259.0219024060132, 248.09979064166947, 244.80017353154997, 240.5635713524406, 222.13984543936945, 219.81573706200393, 212.54446762056548, 207.305588614726, 209.17214578878455, 206.0501175099934, 204.3404200095707, 204.7675220818972, 196.63716306420554, 195.80065164579912, 183.2019717140716, 184.0120543045852, 4210.757295999236, 1321.1676747634951, 473.1251110832158, 1409.379706269014, 801.7920809412872, 1063.721307085245, 911.095538463153, 871.8787540907349, 926.5815423972117, 1154.112919616623, 568.3165583819731, 766.7173283272454, 642.2495589715511, 775.3120238699108, 5243.870288457712, 2378.4392621914326, 502.1847099661102, 4676.115283296896, 577.914870852398, 1371.3019738448277, 1811.8422400262991, 1093.2762683764354, 1785.9463312972312, 1450.4916988362293, 1212.4417159687039, 1627.203595192379, 6306.907635118928, 2561.8945469266355, 1548.0552606631459, 1796.610957067618, 1301.0972360983749, 6414.999980576459, 2255.837863413451, 6789.775009271733, 4302.85446698482, 2779.6243912916966, 2532.895710599269, 3003.5329495666874, 3923.6600225814245, 2468.560547507599, 3010.0682999834316, 3922.1466244368266, 4861.195516864902, 4402.776742329604, 3849.74099975448, 3295.5517524959746, 3209.614025106786, 3849.8343657806176, 4596.269960526033, 3806.102153398491, 3319.854060578342, 2873.6211809311617, 2972.64915088024, 3323.8918697959134, 2548.3404597775925, 2798.202873428687, 2843.4824105637463, 2569.4992640380924, 733.6293401513292, 309.3573175691652, 268.60729144386903, 257.53031124025773, 243.04101956195083, 229.63306883957955, 381.33136944661504, 227.78734883204496, 224.9031459761889, 224.70628081917621, 221.2579631600274, 189.8510044946215, 193.68074587639302, 182.45528046734225, 178.4459783933251, 179.94078588901814, 175.90255795114732, 171.6002219632829, 169.7253476944559, 167.5919409601682, 160.3304608862685, 163.47248414498222, 160.58103974680517, 159.41860426498897, 147.20931017118244, 141.07454153265817, 139.72351694219614, 140.0755714412312, 131.75009518159337, 130.14280866491418, 191.15763937111575, 290.17929517729374, 288.863564708682, 419.08245659096895, 788.8921694559745, 3241.923331069122, 3147.394306622673, 1216.3371698673673, 470.3776999420178, 304.9573618289734, 543.6162675212375, 2571.8385650901373, 719.6629173859153, 11000.871728168895, 3224.7454790939178, 3755.182784477792, 1073.858118438162, 1221.9192032691033, 846.6473790928206, 1321.1715942289381, 2162.553364418621, 4085.3188680406465, 4333.778307827366, 6506.8506372014335, 3650.4957167696107, 3679.4894012274654, 8789.813411602347, 1105.780771649857, 9248.142259933671, 3348.0856850095597, 1884.5927141949774, 2053.8164070680523, 5688.8000146883005, 10018.812183103, 1564.24386393456, 1494.3652107705702, 3880.1317682110366, 6252.3348497085235, 5045.342198296539, 3157.3251347383325, 4960.1526406915345, 2335.0023515695298, 2813.383097763464, 4266.832170295088, 5256.579626888073, 3998.5089246540965, 5396.896695032867, 3584.430494723241, 4316.46180517173, 3755.3947373009023, 4722.876399352564, 4847.692966311938, 5441.948062945412, 3657.252841558295, 3660.506940783692, 3508.9718502993196, 3358.12721870727, 741.4807277699575, 711.9890864679724, 683.3533845868924, 680.5142295856873, 518.2581876839562, 450.4197026303681, 427.58366994765834, 370.72523558191773, 1125.0780246389625, 347.3932454173, 337.50565787334267, 331.5771293219957, 297.86858233241895, 284.27456053850676, 280.73845408646764, 273.73950210178134, 254.16767598090038, 234.4405479739427, 233.64645285116845, 1614.5082709223998, 226.4496298298293, 220.41167065989356, 211.85397870490704, 209.09915567398048, 381.016730899141, 211.0522170393802, 441.25973270825517, 197.87362203121697, 194.58308812641317, 776.4194796949159, 2588.3722766346373, 1056.6548857073471, 802.5325178422132, 933.7258275304965, 935.9186379423763, 337.5531929981893, 1915.116407194754, 2249.1364374885384, 681.9760690631998, 948.8722538378433, 6202.198785787044, 1215.218751336797, 455.5425914486523, 1801.6040649293602, 499.1334016386386, 1188.2019058722758, 1969.0472973368364, 1038.8374819810474, 744.2076107961615, 1884.6539947163103, 1686.0725677647197, 2439.191337813361, 856.9076834968632, 939.8606999921228, 1561.7197596449673, 1162.3762798853327, 2257.9844725526114, 2707.093669931688, 3514.405451650914, 3640.656285854203, 1331.9442325420112, 1925.5463866398286, 1872.371758063965, 2308.655840531275, 1285.2559854931449, 1732.7955254378683, 2621.1305050943643, 2784.4281217026164, 2123.3387868341374, 2942.420849095352, 2022.143289454149, 3517.5824464893435, 2103.1781599907354, 2330.782583620891, 2695.577114837992, 2462.568687289356, 2234.8692446051186, 2256.279249140235, 2018.517616280603, 1799.5869578545548, 1066.478500366139, 477.69959177120086, 465.8344915695769, 446.90985046352364, 441.00138518980583, 419.32692611442275, 345.67781079808015, 330.5229871587045, 320.10651153778315, 317.61175235870786, 312.6130666837866, 291.08554390677153, 288.0548855416676, 288.126998624748, 289.21597687836254, 271.40854653361345, 268.9937244714691, 263.58163758628774, 253.99665409292345, 261.2701540435249, 237.8736062645423, 239.39889223716006, 234.85270437538458, 233.9165068791589, 333.74024401787057, 225.62369085585323, 219.68166707549932, 214.36912452460936, 210.4378538774796, 206.38795013877254, 1978.4756942992462, 630.6079846038682, 874.4257120554291, 660.5115833788697, 3164.4329417568256, 531.2526525760406, 540.5325694483346, 514.3868164255647, 2508.571898112895, 3227.616822638883, 2072.335820865414, 624.7787965888048, 1718.164243632451, 3696.4287832832006, 1427.0494774305748, 3838.899726428299, 682.6839526566455, 631.684072054723, 1197.3750580131689, 2427.4189451747, 1307.7409737744852, 2231.1246821277796, 2564.811241961579, 1235.0022507824815, 2477.5227382370645, 4498.61509653104, 2527.6629177701075, 2690.864722655119, 1574.2799783244454, 4124.5497349147045, 1802.8266999472235, 4068.901812612747, 3093.53833411685, 912.650453626894, 1545.560306695781, 1115.9000942360165, 1292.5452860546973, 1404.5251208949924, 3066.9134297198348, 2367.0901767898163, 2227.458509543255, 1625.4049492025088, 2525.741787530659, 2776.089943814323, 2186.061829236403, 2335.4371523254727, 1863.7751695192576, 2379.1357953628117, 2387.8206614678575, 1902.1378214705219, 1953.0492810633866, 1973.946427088991], \"Total\": [18440.0, 18206.0, 7303.0, 29191.0, 23319.0, 13122.0, 23284.0, 12588.0, 15305.0, 18092.0, 14045.0, 12693.0, 6568.0, 12542.0, 11912.0, 14357.0, 14569.0, 5543.0, 5805.0, 4515.0, 8836.0, 5390.0, 13359.0, 21009.0, 3882.0, 13788.0, 12989.0, 7572.0, 6349.0, 4248.0, 2790.9493736863114, 2173.9104962782435, 713.6428631531426, 600.7584333391449, 534.8554018887102, 487.40253280009165, 379.7328750270009, 327.00310080919223, 293.9062879209496, 282.90122509863784, 251.3002124235019, 246.8328215365067, 237.18272977373036, 227.62269965200957, 209.8834063427881, 198.96450750092944, 176.5580398017794, 168.39182433102224, 169.2978669755132, 163.5254513918094, 152.38678990406942, 148.68979459199818, 150.11809076521735, 146.48177107398837, 145.80697642258423, 143.7287209097599, 143.87932207578345, 138.49972241498858, 138.08396736815266, 137.73854589727168, 5390.055029129562, 3481.478478182482, 510.3801781999091, 2648.482581191914, 3386.444323458107, 484.50855589880996, 958.7562707193465, 3323.7639945749575, 491.2389603257485, 1244.0897783453136, 654.8656999359861, 1549.3831816834927, 18440.140140665742, 3066.888411477386, 1964.0892349977426, 2018.6248435397229, 2832.9815552151845, 1198.4783506738718, 2967.27049492622, 1468.5728263476726, 3559.9956858915775, 3448.981826467296, 9156.372518219787, 12588.342017068357, 14045.332717358426, 4688.520775329901, 1972.6719496993073, 2068.16237403771, 14357.189300541564, 8571.981017720915, 23319.535317878635, 9275.131491337565, 15305.442114047335, 40122.46508287493, 7507.325342670206, 10907.937268030146, 12521.454483467895, 7062.772795983248, 24211.99654834856, 11994.034783442688, 15612.061076717364, 24615.24549908834, 18296.728644054994, 23006.39040110433, 18092.62064172902, 29191.403880911857, 12693.354232498614, 10042.043825241632, 13359.483700679777, 15632.086477508223, 24891.808923900677, 8425.286670310907, 15885.046711274086, 11463.155531462082, 17833.726475425614, 19258.96413318309, 15688.515234432647, 2107.176815939891, 1161.719516960786, 453.3870696941157, 399.6066320639961, 391.2078399228837, 388.2872683351314, 347.7653793132561, 321.48845728932906, 312.77054808842365, 335.9758330172951, 272.74000842835073, 272.60623473288365, 271.0328764337443, 263.0277516487285, 265.48640192263474, 259.83315616613845, 248.91176034535675, 245.6263456538266, 241.37863082660687, 222.95184754609036, 220.63623565179233, 213.3560225770916, 208.11651416657344, 209.99224515446105, 206.86793419503363, 205.15252212186968, 205.5888783587078, 197.45201224157685, 196.6140508953886, 184.01082335871064, 184.8281857885295, 4515.606026089927, 1400.2100379909507, 487.47461592682725, 1525.4883034059103, 851.4753689531498, 1170.3068982386667, 995.0755310187625, 959.5290060838996, 1036.82472976223, 1321.4978934368737, 617.5564206255088, 855.7470060835406, 707.5606793487677, 882.7794920773127, 7515.515684827463, 3107.8237878632854, 545.7567017200485, 7368.283037209183, 652.4648124967346, 1791.8423034378363, 2515.484141845795, 1401.0893373928639, 2551.9618425151557, 1985.5441507623334, 1600.2780369256698, 2345.247927645457, 13122.310919782769, 4437.531065942198, 2371.9479353124716, 2920.347422402919, 1900.0124070560946, 18092.62064172902, 4309.0587819149605, 23284.685218132225, 13341.774892805513, 6696.072406567493, 6146.640000532427, 8704.14649576133, 14569.328353144472, 6251.1194047426, 9377.360257435179, 15688.515234432647, 24211.99654834856, 24891.808923900677, 19258.96413318309, 13477.01767243451, 13788.842305697328, 23006.39040110433, 40122.46508287493, 24615.24549908834, 18030.616776411975, 11912.677920454596, 13956.487365350351, 21009.02881971059, 8559.4908066912, 15612.061076717364, 17833.726475425614, 15632.086477508223, 734.4403452281065, 310.1706402157867, 269.41577688935945, 258.3475331033508, 243.85790599945227, 230.4446369301931, 382.6833458097382, 228.59936977553096, 225.7206333516468, 225.5353014315252, 222.08480060822185, 190.6558914343789, 194.50784064669983, 183.27014153635227, 179.25501459960907, 180.76778080824715, 176.71642199766177, 172.41659819721653, 170.54499608251788, 168.40460452347344, 161.13620004546328, 164.29403803130043, 161.3989316601225, 160.23077215367655, 148.01542115988423, 141.88685386622112, 140.53266181346717, 140.90467717299606, 132.56572735911263, 130.95011130046032, 192.76583370279172, 294.1733016811251, 295.6938207011597, 439.51857393569895, 851.4091964083352, 4153.508490813691, 4112.053485793375, 1479.0361311292945, 522.5852771421153, 325.3553830076735, 615.2854666220242, 3481.5211484224333, 847.1524830432043, 18206.131864761508, 4605.762557191651, 5543.119528474415, 1357.8202929403333, 1578.8773102280923, 1043.1911159630163, 1772.3861664111137, 3178.0720263386966, 6739.018246940537, 7572.745782665873, 12542.837962985706, 6396.4444433526405, 6568.489607668255, 21009.02881971059, 1590.1851646902028, 23284.685218132225, 6440.315399369163, 3163.783419011697, 3573.5231598812234, 13788.842305697328, 29191.403880911857, 2527.4345275401474, 2386.232441050606, 8836.730617252844, 18030.616776411975, 13956.487365350351, 7199.154572816248, 14569.328353144472, 4690.534423044289, 6349.377970427382, 13341.774892805513, 19258.96413318309, 12693.354232498614, 23319.535317878635, 11463.155531462082, 17833.726475425614, 13359.483700679777, 23006.39040110433, 24891.808923900677, 40122.46508287493, 15305.442114047335, 15885.046711274086, 12989.367658008368, 10571.536814633613, 742.2933236822042, 712.8038961318374, 684.1625408739659, 681.3292011540473, 519.0667230787235, 451.23539725539155, 428.39476982055805, 371.53266090140096, 1127.6910328195154, 348.2007325612821, 338.30849416549347, 332.39502890407437, 298.67780847719615, 285.0849349585686, 281.5447486759907, 274.55182136043214, 254.98914852519397, 235.2503671236737, 234.453676021747, 1620.1162073254372, 227.25290439400277, 221.2285129692131, 212.66253019192825, 209.9068318162209, 382.4932955437459, 211.87494839662648, 443.0267149393654, 198.68709587904877, 195.39492606642258, 779.7778834976084, 2613.0305538378307, 1063.9441806583977, 806.8026268042618, 940.2896596246395, 944.6474594435532, 339.29464908114954, 1960.620857948676, 2338.3272567291992, 693.296441999112, 991.4711315324889, 7303.600823735485, 1322.4995173591694, 472.339713040833, 2121.138382661695, 524.7589658290482, 1390.8397437622914, 2533.9197920910324, 1232.8833626889495, 848.2108462906292, 2593.354783547485, 2285.3770074931426, 3680.5413346296236, 1029.1826066908693, 1189.1596498725, 2362.997133825162, 1612.9207438120181, 4569.618622528111, 6349.377970427382, 10831.6133753561, 11912.677920454596, 2175.7170432355865, 4159.466651490203, 3974.2202259198575, 6225.197604792253, 2141.5541206962293, 4149.5147355279405, 10571.536814633613, 12650.76023084336, 7378.869237600054, 18296.728644054994, 7213.842871388714, 40122.46508287493, 9700.353621384758, 13788.842305697328, 24615.24549908834, 18030.616776411975, 13477.01767243451, 18440.140140665742, 12295.32832612763, 11227.456312897659, 1067.2945345739006, 478.51593239855737, 466.6476526824443, 447.7253813724262, 441.81648696273373, 420.1411924498607, 346.49593556275056, 331.3308617672859, 320.9232472221699, 318.42814600524804, 313.42606664111815, 291.89186867904306, 288.8681641306792, 288.9409950645356, 290.0356451516112, 272.22455324576305, 269.8101892003183, 264.3867802212125, 254.8103504919607, 262.1408107358099, 238.68362487126808, 240.21716037692738, 235.6619709069732, 234.73427666635604, 334.9380589003156, 226.44094749891025, 220.49268699344665, 215.20166413512842, 211.25963884953097, 207.20553670677728, 2031.6725717598763, 648.0140566392973, 936.8596038836845, 710.8782898456636, 3882.9683273707205, 572.3951412718133, 586.9268862007483, 556.6125870304323, 3201.271087231591, 4248.800039680699, 2686.737153469575, 710.0524159707219, 2272.1184069915757, 5805.774229059298, 2048.680386942403, 6959.1307766038135, 835.6939735056886, 766.1669100628058, 1711.3520536542783, 4467.306238742216, 2017.323428912584, 4109.742088044352, 5314.517443690827, 1981.755715253384, 5178.992247773067, 11912.677920454596, 5453.769188978549, 6568.489607668255, 2963.3305536540993, 12989.367658008368, 3728.708265370231, 13122.310919782769, 8714.380858440667, 1344.1221773667485, 3270.0031162307114, 1895.4964179703966, 2451.9028282423396, 2956.9968223462856, 13477.01767243451, 8890.251789220347, 8044.1715009732525, 4201.087023565835, 12588.342017068357, 18030.616776411975, 9700.353621384758, 12542.837962985706, 6225.197604792253, 18296.728644054994, 24891.808923900677, 13956.487365350351, 18206.131864761508, 29191.403880911857], \"Category\": [\"Default\", \"Default\", \"Default\", \"Default\", \"Default\", \"Default\", \"Default\", \"Default\", \"Default\", \"Default\", \"Default\", \"Default\", \"Default\", \"Default\", \"Default\", \"Default\", \"Default\", \"Default\", \"Default\", \"Default\", \"Default\", \"Default\", \"Default\", \"Default\", \"Default\", \"Default\", \"Default\", \"Default\", \"Default\", \"Default\", \"Topic1\", \"Topic1\", \"Topic1\", \"Topic1\", \"Topic1\", \"Topic1\", \"Topic1\", \"Topic1\", \"Topic1\", \"Topic1\", \"Topic1\", \"Topic1\", \"Topic1\", \"Topic1\", \"Topic1\", \"Topic1\", \"Topic1\", \"Topic1\", \"Topic1\", \"Topic1\", \"Topic1\", \"Topic1\", \"Topic1\", \"Topic1\", \"Topic1\", \"Topic1\", \"Topic1\", \"Topic1\", \"Topic1\", \"Topic1\", \"Topic1\", \"Topic1\", \"Topic1\", \"Topic1\", \"Topic1\", \"Topic1\", \"Topic1\", \"Topic1\", \"Topic1\", \"Topic1\", \"Topic1\", \"Topic1\", \"Topic1\", \"Topic1\", \"Topic1\", \"Topic1\", \"Topic1\", \"Topic1\", \"Topic1\", \"Topic1\", \"Topic1\", \"Topic1\", \"Topic1\", \"Topic1\", \"Topic1\", \"Topic1\", \"Topic1\", \"Topic1\", \"Topic1\", \"Topic1\", \"Topic1\", \"Topic1\", \"Topic1\", \"Topic1\", \"Topic1\", \"Topic1\", \"Topic1\", \"Topic1\", \"Topic1\", \"Topic1\", \"Topic1\", \"Topic1\", \"Topic1\", \"Topic1\", \"Topic1\", \"Topic1\", \"Topic1\", \"Topic1\", \"Topic1\", \"Topic1\", \"Topic1\", \"Topic1\", \"Topic1\", \"Topic1\", \"Topic1\", \"Topic1\", \"Topic1\", \"Topic2\", \"Topic2\", \"Topic2\", \"Topic2\", \"Topic2\", \"Topic2\", \"Topic2\", \"Topic2\", \"Topic2\", \"Topic2\", \"Topic2\", \"Topic2\", \"Topic2\", \"Topic2\", \"Topic2\", \"Topic2\", \"Topic2\", \"Topic2\", \"Topic2\", \"Topic2\", \"Topic2\", \"Topic2\", \"Topic2\", \"Topic2\", \"Topic2\", \"Topic2\", \"Topic2\", \"Topic2\", \"Topic2\", \"Topic2\", \"Topic2\", \"Topic2\", \"Topic2\", \"Topic2\", \"Topic2\", \"Topic2\", \"Topic2\", \"Topic2\", \"Topic2\", \"Topic2\", \"Topic2\", \"Topic2\", \"Topic2\", \"Topic2\", \"Topic2\", \"Topic2\", \"Topic2\", \"Topic2\", \"Topic2\", \"Topic2\", \"Topic2\", \"Topic2\", \"Topic2\", \"Topic2\", \"Topic2\", \"Topic2\", \"Topic2\", \"Topic2\", \"Topic2\", \"Topic2\", \"Topic2\", \"Topic2\", \"Topic2\", \"Topic2\", \"Topic2\", \"Topic2\", \"Topic2\", \"Topic2\", \"Topic2\", \"Topic2\", \"Topic2\", \"Topic2\", \"Topic2\", \"Topic2\", \"Topic2\", \"Topic2\", \"Topic2\", \"Topic2\", \"Topic2\", \"Topic2\", \"Topic2\", \"Topic2\", \"Topic2\", \"Topic2\", \"Topic2\", \"Topic2\", \"Topic2\", \"Topic2\", \"Topic2\", \"Topic3\", \"Topic3\", \"Topic3\", \"Topic3\", \"Topic3\", \"Topic3\", \"Topic3\", \"Topic3\", \"Topic3\", \"Topic3\", \"Topic3\", \"Topic3\", \"Topic3\", \"Topic3\", \"Topic3\", \"Topic3\", \"Topic3\", \"Topic3\", \"Topic3\", \"Topic3\", \"Topic3\", \"Topic3\", \"Topic3\", \"Topic3\", \"Topic3\", \"Topic3\", \"Topic3\", \"Topic3\", \"Topic3\", \"Topic3\", \"Topic3\", \"Topic3\", \"Topic3\", \"Topic3\", \"Topic3\", \"Topic3\", \"Topic3\", \"Topic3\", \"Topic3\", \"Topic3\", \"Topic3\", \"Topic3\", \"Topic3\", \"Topic3\", \"Topic3\", \"Topic3\", \"Topic3\", \"Topic3\", \"Topic3\", \"Topic3\", \"Topic3\", \"Topic3\", \"Topic3\", \"Topic3\", \"Topic3\", \"Topic3\", \"Topic3\", \"Topic3\", \"Topic3\", \"Topic3\", \"Topic3\", \"Topic3\", \"Topic3\", \"Topic3\", \"Topic3\", \"Topic3\", \"Topic3\", \"Topic3\", \"Topic3\", \"Topic3\", \"Topic3\", \"Topic3\", \"Topic3\", \"Topic3\", \"Topic3\", \"Topic3\", \"Topic3\", \"Topic3\", \"Topic3\", \"Topic3\", \"Topic3\", \"Topic3\", \"Topic3\", \"Topic3\", \"Topic3\", \"Topic3\", \"Topic3\", \"Topic4\", \"Topic4\", \"Topic4\", \"Topic4\", \"Topic4\", \"Topic4\", \"Topic4\", \"Topic4\", \"Topic4\", \"Topic4\", \"Topic4\", \"Topic4\", \"Topic4\", \"Topic4\", \"Topic4\", \"Topic4\", \"Topic4\", \"Topic4\", \"Topic4\", \"Topic4\", \"Topic4\", \"Topic4\", \"Topic4\", \"Topic4\", \"Topic4\", \"Topic4\", \"Topic4\", \"Topic4\", \"Topic4\", \"Topic4\", \"Topic4\", \"Topic4\", \"Topic4\", \"Topic4\", \"Topic4\", \"Topic4\", \"Topic4\", \"Topic4\", \"Topic4\", \"Topic4\", \"Topic4\", \"Topic4\", \"Topic4\", \"Topic4\", \"Topic4\", \"Topic4\", \"Topic4\", \"Topic4\", \"Topic4\", \"Topic4\", \"Topic4\", \"Topic4\", \"Topic4\", \"Topic4\", \"Topic4\", \"Topic4\", \"Topic4\", \"Topic4\", \"Topic4\", \"Topic4\", \"Topic4\", \"Topic4\", \"Topic4\", \"Topic4\", \"Topic4\", \"Topic4\", \"Topic4\", \"Topic4\", \"Topic4\", \"Topic4\", \"Topic4\", \"Topic4\", \"Topic4\", \"Topic4\", \"Topic4\", \"Topic4\", \"Topic4\", \"Topic4\", \"Topic4\", \"Topic4\", \"Topic5\", \"Topic5\", \"Topic5\", \"Topic5\", \"Topic5\", \"Topic5\", \"Topic5\", \"Topic5\", \"Topic5\", \"Topic5\", \"Topic5\", \"Topic5\", \"Topic5\", \"Topic5\", \"Topic5\", \"Topic5\", \"Topic5\", \"Topic5\", \"Topic5\", \"Topic5\", \"Topic5\", \"Topic5\", \"Topic5\", \"Topic5\", \"Topic5\", \"Topic5\", \"Topic5\", \"Topic5\", \"Topic5\", \"Topic5\", \"Topic5\", \"Topic5\", \"Topic5\", \"Topic5\", \"Topic5\", \"Topic5\", \"Topic5\", \"Topic5\", \"Topic5\", \"Topic5\", \"Topic5\", \"Topic5\", \"Topic5\", \"Topic5\", \"Topic5\", \"Topic5\", \"Topic5\", \"Topic5\", \"Topic5\", \"Topic5\", \"Topic5\", \"Topic5\", \"Topic5\", \"Topic5\", \"Topic5\", \"Topic5\", \"Topic5\", \"Topic5\", \"Topic5\", \"Topic5\", \"Topic5\", \"Topic5\", \"Topic5\", \"Topic5\", \"Topic5\", \"Topic5\", \"Topic5\", \"Topic5\", \"Topic5\", \"Topic5\", \"Topic5\", \"Topic5\", \"Topic5\", \"Topic5\", \"Topic5\", \"Topic5\", \"Topic5\", \"Topic5\", \"Topic5\", \"Topic5\", \"Topic5\", \"Topic5\"], \"logprob\": [30.0, 29.0, 28.0, 27.0, 26.0, 25.0, 24.0, 23.0, 22.0, 21.0, 20.0, 19.0, 18.0, 17.0, 16.0, 15.0, 14.0, 13.0, 12.0, 11.0, 10.0, 9.0, 8.0, 7.0, 6.0, 5.0, 4.0, 3.0, 2.0, 1.0, -6.3626, -6.6126, -7.7273, -7.8997, -8.016, -8.1091, -8.3592, -8.509, -8.6161, -8.6543, -8.7731, -8.7911, -8.8311, -8.8724, -8.9539, -9.0076, -9.1275, -9.175, -9.1697, -9.2045, -9.2755, -9.3001, -9.2906, -9.3151, -9.3198, -9.3342, -9.3332, -9.3715, -9.3746, -9.3771, -5.7315, -6.1691, -8.0729, -6.4582, -6.2278, -8.1337, -7.4691, -6.2765, -8.1314, -7.2327, -7.8559, -7.0217, -4.6206, -6.3768, -6.8222, -6.7985, -6.4816, -7.295, -6.4451, -7.1095, -6.2784, -6.3166, -5.428, -5.1415, -5.0556, -6.0574, -6.8502, -6.8086, -5.0666, -5.5313, -4.6481, -5.4694, -5.0241, -4.1721, -5.6644, -5.341, -5.2316, -5.7336, -4.7121, -5.3062, -5.1089, -4.7394, -5.0035, -4.8276, -5.0173, -4.6724, -5.3165, -5.5057, -5.3069, -5.1998, -4.925, -5.6668, -5.2812, -5.5081, -5.3451, -5.326, -5.4721, -6.3161, -6.9119, -7.8539, -7.9804, -8.0017, -8.0092, -8.1196, -8.1984, -8.2259, -8.1545, -8.3633, -8.3638, -8.3696, -8.3997, -8.3904, -8.4119, -8.455, -8.4684, -8.4859, -8.5655, -8.5761, -8.6097, -8.6346, -8.6257, -8.6407, -8.6491, -8.647, -8.6875, -8.6917, -8.7583, -8.7538, -5.6234, -6.7826, -7.8095, -6.7179, -7.282, -6.9993, -7.1542, -7.1982, -7.1373, -6.9178, -7.6262, -7.3267, -7.5039, -7.3156, -5.404, -6.1946, -7.7499, -5.5186, -7.6094, -6.7453, -6.4667, -6.9719, -6.4811, -6.6892, -6.8684, -6.5742, -5.2194, -6.1203, -6.6241, -6.4752, -6.7979, -5.2024, -6.2476, -5.1457, -5.6018, -6.0388, -6.1317, -5.9613, -5.6941, -6.1574, -5.9591, -5.6944, -5.4798, -5.5788, -5.7131, -5.8685, -5.8949, -5.7131, -5.5358, -5.7245, -5.8612, -6.0055, -5.9716, -5.8599, -6.1256, -6.0321, -6.0161, -6.1174, -7.1377, -8.0012, -8.1424, -8.1845, -8.2424, -8.2992, -7.792, -8.3072, -8.32, -8.3209, -8.3363, -8.4894, -8.4695, -8.5292, -8.5514, -8.543, -8.5657, -8.5905, -8.6015, -8.6141, -8.6584, -8.639, -8.6569, -8.6641, -8.7438, -8.7864, -8.796, -8.7935, -8.8548, -8.867, -8.4826, -8.0652, -8.0697, -7.6976, -7.065, -5.6517, -5.6813, -6.6321, -7.5821, -8.0155, -7.4374, -5.8833, -7.1569, -4.4299, -5.6571, -5.5048, -6.7566, -6.6275, -6.9944, -6.5494, -6.0566, -5.4205, -5.3615, -4.9551, -5.533, -5.5251, -4.6543, -6.7274, -4.6035, -5.6195, -6.1942, -6.1082, -5.0894, -4.5234, -6.3805, -6.4262, -5.472, -4.995, -5.2094, -5.6782, -5.2265, -5.9799, -5.7935, -5.377, -5.1684, -5.442, -5.1421, -5.5513, -5.3655, -5.5047, -5.2755, -5.2494, -5.1338, -5.5312, -5.5303, -5.5726, -5.6165, -7.0785, -7.1191, -7.1601, -7.1643, -7.4367, -7.577, -7.629, -7.7717, -6.6615, -7.8367, -7.8656, -7.8833, -7.9905, -8.0372, -8.0497, -8.075, -8.1492, -8.2299, -8.2333, -6.3004, -8.2646, -8.2917, -8.3313, -8.3443, -7.7443, -8.335, -7.5975, -8.3995, -8.4163, -7.0325, -5.8284, -6.7243, -6.9994, -6.848, -6.8456, -7.8654, -6.1296, -5.9688, -7.1622, -6.8319, -4.9545, -6.5845, -7.5657, -6.1907, -7.4743, -6.607, -6.1018, -6.7413, -7.0748, -6.1456, -6.257, -5.8877, -6.9338, -6.8414, -6.3336, -6.6289, -5.9649, -5.7835, -5.5225, -5.4872, -6.4928, -6.1242, -6.1522, -5.9427, -6.5284, -6.2297, -5.8158, -5.7553, -6.0264, -5.7002, -6.0752, -5.5216, -6.0359, -5.9332, -5.7878, -5.8782, -5.9752, -5.9657, -6.077, -6.1918, -6.6323, -7.4355, -7.4606, -7.5021, -7.5154, -7.5658, -7.759, -7.8038, -7.8358, -7.8436, -7.8595, -7.9308, -7.9413, -7.9411, -7.9373, -8.0008, -8.0098, -8.0301, -8.0671, -8.0389, -8.1327, -8.1263, -8.1455, -8.1495, -7.7941, -8.1856, -8.2123, -8.2368, -8.2553, -8.2747, -6.0144, -7.1578, -6.8309, -7.1114, -5.5447, -7.3292, -7.3119, -7.3615, -5.777, -5.525, -5.968, -7.1671, -6.1554, -5.3893, -6.3411, -5.3515, -7.0784, -7.1561, -6.5166, -5.8099, -6.4284, -5.8942, -5.7548, -6.4856, -5.7894, -5.1929, -5.7694, -5.7068, -6.2429, -5.2797, -6.1074, -5.2933, -5.5674, -6.7881, -6.2613, -6.587, -6.4401, -6.357, -5.576, -5.835, -5.8958, -6.2109, -5.7702, -5.6757, -5.9146, -5.8485, -6.0741, -5.83, -5.8263, -6.0537, -6.0273, -6.0167], \"loglift\": [30.0, 29.0, 28.0, 27.0, 26.0, 25.0, 24.0, 23.0, 22.0, 21.0, 20.0, 19.0, 18.0, 17.0, 16.0, 15.0, 14.0, 13.0, 12.0, 11.0, 10.0, 9.0, 8.0, 7.0, 6.0, 5.0, 4.0, 3.0, 2.0, 1.0, 1.2044, 1.2043, 1.2035, 1.2033, 1.2031, 1.203, 1.2025, 1.2022, 1.2018, 1.2018, 1.2014, 1.2014, 1.2012, 1.2011, 1.2007, 1.2005, 1.2, 1.1998, 1.1998, 1.1997, 1.1992, 1.1992, 1.1992, 1.1991, 1.1991, 1.199, 1.199, 1.1987, 1.1987, 1.1987, 1.1774, 1.1768, 1.1931, 1.1612, 1.1458, 1.1843, 1.1664, 1.1158, 1.1728, 1.1423, 1.1608, 1.1338, 1.0582, 1.0959, 1.0961, 1.0925, 1.0705, 1.1173, 1.0606, 1.0996, 1.0452, 1.0387, 0.9509, 0.9191, 0.8955, 0.9909, 1.0638, 1.0582, 0.8626, 0.9136, 0.796, 0.8967, 0.8411, 0.7293, 0.9131, 0.8629, 0.8344, 0.905, 0.6944, 0.8027, 0.7365, 0.6506, 0.6832, 0.63, 0.6806, 0.5471, 0.7359, 0.7809, 0.6943, 0.6443, 0.4539, 0.7953, 0.5468, 0.6462, 0.3672, 0.3094, 0.3683, 1.5319, 1.5316, 1.5305, 1.5303, 1.5302, 1.5302, 1.53, 1.5298, 1.5297, 1.5296, 1.5293, 1.5293, 1.5293, 1.5292, 1.5292, 1.5292, 1.529, 1.5289, 1.5289, 1.5287, 1.5286, 1.5285, 1.5284, 1.5284, 1.5283, 1.5283, 1.5283, 1.5282, 1.5282, 1.5279, 1.5279, 1.4624, 1.4742, 1.5024, 1.4531, 1.4722, 1.4368, 1.4441, 1.4365, 1.4199, 1.3969, 1.4492, 1.4225, 1.4355, 1.4025, 1.1724, 1.2648, 1.4491, 1.0776, 1.411, 1.2648, 1.2042, 1.2842, 1.1754, 1.2183, 1.2548, 1.1668, 0.7996, 0.983, 1.1056, 1.0465, 1.1537, 0.4954, 0.8851, 0.2999, 0.4007, 0.6531, 0.6458, 0.4683, 0.2204, 0.6032, 0.396, 0.146, -0.0733, -0.2, -0.0777, 0.1239, 0.0746, -0.2554, -0.6344, -0.3345, -0.1598, 0.1103, -0.0142, -0.3115, 0.3207, -0.1868, -0.3038, -0.2733, 1.7644, 1.7629, 1.7625, 1.7623, 1.7621, 1.762, 1.7619, 1.7619, 1.7619, 1.7618, 1.7618, 1.7613, 1.7612, 1.761, 1.761, 1.7609, 1.7609, 1.7607, 1.7607, 1.7606, 1.7605, 1.7605, 1.7604, 1.7604, 1.76, 1.7597, 1.7597, 1.7596, 1.7593, 1.7593, 1.7571, 1.7518, 1.7421, 1.7179, 1.6892, 1.5177, 1.4981, 1.5699, 1.6602, 1.7007, 1.6416, 1.4626, 1.6024, 1.2617, 1.409, 1.3761, 1.5309, 1.5092, 1.5567, 1.4717, 1.3805, 1.265, 1.2074, 1.1092, 1.2046, 1.186, 0.8941, 1.4022, 0.8421, 1.1113, 1.2474, 1.2116, 0.8801, 0.6961, 1.2857, 1.2975, 0.9424, 0.7064, 0.748, 0.9412, 0.688, 1.068, 0.9515, 0.6255, 0.467, 0.6103, 0.302, 0.6029, 0.3468, 0.4965, 0.1821, 0.1295, -0.2323, 0.334, 0.2977, 0.4567, 0.6187, 1.8129, 1.8129, 1.8128, 1.8128, 1.8124, 1.8122, 1.8121, 1.8118, 1.8117, 1.8117, 1.8116, 1.8115, 1.8113, 1.8112, 1.8111, 1.811, 1.8108, 1.8106, 1.8106, 1.8105, 1.8105, 1.8103, 1.8102, 1.8101, 1.8101, 1.8101, 1.81, 1.8099, 1.8098, 1.8097, 1.8045, 1.8071, 1.8087, 1.807, 1.8047, 1.8089, 1.7905, 1.7751, 1.7975, 1.7701, 1.6505, 1.7294, 1.7778, 1.6507, 1.7639, 1.6565, 1.5618, 1.6427, 1.6832, 1.4948, 1.5099, 1.4026, 1.6308, 1.5787, 1.3999, 1.4864, 1.109, 0.9615, 0.6884, 0.6286, 1.3233, 1.0438, 1.0614, 0.8221, 1.3034, 0.9407, 0.4194, 0.3003, 0.5684, -0.0135, 0.5422, -0.6202, 0.2853, 0.0363, -0.3978, -0.1769, 0.0172, -0.2868, 0.0071, -0.0168, 1.8959, 1.895, 1.8949, 1.8949, 1.8948, 1.8947, 1.8943, 1.8942, 1.8941, 1.8941, 1.8941, 1.8939, 1.8939, 1.8939, 1.8939, 1.8937, 1.8937, 1.8936, 1.8935, 1.8934, 1.8933, 1.8933, 1.8932, 1.8932, 1.8931, 1.8931, 1.893, 1.8928, 1.8928, 1.8927, 1.8702, 1.8695, 1.8277, 1.8232, 1.6921, 1.8221, 1.8143, 1.8178, 1.6529, 1.6218, 1.637, 1.7687, 1.6172, 1.4452, 1.5351, 1.3018, 1.6945, 1.7037, 1.5395, 1.2867, 1.4632, 1.2858, 1.1681, 1.4238, 1.1593, 0.9229, 1.1277, 1.0043, 1.2642, 0.7495, 1.17, 0.7257, 0.861, 1.5095, 1.1473, 1.3669, 1.2564, 1.1522, 0.4164, 0.5734, 0.6126, 0.9471, 0.2905, 0.0257, 0.4066, 0.2157, 0.6907, -0.1433, -0.4475, -0.0963, -0.3357, -0.7972]}, \"token.table\": {\"Topic\": [5, 1, 2, 3, 4, 5, 1, 2, 3, 4, 1, 2, 3, 4, 5, 1, 2, 3, 5, 2, 3, 3, 1, 1, 2, 4, 1, 2, 3, 4, 5, 1, 2, 3, 5, 1, 2, 3, 4, 5, 5, 1, 3, 4, 1, 2, 3, 5, 1, 3, 4, 1, 4, 4, 1, 2, 3, 4, 5, 1, 2, 3, 4, 5, 3, 5, 1, 2, 3, 1, 2, 3, 4, 5, 5, 3, 1, 4, 1, 2, 3, 4, 5, 1, 3, 4, 5, 3, 3, 2, 4, 3, 1, 2, 3, 4, 5, 1, 2, 3, 4, 5, 2, 2, 1, 2, 4, 1, 1, 2, 3, 5, 1, 2, 3, 4, 3, 1, 2, 3, 4, 5, 3, 1, 2, 3, 5, 1, 2, 4, 5, 1, 5, 3, 4, 1, 1, 3, 1, 4, 5, 1, 2, 3, 4, 5, 3, 4, 1, 2, 3, 4, 5, 1, 2, 3, 4, 5, 3, 4, 5, 2, 3, 4, 3, 3, 1, 2, 3, 4, 1, 2, 3, 4, 5, 3, 5, 2, 3, 5, 5, 1, 3, 4, 4, 4, 1, 2, 3, 4, 5, 2, 3, 1, 1, 4, 1, 3, 4, 2, 1, 2, 5, 3, 1, 4, 5, 5, 1, 2, 3, 4, 5, 1, 2, 3, 4, 5, 2, 5, 3, 1, 2, 3, 4, 5, 2, 2, 2, 5, 1, 1, 5, 3, 4, 5, 4, 1, 1, 2, 3, 4, 2, 3, 5, 1, 2, 3, 4, 5, 1, 3, 4, 5, 2, 1, 2, 3, 4, 5, 1, 2, 3, 4, 5, 1, 2, 3, 4, 5, 1, 2, 3, 4, 2, 3, 5, 3, 1, 2, 3, 5, 1, 2, 3, 4, 5, 2, 4, 5, 4, 5, 5, 1, 2, 3, 4, 1, 2, 3, 4, 5, 2, 4, 5, 1, 2, 3, 4, 5, 5, 2, 3, 5, 4, 5, 2, 5, 1, 5, 1, 2, 4, 5, 4, 1, 3, 5, 1, 4, 3, 5, 3, 2, 3, 4, 2, 1, 2, 3, 4, 5, 1, 2, 3, 4, 5, 4, 1, 4, 1, 4, 5, 1, 1, 2, 3, 4, 5, 1, 4, 1, 4, 1, 2, 3, 4, 5, 5, 1, 2, 3, 4, 5, 1, 4, 5, 1, 4, 3, 4, 3, 3, 4, 1, 2, 3, 4, 5, 2, 3, 1, 2, 3, 4, 5, 2, 5, 1, 2, 4, 5, 3, 1, 2, 4, 1, 4, 1, 4, 5, 1, 2, 4, 5, 4, 5, 1, 2, 4, 2, 2, 1, 2, 5, 1, 3, 5, 3, 4, 5, 3, 4, 5, 2, 5, 3, 5, 3, 4, 5, 1, 4, 5, 1, 3, 5, 4, 3, 5, 1, 2, 4, 5, 1, 2, 4, 5, 1, 4, 1, 2, 4, 1, 4, 1, 3, 1, 2, 3, 4, 5, 3, 1, 2, 3, 4, 5, 1, 3, 5, 1, 2, 3, 3, 1, 2, 3, 5, 1, 2, 3, 4, 5, 5, 1, 2, 3, 4, 5, 1, 2, 1, 2, 3, 5, 4, 1, 2, 3, 4, 5, 1, 2, 3, 4, 5, 1, 2, 3, 4, 5, 4, 1, 2, 3, 4, 5, 5, 5, 2, 5, 5, 5, 3, 5, 5, 1, 2, 3, 4, 5, 1, 2, 3, 4, 5, 1, 2, 3, 4, 5, 1, 1, 2, 5, 1, 2, 3, 1, 4, 5, 1, 1, 2, 5, 1, 2, 3, 4, 5, 1, 2, 3, 4, 5, 1, 2, 3, 4, 5, 4, 4, 5, 1, 2, 3, 4, 5, 2, 4, 1, 2, 3, 4, 5, 1, 2, 3, 4, 5, 4, 3, 1, 2, 3, 4, 5, 2, 3, 5, 1, 2, 3, 4, 5, 1, 3, 4, 1, 2, 3, 4, 5, 3, 1, 2, 3, 4, 3, 1, 2, 3, 4, 5, 1, 2, 3, 4, 5, 2, 3, 4, 5, 2, 3, 4, 5, 2, 2, 1, 2, 3, 4, 5, 1, 2, 3, 4, 5, 1, 2, 3, 5, 1, 2, 3, 4, 5, 2, 1, 2, 3, 4, 5, 2, 4, 5, 2, 5, 1, 3, 4, 5, 2, 2, 1, 2, 3, 4, 5, 1, 2, 3, 4, 5, 1, 2, 5, 1, 2, 3, 4, 5, 2, 2, 1, 2, 4, 1, 3, 5, 1, 3, 1, 1, 2, 3, 4, 5, 2, 5, 3, 3, 4, 5, 3, 1, 2, 3, 4, 5, 2, 2, 3, 4, 5, 1, 1, 2, 3, 4, 5, 1, 1, 2, 3, 4, 5, 1, 2, 3, 4, 5, 4, 1, 1, 1, 2, 3, 4, 5, 1, 2, 3, 4, 5, 1, 2, 3, 4, 5, 4, 1, 2, 3, 4, 5, 1, 2, 3, 1, 2, 4, 1, 2, 3, 4, 5, 1, 2, 3, 5, 1, 5, 1, 2, 4, 5, 1, 4, 4, 2, 5, 2, 5, 1, 2, 3, 4, 5, 1, 2, 4, 5, 1, 2, 3, 2, 2, 4, 5, 3, 5, 1, 2, 3, 4, 5, 1, 4, 1, 2, 3, 5, 1, 1, 2, 3, 1, 2, 3, 5, 3, 4, 2, 4, 1, 2, 4, 1, 1, 2, 3, 4, 5, 1, 2, 3, 5, 4, 1, 2, 3, 4, 5, 1, 2, 4, 5, 4, 2, 1, 2, 3, 4, 5, 1, 3, 4, 5, 1, 2, 3, 4, 5, 1, 1, 4, 1, 4, 1, 2, 3, 4, 5, 1, 2, 3, 4, 5, 1, 2, 3, 4, 3, 1, 1, 2, 3, 4, 5, 2, 5, 1, 1, 1, 2, 3, 5, 1, 2, 3, 4, 5, 4, 1, 2, 3, 4, 5, 1, 2, 3, 4, 5, 3, 4, 4, 1, 2, 4, 5, 1, 2, 3, 4, 5, 1, 2, 4, 5, 2, 3, 5, 3, 1, 2, 3, 4, 5, 1, 2, 3, 4, 5, 1, 2, 3, 4, 5, 1, 2, 4, 1, 2, 3, 4, 5, 1, 2, 3, 4, 5, 2, 3, 4, 5, 1, 2, 3, 4, 5, 1, 4, 1, 4], \"Freq\": [0.9944161020317488, 0.6257605243272618, 0.02253147550769191, 0.31504675019321665, 0.03639699889704078, 0.0003151255315761107, 0.12158671346951425, 0.008977257341661026, 0.44303552459811346, 0.42634097585748065, 0.2451746211156932, 0.004903492422313863, 0.4978110785262118, 0.01577645388048808, 0.23622041756190265, 0.4880764376339925, 0.06710626652375552, 0.4390764150289569, 0.0057713652490919585, 0.07282044904089202, 0.9266989402139323, 0.9975974260049579, 0.9968393407493316, 0.013111829065467864, 0.029249464838351388, 0.9571635217791541, 0.17858512772632773, 0.18413124970540623, 0.3467435461319879, 0.13660098434470347, 0.1539603461392192, 0.19901603563576784, 0.16815470207793504, 0.618809303646801, 0.014243692411307438, 0.10501334933213737, 0.577348070791708, 0.0712107690750116, 0.07256287228529663, 0.17397061305667394, 0.9956480994599516, 0.09679485292356518, 0.8499060256703284, 0.05311912660439552, 0.1771423932692936, 0.0006761160048446321, 0.8221570618910726, 0.9989218072719727, 0.8688722928621069, 0.07147665886438569, 0.059310419057681744, 0.9950134237224664, 0.9944468597075274, 0.9961943448231444, 0.3584560065818804, 0.15896744639718177, 0.04119872438597038, 0.2877134601033392, 0.15368208372924477, 0.14224350613418085, 0.6998537243957217, 0.15282360163176453, 0.0023511323327963774, 0.0027429877215957737, 0.026233998824291976, 0.973744309301661, 0.024522395221244327, 0.8858715273674513, 0.08889368267701069, 0.28637344312383833, 0.5235482072020902, 0.14898845258144588, 0.016476916095455853, 0.024599339522793244, 0.9986554391921091, 0.9965598155428381, 0.9428768628741047, 0.05699193064037025, 0.4147271488259109, 0.09721295086821624, 0.045874616263368216, 0.21679622022890643, 0.22535260932971443, 0.8638220685141126, 0.0134489216517986, 0.12234180341313566, 0.00037960665952657343, 0.9923187529016204, 0.9994004343157786, 0.0026144249105815496, 0.9960958909315704, 0.995752667843715, 0.20083174218096775, 0.07063792122760516, 0.5187821144785856, 0.023599124924798116, 0.1861620158763635, 0.5720937818562034, 0.031230493123592686, 0.3126538752931737, 0.05408632887326108, 0.029921952908917013, 0.9960926113602604, 0.9974500062191645, 0.027369992722713156, 0.010691403407309827, 0.961798650521592, 0.9972643341241381, 0.14112755313125291, 0.1498123256316377, 0.7002097828435241, 0.008901891812894415, 0.8525291230064803, 0.014325860057110543, 0.05280905275954474, 0.08005627678973538, 0.9929987197155276, 0.31192630824637874, 0.09785923395964824, 0.0006116202122478015, 0.11712527064545399, 0.47278242406755056, 0.9984567463191653, 0.051964761632947, 0.2669480093563487, 0.6260915635453452, 0.0544791855829283, 0.13228027257314634, 0.027822787958189453, 0.1435070115738193, 0.6965459371287079, 0.9921499404397714, 0.9971358534895857, 0.9773623247003028, 0.020291259336338466, 0.9938884749865564, 0.9803748441940914, 0.01857552336367752, 0.2035550501161078, 0.6610249236618719, 0.13542123916248336, 0.14486159069423, 0.00013205249835390154, 0.5723155278658093, 0.08068407649423384, 0.20217237497982327, 0.9533157978923075, 0.04550433402827243, 0.2532155769204385, 0.21301921623782222, 0.36148064107629096, 0.03596893594059426, 0.13628070948010018, 0.3814177198361133, 0.2693329373109427, 0.3404412255510387, 0.006932371729970747, 0.001921845628110702, 0.05504407290031376, 0.12803730000725158, 0.8172848215416152, 0.9975363790064856, 0.9908394881557989, 0.00518764129924502, 0.995945922911051, 0.9929488218963665, 0.15100943011675527, 0.6153377458499075, 0.2229186825533054, 0.01061517535968121, 0.09430469173486515, 0.0002798358805188877, 0.5747828985857953, 0.1978439675268536, 0.13264220736595275, 0.9956012044209127, 0.002613126520789797, 0.919823794042031, 0.009161591574123815, 0.06962809596334099, 0.9971231525601174, 0.010586015205476878, 0.07032138672209641, 0.9187148910467433, 0.9995168251214103, 0.9946849514457236, 0.6261184831372258, 0.17922041082536652, 0.1454644578214465, 0.018383222983159468, 0.030745460041521063, 0.996793495570651, 0.9964819430564035, 0.9995811712212613, 0.9984006857074089, 0.9983007826291092, 0.09733280830254452, 0.05921079171738125, 0.8427398985528647, 0.9977991503502518, 0.07336126527527241, 0.9155083926818243, 0.010049488393872933, 0.9975837697671078, 0.040930965443450505, 0.20289435558527616, 0.7561225659338492, 0.9964292487184813, 0.18638562581692425, 0.05406813343668794, 0.0029886907929827502, 0.6626742585531753, 0.093736211234459, 0.042272443510881524, 0.36485144696891797, 0.000503243375129542, 0.4710357991212513, 0.12128165340621962, 0.995274848584379, 0.9985687117456512, 0.9957324764825519, 0.1931263451067372, 0.3451228677576672, 0.26676940710163227, 0.16647238195101857, 0.02860705528350837, 0.9984313821595961, 0.9977761523558781, 0.999441520079858, 0.9941819281186329, 0.9949298866284533, 0.9953608477710864, 0.9949330831526877, 0.003719959596910786, 0.7204321752683889, 0.27527701017139816, 0.998566314734999, 0.9963918886891971, 0.3750860064229476, 0.00328254964780876, 0.12758176297816712, 0.494133140316812, 0.7801072856880389, 0.18842481557332322, 0.0314041359288872, 0.4203089166848059, 0.20458774774846347, 0.13146343738647456, 0.1603212651054568, 0.08336705785483753, 0.1918015629704479, 0.6955164873616898, 0.06854547660255352, 0.044020030845676565, 0.9966847526558086, 0.5746032474274466, 0.15461962384819442, 0.12902572920175132, 0.1095256189949375, 0.03225643230043783, 0.05078571915921787, 0.7651342963438208, 0.08259655423696972, 0.09654867488510649, 0.005022763433329239, 0.6689992271055298, 0.08445865117870162, 0.20351783566358406, 0.02167744255326991, 0.02134394343706576, 0.08830261152573494, 0.12454909835289252, 0.060153744096133846, 0.7268577411616173, 0.13545543654146633, 0.7653110570843709, 0.09922049929787839, 0.9931397610334981, 0.1653526234614789, 0.19222242477396922, 0.0058562387475940446, 0.6366076003266937, 0.06840303505558504, 0.1032379140190774, 0.7739676744252306, 0.008233698664098198, 0.04560202337039002, 0.14215928471756978, 0.042750799389703956, 0.8148405377652007, 0.996184292665223, 0.002947290806701843, 0.9968197897361856, 0.14064328858909728, 0.12271816357283977, 0.12409701934332111, 0.6122119620937175, 0.1823938474487334, 0.2327969186124987, 0.41257995949735365, 0.16904972501113225, 0.0031909858002959327, 0.0944343646883091, 0.3165397699049467, 0.5887639720232009, 0.43283157957124496, 0.15941704634292647, 0.2420133563194058, 0.08371778058036906, 0.08197950114433997, 0.9971910151458654, 0.015491814058489975, 0.10421765821165982, 0.8802167078687485, 0.9979901012577596, 0.9967432967955085, 0.9703069340353099, 0.028719444136351666, 0.002985626665668414, 0.9971993063332502, 0.3678293664052817, 0.03914514358074558, 0.061754838579969315, 0.5311591034145995, 0.9990881276384903, 0.7474351595920202, 0.17697192712675117, 0.0754784685899855, 0.96270556781598, 0.03650562824870997, 0.9973780777430861, 0.9977655177585945, 0.9935795092743065, 0.9091632302615147, 0.029906685205970878, 0.06152232385228295, 0.9972867624643154, 0.5936580364342507, 0.05848039946461502, 0.05705938041220381, 0.16079377123822186, 0.13002324329562537, 0.26794330170594877, 0.010923348031177766, 0.05076144085076727, 0.37091192064690387, 0.2994282460311082, 0.9944867397961589, 0.004957842063360608, 0.9952867942196422, 0.35241682099127786, 0.18390950647983959, 0.4635326344776017, 0.9991741265730009, 0.5180977270466092, 0.014387797233508057, 0.3432174773393267, 0.0566947724320377, 0.06762264699748786, 0.022951913327639392, 0.9767314227206542, 0.033873924970219106, 0.9654068616512446, 0.7410687206272144, 0.010335883952194622, 0.10661535090414453, 0.04714862131617547, 0.09472200498655071, 0.9940374846024036, 0.2196512707754347, 0.06668083088806645, 0.6042469691924374, 0.0021421354239164673, 0.10727155084381695, 0.14295809651649982, 0.7904741807382931, 0.06643346838119697, 0.047640920170850976, 0.9509127666101855, 0.9986547845099345, 0.9961208210980154, 0.9951153766252759, 0.9930695664568997, 0.9979788315163909, 0.020078876169620452, 0.2119955763025043, 0.0952579241535482, 0.6000315320456344, 0.0723773443323528, 0.8962929400247568, 0.10283413131965918, 0.10256474915031127, 0.7203384707766048, 0.1303923942686128, 0.013118746984342141, 0.034188249716770425, 0.9969125365096932, 0.9981519771515394, 0.2400295052075182, 0.14267675616804434, 0.1338265062553649, 0.48354547250184954, 0.9962258187461834, 0.9575294238328376, 0.00679634449092708, 0.03549202123039698, 0.15074755953555588, 0.8491701764209968, 0.192813181880583, 0.4630401350399038, 0.344034492856751, 0.034429236438004565, 0.7651656471922884, 0.19531351885858667, 0.004826528472617463, 0.026086880699526457, 0.9735820759181761, 0.9957909662408219, 0.9087791973677487, 0.09066948414104832, 0.9981678838572814, 0.9957307034834345, 0.0419130715337909, 0.8779089307753498, 0.07929500019906385, 0.04018482900024205, 0.8993747442911315, 0.05740689857177435, 0.3266704736360628, 0.02478531666434467, 0.6483838839392566, 0.8119317611501096, 0.04601266178890822, 0.14187237384913368, 0.9945067179187599, 0.9983798520195512, 0.07545643231690642, 0.923443005021188, 0.3301910365488987, 0.1267719454988771, 0.5428564499193759, 0.9161617307334959, 0.03003808953224577, 0.05340104805732581, 0.8971079157724854, 0.06415187138895184, 0.03818563773151896, 0.998064965201463, 0.07837432750399935, 0.9217502430361662, 0.20758352400962785, 0.0063143277265286036, 0.7770569558459263, 0.009076846106884867, 0.13870796763975546, 0.0004375645666869257, 0.7377338594341568, 0.12295564323902614, 0.009184737608502332, 0.9904208721168347, 0.0733369897268573, 0.07189900953613461, 0.8541602332892791, 0.008468767813880979, 0.9908458342240745, 0.9894584891229813, 0.009796618704187934, 0.6905747260764837, 0.15996544192566173, 0.06412993003809603, 0.031705581849469644, 0.053667886657036784, 0.9921236458315432, 0.08973867903360085, 0.16329107113275912, 0.0856921072999902, 0.27421474335996865, 0.3868046510069002, 0.8970003570083543, 0.07792914770083485, 0.025106880221607883, 0.9396427977688349, 0.005626603579454101, 0.054658434771839834, 0.9980705260225787, 0.2018699310047938, 0.48063180628434676, 0.007391990678544734, 0.31008257805153117, 0.6216716731755889, 0.11454929278414812, 0.13563473701726156, 0.08768155178734402, 0.04045115365288782, 0.9969971882725424, 0.31995892225506756, 0.12525082365856735, 0.2492816717620188, 0.16420870971860227, 0.14135450098609745, 0.9948260591944478, 0.9943821206293285, 0.24697122173011737, 0.16528903150079863, 0.2701440202777375, 0.31756742195658794, 0.9980651435391621, 0.517971407295916, 0.15845090327708075, 0.2304683181952295, 0.04425545689463161, 0.048850973755667326, 0.5710050294848943, 0.1643414654656838, 0.12429562763714425, 0.08220271822631517, 0.05808565614746628, 0.05724993192579947, 0.24125557823276783, 0.018299831612645576, 0.3056407656038649, 0.3776648735105158, 0.9958704490396448, 0.30213371402134037, 0.3225208066072507, 0.31982251494146846, 0.024284624992040257, 0.03125521179531107, 0.9980527042313654, 0.9986406151674487, 0.17489661618121238, 0.8248855330337778, 0.9987870877888292, 0.997283788235078, 0.06617853917810464, 0.9329039232526363, 0.9969445237269569, 0.2567176541152704, 0.4151687483655915, 0.19250090526735517, 0.06824896331045874, 0.06735291565211574, 0.8075041535320068, 0.12498611568139355, 0.062493057840696774, 0.0038391639629096995, 0.0010664344341415831, 0.8472065516775802, 0.0400118083954504, 0.03711240198998298, 0.05682836554716144, 0.01884614163553823, 0.9967110510034384, 0.2055892741189208, 0.7573683897633192, 0.03686859323105267, 0.995152364041989, 0.9971356507053833, 0.9927444788627913, 0.0030861983710750176, 0.9968420738572307, 0.9986121162750495, 0.9946380594302012, 0.062162808015141284, 0.15400132839931988, 0.7837511824622587, 0.6951775663007217, 0.034562869602733255, 0.23893462029715595, 0.031034712781282222, 0.00026134494973711344, 0.11768697124397745, 0.053770771344231076, 0.3118028376061701, 0.04159625707761272, 0.4751442373499664, 0.408485105719949, 0.1999069094981319, 0.2729637982419946, 0.0837012826262308, 0.03494476625772539, 0.9977306366326579, 0.983706187837141, 0.01586622883608292, 0.2655149467008241, 0.16691729105461164, 0.5198503166984556, 0.003105437973109054, 0.04471830681277037, 0.9418945388708337, 0.05754717257440256, 0.0015134341189137412, 0.8732514866132287, 0.0567537794592653, 0.06734781829166148, 0.0007567170594568706, 0.20486882953708918, 0.22165116690814926, 0.17018533230356497, 0.12642694152865272, 0.2768464098174136, 0.9965516081702361, 0.9976265292921883, 0.6640723596641176, 0.1552469430635685, 0.06800955533289355, 0.09590178134202092, 0.016735335605476423, 0.2256844516056881, 0.7453229014277849, 0.02877476757972523, 0.8657788376195468, 0.004718140804466195, 0.007414221264161163, 0.107169198272875, 0.014828442528322326, 0.8635685584556694, 0.07349519646431228, 0.06285773381816183, 0.3583731363973026, 0.04498311542354871, 0.0965071430387869, 0.14516234951731918, 0.35504530387872374, 0.9968043853819423, 0.29578932745460146, 0.005784463591871169, 0.5706295164953992, 0.1277272095826688, 0.9937495698716577, 0.5921198599218633, 0.3545644451973073, 0.008843384447633542, 0.03216781092826701, 0.01227019592109154, 0.12516659567161603, 0.10967880984356253, 0.5958056384873641, 0.006005467974143193, 0.16341194434905426, 0.02164845974970822, 0.6774163863346198, 0.0037884804561989388, 0.29712511006474535, 0.08186076943095429, 0.7387575402681208, 0.031595384692649026, 0.1476366157456509, 0.9977107741954849, 0.9971163591967892, 0.12299690162191416, 0.028963163647232535, 0.3099058510253881, 0.059857204870947235, 0.4784714634522815, 0.00895394178556743, 0.0022384854463918576, 0.28092992352217816, 0.16452868030980153, 0.5432804178393038, 0.8936776963651297, 0.0544925424612884, 0.04012632672149419, 0.011393895241905757, 0.5062936837885996, 0.033673865619663304, 0.2395903443502335, 0.22006582602146157, 0.00023713989873002327, 0.9968768717566614, 0.38346153342246087, 0.41209506328345075, 0.030585815987875537, 0.1316166230542091, 0.04229953274918957, 0.026400917760834072, 0.8495438179468393, 0.12399002448391717, 0.9993806448542172, 0.9969946008647514, 0.5260718964439319, 0.15983159330694427, 0.28029443336222143, 0.03368523605688418, 0.996189110165029, 0.9984819269368409, 0.17793756017366408, 0.18682749292238732, 0.43852371387061473, 0.15751849589144032, 0.03917126617406188, 0.34604621246443895, 0.32098585501323923, 0.12391546960976212, 0.0439356054038055, 0.16507843972109446, 0.22109808025746974, 0.7302783972057657, 0.047845826023826026, 0.6645501202641354, 0.04442627118756174, 0.23143685868655473, 0.04884316880563014, 0.010763507787720073, 0.9955191585904702, 0.9991462709900905, 0.04857855735612575, 0.9197540192759809, 0.03076641965887964, 0.9001936957309785, 0.08307385089196626, 0.016342396896780246, 0.9574482219198379, 0.04122982773817484, 0.9980700248116554, 0.012631383308933774, 0.07384501011376668, 0.038865794796719304, 0.8326996535197111, 0.04275237427639124, 0.9970955261617139, 0.9968718813597056, 0.9973890993544972, 0.2972112029078677, 0.07922268057136711, 0.6231847802906904, 0.9962096938420323, 0.00015224200078395032, 0.004262776021950609, 0.5600983208841532, 0.025881140133271554, 0.4096832241096103, 0.9963370137911857, 0.9073426756711394, 0.06501209202628101, 0.026852820619550855, 0.9955016796568767, 0.9925519252242155, 0.7104918014805897, 0.12953869877317073, 0.14714056017759308, 0.010817810654801236, 0.002016879952590061, 0.9966259692235315, 0.2682887488037268, 0.14910059508534712, 0.15020846328412368, 0.32442073754173983, 0.10801714938071587, 0.2812268501855506, 0.15134980164711773, 0.3176453962068883, 0.2479298938231847, 0.0018918725205889714, 0.9982576649406079, 0.9974617884902431, 0.9944654471110805, 0.5628870837286316, 0.16734480867607968, 0.20529078737068163, 0.011040410754214088, 0.053419940224130366, 0.6002477475676673, 0.10209975404443174, 0.28107373639064603, 0.014895785230822519, 0.0016467702265230927, 0.17201052094183156, 0.6526281529851844, 0.043424224649531, 0.0025295664844386992, 0.12900789070637367, 0.9988722057550472, 0.26932706419425356, 0.06811081127557156, 0.6061713813958819, 0.0454072075170477, 0.010980827961638987, 0.9976731392240754, 0.11539359183924296, 0.8841424501485657, 0.0035368564468604854, 0.119074167044303, 0.8771403988214004, 0.2547285808988743, 0.21448291106906162, 0.10820542367416704, 0.4176391964973975, 0.005060832733090218, 0.7515683945647459, 0.027962379757614477, 0.019780206135357966, 0.2006618501924266, 0.992333825589776, 0.9990014157886739, 0.122125660558106, 0.05434299728183664, 0.12387866047042331, 0.6994469650146071, 0.006381012423762248, 0.9933109339656566, 0.9988115679546208, 0.8940758967164918, 0.10609314847768511, 0.943429888486871, 0.055705928313380726, 0.6545480297026925, 0.19219195151775395, 0.06363246477712164, 0.06970692542094703, 0.019816683083954942, 0.06736795959599615, 0.08746668787325465, 0.07369533701661456, 0.7711956479718454, 0.9313383655243364, 0.038079669830863375, 0.0296892341054189, 0.9984806381745474, 0.9983313216435549, 0.9968845936736936, 0.9985370667138164, 0.07033552819689476, 0.9298356827629487, 0.23427415697902965, 0.29160797908113867, 0.3971709264421753, 0.022246381909282742, 0.05467112774231068, 0.9725753070769155, 0.027287257581898105, 0.06227514153199107, 0.9236386780902676, 0.005244222444799248, 0.007866333667198872, 0.9969324425159578, 0.9689785184879406, 0.01017834578243635, 0.0203566915648727, 0.9987375402540264, 0.1421395754677243, 0.7909735961260926, 0.06628270358598543, 0.9374364646452049, 0.061471243583292125, 0.994635148627947, 0.999078490569053, 0.9149265726939445, 0.010831093922059191, 0.07401247513407114, 0.9990991808559506, 0.7348682879984774, 0.07374558523928382, 0.07827382292941527, 0.09401483966177702, 0.019083287408411163, 0.710306159967907, 0.12697471363223128, 0.16124325949457785, 0.001393030319607584, 0.9965418193063377, 0.4720026590240622, 0.17688549729193515, 0.1947628641542815, 0.060461656467036655, 0.09593517318490599, 0.00040784650536777417, 0.05505927822464951, 0.41722697499123296, 0.527345531440532, 0.9972621889530259, 0.9958044043973711, 0.21688774705539024, 0.24456449342954711, 0.1452101679737936, 0.16583787706766925, 0.22757260356444814, 0.03494089756870001, 0.0017470448784350006, 0.03494089756870001, 0.9276808304489853, 0.21931839369352965, 0.6346118867023173, 0.03759356129523992, 0.02388616168939432, 0.08468730053512531, 0.9967867302163843, 0.006579292529865814, 0.9934731720097378, 0.002257200223550547, 0.9954252985857912, 0.1056937769528907, 0.04189229428201135, 0.7805449313924184, 0.07030201109395008, 0.0016853221837590773, 0.13736752403864405, 0.6847323707826662, 0.1294728387490668, 0.011578871758046625, 0.036841864684693804, 0.09934983728305581, 0.693743284375673, 0.13388776354883916, 0.07291339989443152, 0.9968074103773927, 0.9968143471336202, 0.7471369287966666, 0.12814150927124143, 0.05940864151244665, 0.013586729673250132, 0.05194926051536815, 0.9325437107821194, 0.0673220821842233, 0.9996598384423371, 0.9969164051325321, 0.734122872522399, 0.050052214080423485, 0.20305677746425002, 0.012744447112938553, 0.7759623132263495, 0.06967824853461096, 0.15213448308575717, 0.00021842711139376478, 0.0020750575582407656, 0.995679836580951, 0.43331060322904036, 0.24999178962405066, 0.1366604785706182, 0.08745250774201874, 0.09261552022533034, 0.2617922059700314, 0.15821768957170623, 0.41839154372301374, 0.07958483061488954, 0.08201235834297528, 0.9858134587425992, 0.010198070262854474, 0.997944921083755, 0.06425343566427667, 0.032950479827834195, 0.14309922668087993, 0.759743920601777, 0.3177030978632821, 0.3949692591261045, 0.1537324657837936, 0.09518295228028845, 0.03855309495722608, 0.029729886424132636, 0.19155078721371532, 0.2961698812125618, 0.48264024479683676, 0.08212526268659981, 0.6806013149084881, 0.23725075887239944, 0.9975282880994368, 0.24300510941305112, 0.29768125903098763, 0.3238510400447008, 0.0568959078289211, 0.07850934304113959, 0.1343886490768713, 0.6977565106525873, 0.027809136294124855, 0.0254140910630519, 0.11456299688632296, 0.8743438500120608, 0.029297755167945517, 0.0014119400080937598, 0.09459998054228191, 0.00035298500202343995, 0.9730883955088326, 0.0031539566679981233, 0.023561911578574214, 0.6003222398853099, 0.20076824273013358, 0.12977038030406904, 0.011110194876446395, 0.05798778292390609, 0.2625347465220314, 0.2425128164102398, 0.2056184732828935, 0.02305896445459145, 0.26624667738545343, 0.1897148966767047, 0.07886187861855175, 0.05207859908772285, 0.6792537281012995, 0.022991377103863394, 0.23523052699390234, 0.06796825856329616, 0.12214169086427429, 0.5516493543858223, 0.0017735354292917358, 0.9976136789766014, 0.003847249407156597, 0.9951551799845064], \"Term\": [\"abc\", \"acting\", \"acting\", \"acting\", \"acting\", \"acting\", \"action\", \"action\", \"action\", \"action\", \"actor\", \"actor\", \"actor\", \"actor\", \"actor\", \"actors\", \"actors\", \"actors\", \"actors\", \"adaptation\", \"adaptation\", \"adaptations\", \"akshay\", \"alien\", \"alien\", \"alien\", \"also\", \"also\", \"also\", \"also\", \"also\", \"amazing\", \"amazing\", \"amazing\", \"amazing\", \"american\", \"american\", \"american\", \"american\", \"american\", \"andrews\", \"animated\", \"animated\", \"animated\", \"animation\", \"animation\", \"animation\", \"ann\", \"annoying\", \"annoying\", \"annoying\", \"anyways\", \"apes\", \"argento\", \"around\", \"around\", \"around\", \"around\", \"around\", \"art\", \"art\", \"art\", \"art\", \"art\", \"arthur\", \"arthur\", \"artistic\", \"artistic\", \"artistic\", \"audience\", \"audience\", \"audience\", \"audience\", \"audience\", \"aunt\", \"austen\", \"awful\", \"awful\", \"back\", \"back\", \"back\", \"back\", \"back\", \"bad\", \"bad\", \"bad\", \"bad\", \"bakshi\", \"batman\", \"beast\", \"beast\", \"belushi\", \"best\", \"best\", \"best\", \"best\", \"best\", \"better\", \"better\", \"better\", \"better\", \"better\", \"bettie\", \"bleak\", \"blood\", \"blood\", \"blood\", \"boll\", \"book\", \"book\", \"book\", \"book\", \"boring\", \"boring\", \"boring\", \"boring\", \"bourne\", \"boy\", \"boy\", \"boy\", \"boy\", \"boy\", \"branagh\", \"brilliant\", \"brilliant\", \"brilliant\", \"brilliant\", \"brother\", \"brother\", \"brother\", \"brother\", \"btw\", \"cagney\", \"caine\", \"caine\", \"canceled\", \"cant\", \"cant\", \"car\", \"car\", \"car\", \"cast\", \"cast\", \"cast\", \"cast\", \"cast\", \"chan\", \"chan\", \"character\", \"character\", \"character\", \"character\", \"character\", \"characters\", \"characters\", \"characters\", \"characters\", \"characters\", \"charles\", \"charles\", \"charles\", \"che\", \"choreography\", \"choreography\", \"christie\", \"cinderella\", \"cinema\", \"cinema\", \"cinema\", \"cinema\", \"classic\", \"classic\", \"classic\", \"classic\", \"classic\", \"columbo\", \"columbo\", \"conflict\", \"conflict\", \"conflict\", \"cooper\", \"cop\", \"cop\", \"cop\", \"cops\", \"corpse\", \"could\", \"could\", \"could\", \"could\", \"could\", \"countries\", \"cox\", \"crap\", \"crappy\", \"creature\", \"creepy\", \"creepy\", \"creepy\", \"cultural\", \"culture\", \"culture\", \"culture\", \"dalton\", \"daughter\", \"daughter\", \"daughter\", \"daughters\", \"dead\", \"dead\", \"dead\", \"dead\", \"dead\", \"death\", \"death\", \"death\", \"death\", \"death\", \"depicting\", \"diane\", \"dickens\", \"director\", \"director\", \"director\", \"director\", \"director\", \"discussion\", \"documentaries\", \"documentary\", \"donna\", \"dont\", \"doo\", \"dorothy\", \"dr\", \"dr\", \"dr\", \"dracula\", \"dumber\", \"effects\", \"effects\", \"effects\", \"effects\", \"emotional\", \"emotional\", \"emotional\", \"end\", \"end\", \"end\", \"end\", \"end\", \"enjoyable\", \"enjoyable\", \"enjoyable\", \"enjoyable\", \"environment\", \"even\", \"even\", \"even\", \"even\", \"even\", \"events\", \"events\", \"events\", \"events\", \"events\", \"ever\", \"ever\", \"ever\", \"ever\", \"ever\", \"evil\", \"evil\", \"evil\", \"evil\", \"excellent\", \"excellent\", \"excellent\", \"eyre\", \"family\", \"family\", \"family\", \"family\", \"fantastic\", \"fantastic\", \"fantastic\", \"fantastic\", \"fantastic\", \"father\", \"father\", \"father\", \"fbi\", \"fbi\", \"felix\", \"fight\", \"fight\", \"fight\", \"fight\", \"films\", \"films\", \"films\", \"films\", \"films\", \"finds\", \"finds\", \"finds\", \"first\", \"first\", \"first\", \"first\", \"first\", \"flynn\", \"ford\", \"ford\", \"ford\", \"frankenstein\", \"frankie\", \"freedom\", \"freedom\", \"freeman\", \"freeman\", \"friend\", \"friend\", \"friend\", \"friend\", \"fulci\", \"funny\", \"funny\", \"funny\", \"garbage\", \"garbage\", \"garbo\", \"garfield\", \"gerard\", \"german\", \"german\", \"german\", \"germans\", \"get\", \"get\", \"get\", \"get\", \"get\", \"gets\", \"gets\", \"gets\", \"gets\", \"gets\", \"giallo\", \"giant\", \"giant\", \"girl\", \"girl\", \"girl\", \"gonna\", \"good\", \"good\", \"good\", \"good\", \"good\", \"gore\", \"gore\", \"gory\", \"gory\", \"got\", \"got\", \"got\", \"got\", \"got\", \"graham\", \"great\", \"great\", \"great\", \"great\", \"great\", \"gun\", \"gun\", \"gun\", \"halloween\", \"halloween\", \"hamlet\", \"hammer\", \"hanks\", \"hartley\", \"helicopter\", \"hero\", \"hero\", \"hero\", \"hero\", \"hero\", \"historical\", \"historical\", \"history\", \"history\", \"history\", \"history\", \"history\", \"hitler\", \"holmes\", \"home\", \"home\", \"home\", \"home\", \"hong\", \"horrible\", \"horrible\", \"horrible\", \"horror\", \"horror\", \"house\", \"house\", \"house\", \"human\", \"human\", \"human\", \"human\", \"husband\", \"husband\", \"im\", \"images\", \"images\", \"importance\", \"individuals\", \"issues\", \"issues\", \"issues\", \"jackie\", \"jackie\", \"jackie\", \"james\", \"james\", \"james\", \"jane\", \"jane\", \"jane\", \"jews\", \"jimmy\", \"joan\", \"joan\", \"john\", \"john\", \"john\", \"joke\", \"joke\", \"joke\", \"jokes\", \"jokes\", \"jokes\", \"karloff\", \"kelly\", \"kelly\", \"kill\", \"kill\", \"kill\", \"kill\", \"killed\", \"killed\", \"killed\", \"killed\", \"killer\", \"killer\", \"killing\", \"killing\", \"killing\", \"kills\", \"kills\", \"kinda\", \"kinda\", \"know\", \"know\", \"know\", \"know\", \"know\", \"kramer\", \"later\", \"later\", \"later\", \"later\", \"later\", \"laugh\", \"laugh\", \"laugh\", \"laughing\", \"laughing\", \"laughing\", \"laurel\", \"life\", \"life\", \"life\", \"life\", \"like\", \"like\", \"like\", \"like\", \"like\", \"lincoln\", \"little\", \"little\", \"little\", \"little\", \"little\", \"lol\", \"loneliness\", \"love\", \"love\", \"love\", \"love\", \"lugosi\", \"made\", \"made\", \"made\", \"made\", \"made\", \"make\", \"make\", \"make\", \"make\", \"make\", \"man\", \"man\", \"man\", \"man\", \"man\", \"maniac\", \"many\", \"many\", \"many\", \"many\", \"many\", \"margaret\", \"marie\", \"marriage\", \"marriage\", \"married\", \"marry\", \"mary\", \"mary\", \"matthau\", \"may\", \"may\", \"may\", \"may\", \"may\", \"maybe\", \"maybe\", \"maybe\", \"maybe\", \"maybe\", \"mean\", \"mean\", \"mean\", \"mean\", \"mean\", \"mencia\", \"message\", \"message\", \"message\", \"mins\", \"miyazaki\", \"modesty\", \"monster\", \"monster\", \"morgan\", \"morons\", \"mother\", \"mother\", \"mother\", \"movies\", \"movies\", \"movies\", \"movies\", \"movies\", \"mr\", \"mr\", \"mr\", \"mr\", \"mr\", \"much\", \"much\", \"much\", \"much\", \"much\", \"mummy\", \"murders\", \"murders\", \"music\", \"music\", \"music\", \"music\", \"music\", \"narrative\", \"narrative\", \"nature\", \"nature\", \"nature\", \"nature\", \"nature\", \"new\", \"new\", \"new\", \"new\", \"new\", \"ninja\", \"niro\", \"nothing\", \"nothing\", \"nothing\", \"nothing\", \"nothing\", \"novel\", \"novel\", \"novel\", \"oh\", \"oh\", \"oh\", \"oh\", \"oh\", \"ok\", \"ok\", \"ok\", \"old\", \"old\", \"old\", \"old\", \"old\", \"olivier\", \"original\", \"original\", \"original\", \"original\", \"penguin\", \"people\", \"people\", \"people\", \"people\", \"people\", \"perfect\", \"perfect\", \"perfect\", \"perfect\", \"perfect\", \"performance\", \"performance\", \"performance\", \"performance\", \"performances\", \"performances\", \"performances\", \"performances\", \"philosophical\", \"philosophy\", \"played\", \"played\", \"played\", \"played\", \"played\", \"plays\", \"plays\", \"plays\", \"plays\", \"plays\", \"please\", \"please\", \"please\", \"please\", \"plot\", \"plot\", \"plot\", \"plot\", \"plot\", \"poetic\", \"point\", \"point\", \"point\", \"point\", \"point\", \"police\", \"police\", \"police\", \"political\", \"powell\", \"pretty\", \"pretty\", \"pretty\", \"pretty\", \"profound\", \"propaganda\", \"quite\", \"quite\", \"quite\", \"quite\", \"quite\", \"real\", \"real\", \"real\", \"real\", \"real\", \"reality\", \"reality\", \"reality\", \"really\", \"really\", \"really\", \"really\", \"really\", \"reflect\", \"religion\", \"religious\", \"religious\", \"religious\", \"rent\", \"rent\", \"rent\", \"rented\", \"rented\", \"renting\", \"revenge\", \"revenge\", \"revenge\", \"revenge\", \"revenge\", \"revolution\", \"rita\", \"robbins\", \"robert\", \"robert\", \"robert\", \"rochester\", \"role\", \"role\", \"role\", \"role\", \"role\", \"russia\", \"russian\", \"russian\", \"russian\", \"ruth\", \"salman\", \"say\", \"say\", \"say\", \"say\", \"say\", \"scarecrow\", \"scene\", \"scene\", \"scene\", \"scene\", \"scene\", \"scenes\", \"scenes\", \"scenes\", \"scenes\", \"scenes\", \"scientist\", \"scifi\", \"scooby\", \"see\", \"see\", \"see\", \"see\", \"see\", \"seen\", \"seen\", \"seen\", \"seen\", \"seen\", \"self\", \"self\", \"self\", \"self\", \"self\", \"serial\", \"series\", \"series\", \"series\", \"series\", \"series\", \"sh\", \"shakespeare\", \"shakespeare\", \"ship\", \"ship\", \"ship\", \"shot\", \"shot\", \"shot\", \"shot\", \"shot\", \"show\", \"show\", \"show\", \"show\", \"showtime\", \"sinatra\", \"sister\", \"sister\", \"sister\", \"sister\", \"slasher\", \"slasher\", \"snake\", \"social\", \"social\", \"society\", \"society\", \"something\", \"something\", \"something\", \"something\", \"something\", \"son\", \"son\", \"son\", \"son\", \"sorry\", \"sorry\", \"sorry\", \"soviet\", \"spiritual\", \"spock\", \"stanwyck\", \"stewart\", \"stewart\", \"story\", \"story\", \"story\", \"story\", \"story\", \"stupid\", \"stupid\", \"subject\", \"subject\", \"subject\", \"subject\", \"suck\", \"sucked\", \"sucked\", \"sucked\", \"sucks\", \"superb\", \"superb\", \"superb\", \"sutherland\", \"sutherland\", \"symbolism\", \"tarzan\", \"terrible\", \"terrible\", \"terrible\", \"thats\", \"thing\", \"thing\", \"thing\", \"thing\", \"thing\", \"think\", \"think\", \"think\", \"think\", \"thugs\", \"time\", \"time\", \"time\", \"time\", \"time\", \"town\", \"town\", \"town\", \"town\", \"truck\", \"turkish\", \"two\", \"two\", \"two\", \"two\", \"two\", \"uncle\", \"uncle\", \"uncle\", \"uncle\", \"us\", \"us\", \"us\", \"us\", \"us\", \"uwe\", \"vampire\", \"vampire\", \"vampires\", \"vampires\", \"version\", \"version\", \"version\", \"version\", \"version\", \"view\", \"view\", \"view\", \"view\", \"view\", \"viewer\", \"viewer\", \"viewer\", \"viewer\", \"walken\", \"wanna\", \"want\", \"want\", \"want\", \"want\", \"want\", \"war\", \"war\", \"waste\", \"wasting\", \"watch\", \"watch\", \"watch\", \"watch\", \"watching\", \"watching\", \"watching\", \"watching\", \"watching\", \"wax\", \"way\", \"way\", \"way\", \"way\", \"way\", \"well\", \"well\", \"well\", \"well\", \"well\", \"welles\", \"welles\", \"werewolf\", \"wife\", \"wife\", \"wife\", \"wife\", \"without\", \"without\", \"without\", \"without\", \"without\", \"woman\", \"woman\", \"woman\", \"woman\", \"wonderful\", \"wonderful\", \"wonderful\", \"wong\", \"work\", \"work\", \"work\", \"work\", \"work\", \"world\", \"world\", \"world\", \"world\", \"world\", \"worse\", \"worse\", \"worse\", \"worse\", \"worse\", \"worst\", \"worst\", \"worst\", \"would\", \"would\", \"would\", \"would\", \"would\", \"years\", \"years\", \"years\", \"years\", \"years\", \"york\", \"york\", \"york\", \"york\", \"young\", \"young\", \"young\", \"young\", \"young\", \"zombie\", \"zombie\", \"zombies\", \"zombies\"]}, \"R\": 30, \"lambda.step\": 0.01, \"plot.opts\": {\"xlab\": \"PC1\", \"ylab\": \"PC2\"}, \"topic.order\": [5, 2, 1, 4, 3]};\n",
              "\n",
              "function LDAvis_load_lib(url, callback){\n",
              "  var s = document.createElement('script');\n",
              "  s.src = url;\n",
              "  s.async = true;\n",
              "  s.onreadystatechange = s.onload = callback;\n",
              "  s.onerror = function(){console.warn(\"failed to load library \" + url);};\n",
              "  document.getElementsByTagName(\"head\")[0].appendChild(s);\n",
              "}\n",
              "\n",
              "if(typeof(LDAvis) !== \"undefined\"){\n",
              "   // already loaded: just create the visualization\n",
              "   !function(LDAvis){\n",
              "       new LDAvis(\"#\" + \"ldavis_el7261386397767163204759170659\", ldavis_el7261386397767163204759170659_data);\n",
              "   }(LDAvis);\n",
              "}else if(typeof define === \"function\" && define.amd){\n",
              "   // require.js is available: use it to load d3/LDAvis\n",
              "   require.config({paths: {d3: \"https://d3js.org/d3.v5\"}});\n",
              "   require([\"d3\"], function(d3){\n",
              "      window.d3 = d3;\n",
              "      LDAvis_load_lib(\"https://cdn.jsdelivr.net/gh/bmabey/pyLDAvis@3.4.0/pyLDAvis/js/ldavis.v3.0.0.js\", function(){\n",
              "        new LDAvis(\"#\" + \"ldavis_el7261386397767163204759170659\", ldavis_el7261386397767163204759170659_data);\n",
              "      });\n",
              "    });\n",
              "}else{\n",
              "    // require.js not available: dynamically load d3 & LDAvis\n",
              "    LDAvis_load_lib(\"https://d3js.org/d3.v5.js\", function(){\n",
              "         LDAvis_load_lib(\"https://cdn.jsdelivr.net/gh/bmabey/pyLDAvis@3.4.0/pyLDAvis/js/ldavis.v3.0.0.js\", function(){\n",
              "                 new LDAvis(\"#\" + \"ldavis_el7261386397767163204759170659\", ldavis_el7261386397767163204759170659_data);\n",
              "            })\n",
              "         });\n",
              "}\n",
              "</script>"
            ]
          },
          "metadata": {},
          "execution_count": 27
        }
      ]
    },
    {
      "cell_type": "markdown",
      "source": [
        "This code shows the interactive visualization  to show the patterns identified by the LDA model."
      ],
      "metadata": {
        "id": "NqEX91UqdxDq"
      }
    },
    {
      "cell_type": "code",
      "source": [
        "for idx, topic in lda_model.print_topics(num_words=5):\n",
        "    print(f\"Topic {idx}: {topic}\")"
      ],
      "metadata": {
        "colab": {
          "base_uri": "https://localhost:8080/"
        },
        "id": "iu2GBHo_bBSp",
        "outputId": "9c217c8e-7e11-46b4-9a7f-77f7eb4bf11f"
      },
      "execution_count": 28,
      "outputs": [
        {
          "output_type": "stream",
          "name": "stdout",
          "text": [
            "Topic 0: 0.012*\"great\" + 0.011*\"good\" + 0.010*\"story\" + 0.010*\"well\" + 0.007*\"best\"\n",
            "Topic 1: 0.006*\"story\" + 0.006*\"people\" + 0.005*\"life\" + 0.004*\"world\" + 0.004*\"would\"\n",
            "Topic 2: 0.006*\"man\" + 0.005*\"love\" + 0.005*\"life\" + 0.005*\"young\" + 0.005*\"family\"\n",
            "Topic 3: 0.007*\"horror\" + 0.004*\"man\" + 0.004*\"like\" + 0.004*\"scene\" + 0.003*\"get\"\n",
            "Topic 4: 0.015*\"like\" + 0.010*\"bad\" + 0.010*\"really\" + 0.009*\"good\" + 0.009*\"would\"\n"
          ]
        },
        {
          "output_type": "stream",
          "name": "stderr",
          "text": [
            "/usr/local/lib/python3.10/dist-packages/ipykernel/ipkernel.py:283: DeprecationWarning: `should_run_async` will not call `transform_cell` automatically in the future. Please pass the result to `transformed_cell` argument and any exception that happen during thetransform in `preprocessing_exc_tuple` in IPython 7.17 and above.\n",
            "  and should_run_async(code)\n"
          ]
        }
      ]
    },
    {
      "cell_type": "markdown",
      "source": [
        "This code displays the subject number and the top five words related with each topic that the LDA model identified."
      ],
      "metadata": {
        "id": "Gs0KXMPfxSU1"
      }
    },
    {
      "cell_type": "markdown",
      "metadata": {
        "id": "jHyPkbgT0vt9"
      },
      "source": [
        "## Conclusions"
      ]
    },
    {
      "cell_type": "markdown",
      "metadata": {
        "id": "5sXEl07P0vt9"
      },
      "source": [
        "Many collections of unstructured texts don't come with any labels. Topic models such as Latent Dirichlet Allocation are a useful technique to discover the most prominent topics in such documents. Gensim makes training these topics model easy, and pyLDAvis presents the results in a visually attractive way. Together they form a powerful toolkit to better understand what's inside large sets of documents, and to explore subsets of related texts. While these results are often very revealing already, it's also possible to use them as a starting point, for example for a labelling exercise for supervised text classification. Although traditional topic models are lacking in more semantic information (they don't use word embeddings, for instance), they should be in every NLPer's toolkit as a really quick way of getting insights into large collections of documents."
      ]
    },
    {
      "cell_type": "markdown",
      "source": [
        "# Summary and Conclusion"
      ],
      "metadata": {
        "id": "pY0L-r12e7Ux"
      }
    },
    {
      "cell_type": "markdown",
      "source": [
        "In this activity, I learned about how topic model (LDA) can identify topics in text by organizing words that are connected to each other, and also how to train and visualize the results of these models using tools like Gensim and pyLDAvis."
      ],
      "metadata": {
        "id": "vi1zpdA9eToI"
      }
    }
  ],
  "metadata": {
    "kernelspec": {
      "display_name": "Python 3",
      "language": "python",
      "name": "python3"
    },
    "language_info": {
      "codemirror_mode": {
        "name": "ipython",
        "version": 3
      },
      "file_extension": ".py",
      "mimetype": "text/x-python",
      "name": "python",
      "nbconvert_exporter": "python",
      "pygments_lexer": "ipython3",
      "version": "3.6.3"
    },
    "colab": {
      "provenance": [],
      "include_colab_link": true
    }
  },
  "nbformat": 4,
  "nbformat_minor": 0
}